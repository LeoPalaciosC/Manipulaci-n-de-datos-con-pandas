{
 "cells": [
  {
   "cell_type": "markdown",
   "metadata": {
    "id": "J_0WFRmbFN7M"
   },
   "source": [
    "# Pandas\n",
    "\n",
    "Herramienta de manipulación de datos de alto nivel, construida sobre Numpy y permite el análisis y limpieza de datos en bruto.\n",
    "\n",
    "Los principales tipos de datos que pueden representarse con pandas son:\n",
    "\n",
    "* Datos tabulares que tienen columnas de tipo heterogéneo con etiquetas en columnas y filas.\n",
    "* Series temporales\n",
    "\n",
    "Permite leer y escribir datos en diferentes formatos como lo son: CSV, JSON, Excel, bases SQL"
   ]
  },
  {
   "cell_type": "markdown",
   "metadata": {
    "id": "OP48dZpJIhhU"
   },
   "source": [
    "Se instala empleando\n",
    "\n",
    "* pip install pandas\n",
    "* conda install pandas"
   ]
  },
  {
   "cell_type": "markdown",
   "metadata": {
    "id": "8eO3xaMIItSf"
   },
   "source": [
    "# Manipulación de datos con pandas"
   ]
  },
  {
   "cell_type": "code",
   "execution_count": 1,
   "metadata": {
    "id": "VkwTLkWnFBJT"
   },
   "outputs": [],
   "source": [
    "# Importar librerias\n",
    "import pandas as pd # Importar pandas\n",
    "import numpy  as np # Importar numpy"
   ]
  },
  {
   "cell_type": "code",
   "execution_count": 4,
   "metadata": {
    "colab": {
     "base_uri": "https://localhost:8080/",
     "height": 206
    },
    "executionInfo": {
     "elapsed": 305,
     "status": "ok",
     "timestamp": 1701308192055,
     "user": {
      "displayName": "Leonardo Palacios",
      "userId": "15549802994432042883"
     },
     "user_tz": 300
    },
    "id": "2CYX_rxMJgol",
    "outputId": "e740307a-31ea-4e4d-e0fd-e5d6c53dbefc"
   },
   "outputs": [
    {
     "data": {
      "text/html": [
       "<div>\n",
       "<style scoped>\n",
       "    .dataframe tbody tr th:only-of-type {\n",
       "        vertical-align: middle;\n",
       "    }\n",
       "\n",
       "    .dataframe tbody tr th {\n",
       "        vertical-align: top;\n",
       "    }\n",
       "\n",
       "    .dataframe thead th {\n",
       "        text-align: right;\n",
       "    }\n",
       "</style>\n",
       "<table border=\"1\" class=\"dataframe\">\n",
       "  <thead>\n",
       "    <tr style=\"text-align: right;\">\n",
       "      <th></th>\n",
       "      <th>Income</th>\n",
       "      <th>Phone_type</th>\n",
       "      <th>Class_type</th>\n",
       "    </tr>\n",
       "  </thead>\n",
       "  <tbody>\n",
       "    <tr>\n",
       "      <th>0</th>\n",
       "      <td>89800.0</td>\n",
       "      <td>Android</td>\n",
       "      <td>Luxury</td>\n",
       "    </tr>\n",
       "    <tr>\n",
       "      <th>1</th>\n",
       "      <td>47500.0</td>\n",
       "      <td>Android</td>\n",
       "      <td>Non-Luxury</td>\n",
       "    </tr>\n",
       "    <tr>\n",
       "      <th>2</th>\n",
       "      <td>45000.0</td>\n",
       "      <td>iPhone</td>\n",
       "      <td>Luxury</td>\n",
       "    </tr>\n",
       "    <tr>\n",
       "      <th>3</th>\n",
       "      <td>44700.0</td>\n",
       "      <td>NaN</td>\n",
       "      <td>Luxury</td>\n",
       "    </tr>\n",
       "    <tr>\n",
       "      <th>4</th>\n",
       "      <td>59500.0</td>\n",
       "      <td>iPhone</td>\n",
       "      <td>Luxury</td>\n",
       "    </tr>\n",
       "  </tbody>\n",
       "</table>\n",
       "</div>"
      ],
      "text/plain": [
       "    Income Phone_type  Class_type\n",
       "0  89800.0    Android      Luxury\n",
       "1  47500.0    Android  Non-Luxury\n",
       "2  45000.0     iPhone      Luxury\n",
       "3  44700.0        NaN      Luxury\n",
       "4  59500.0     iPhone      Luxury"
      ]
     },
     "execution_count": 4,
     "metadata": {},
     "output_type": "execute_result"
    }
   ],
   "source": [
    "# Leer archivos separados por comas, extension .csv\n",
    "df = pd.read_csv('../data/Phone.csv')\n",
    "df.head(5) ## mostrar primeros 5 registros"
   ]
  },
  {
   "cell_type": "code",
   "execution_count": 5,
   "metadata": {},
   "outputs": [
    {
     "data": {
      "text/html": [
       "<div>\n",
       "<style scoped>\n",
       "    .dataframe tbody tr th:only-of-type {\n",
       "        vertical-align: middle;\n",
       "    }\n",
       "\n",
       "    .dataframe tbody tr th {\n",
       "        vertical-align: top;\n",
       "    }\n",
       "\n",
       "    .dataframe thead th {\n",
       "        text-align: right;\n",
       "    }\n",
       "</style>\n",
       "<table border=\"1\" class=\"dataframe\">\n",
       "  <thead>\n",
       "    <tr style=\"text-align: right;\">\n",
       "      <th></th>\n",
       "      <th>Income</th>\n",
       "      <th>Phone_type</th>\n",
       "      <th>Class_type</th>\n",
       "    </tr>\n",
       "  </thead>\n",
       "  <tbody>\n",
       "    <tr>\n",
       "      <th>0</th>\n",
       "      <td>89800.0</td>\n",
       "      <td>Android</td>\n",
       "      <td>Luxury</td>\n",
       "    </tr>\n",
       "    <tr>\n",
       "      <th>1</th>\n",
       "      <td>47500.0</td>\n",
       "      <td>Android</td>\n",
       "      <td>Non-Luxury</td>\n",
       "    </tr>\n",
       "    <tr>\n",
       "      <th>2</th>\n",
       "      <td>45000.0</td>\n",
       "      <td>iPhone</td>\n",
       "      <td>Luxury</td>\n",
       "    </tr>\n",
       "    <tr>\n",
       "      <th>3</th>\n",
       "      <td>44700.0</td>\n",
       "      <td>NaN</td>\n",
       "      <td>Luxury</td>\n",
       "    </tr>\n",
       "    <tr>\n",
       "      <th>4</th>\n",
       "      <td>59500.0</td>\n",
       "      <td>iPhone</td>\n",
       "      <td>Luxury</td>\n",
       "    </tr>\n",
       "    <tr>\n",
       "      <th>6</th>\n",
       "      <td>63300.0</td>\n",
       "      <td>iPhone</td>\n",
       "      <td>Non-Luxury</td>\n",
       "    </tr>\n",
       "    <tr>\n",
       "      <th>7</th>\n",
       "      <td>52900.0</td>\n",
       "      <td>Android</td>\n",
       "      <td>Luxury</td>\n",
       "    </tr>\n",
       "    <tr>\n",
       "      <th>8</th>\n",
       "      <td>78200.0</td>\n",
       "      <td>Android</td>\n",
       "      <td>Luxury</td>\n",
       "    </tr>\n",
       "    <tr>\n",
       "      <th>9</th>\n",
       "      <td>145100.0</td>\n",
       "      <td>iPhone</td>\n",
       "      <td>Luxury</td>\n",
       "    </tr>\n",
       "    <tr>\n",
       "      <th>10</th>\n",
       "      <td>88600.0</td>\n",
       "      <td>iPhone</td>\n",
       "      <td>Non-Luxury</td>\n",
       "    </tr>\n",
       "    <tr>\n",
       "      <th>11</th>\n",
       "      <td>65600.0</td>\n",
       "      <td>iPhone</td>\n",
       "      <td>Luxury</td>\n",
       "    </tr>\n",
       "    <tr>\n",
       "      <th>13</th>\n",
       "      <td>94600.0</td>\n",
       "      <td>Android</td>\n",
       "      <td>Luxury</td>\n",
       "    </tr>\n",
       "    <tr>\n",
       "      <th>14</th>\n",
       "      <td>59400.0</td>\n",
       "      <td>iPhone</td>\n",
       "      <td>Luxury</td>\n",
       "    </tr>\n",
       "    <tr>\n",
       "      <th>15</th>\n",
       "      <td>47300.0</td>\n",
       "      <td>iPhone</td>\n",
       "      <td>Non-Luxury</td>\n",
       "    </tr>\n",
       "    <tr>\n",
       "      <th>16</th>\n",
       "      <td>72100.0</td>\n",
       "      <td>NaN</td>\n",
       "      <td>Luxury</td>\n",
       "    </tr>\n",
       "    <tr>\n",
       "      <th>19</th>\n",
       "      <td>83000.0</td>\n",
       "      <td>iPhone</td>\n",
       "      <td>Luxury</td>\n",
       "    </tr>\n",
       "    <tr>\n",
       "      <th>20</th>\n",
       "      <td>64100.0</td>\n",
       "      <td>Android</td>\n",
       "      <td>Non-Luxury</td>\n",
       "    </tr>\n",
       "    <tr>\n",
       "      <th>21</th>\n",
       "      <td>42100.0</td>\n",
       "      <td>iPhone</td>\n",
       "      <td>Non-Luxury</td>\n",
       "    </tr>\n",
       "    <tr>\n",
       "      <th>23</th>\n",
       "      <td>91500.0</td>\n",
       "      <td>iPhone</td>\n",
       "      <td>Non-Luxury</td>\n",
       "    </tr>\n",
       "    <tr>\n",
       "      <th>24</th>\n",
       "      <td>51200.0</td>\n",
       "      <td>Android</td>\n",
       "      <td>Luxury</td>\n",
       "    </tr>\n",
       "    <tr>\n",
       "      <th>25</th>\n",
       "      <td>13800.0</td>\n",
       "      <td>iPhone</td>\n",
       "      <td>Non-Luxury</td>\n",
       "    </tr>\n",
       "    <tr>\n",
       "      <th>26</th>\n",
       "      <td>47500.0</td>\n",
       "      <td>iPhone</td>\n",
       "      <td>Non-Luxury</td>\n",
       "    </tr>\n",
       "  </tbody>\n",
       "</table>\n",
       "</div>"
      ],
      "text/plain": [
       "      Income Phone_type  Class_type\n",
       "0    89800.0    Android      Luxury\n",
       "1    47500.0    Android  Non-Luxury\n",
       "2    45000.0     iPhone      Luxury\n",
       "3    44700.0        NaN      Luxury\n",
       "4    59500.0     iPhone      Luxury\n",
       "6    63300.0     iPhone  Non-Luxury\n",
       "7    52900.0    Android      Luxury\n",
       "8    78200.0    Android      Luxury\n",
       "9   145100.0     iPhone      Luxury\n",
       "10   88600.0     iPhone  Non-Luxury\n",
       "11   65600.0     iPhone      Luxury\n",
       "13   94600.0    Android      Luxury\n",
       "14   59400.0     iPhone      Luxury\n",
       "15   47300.0     iPhone  Non-Luxury\n",
       "16   72100.0        NaN      Luxury\n",
       "19   83000.0     iPhone      Luxury\n",
       "20   64100.0    Android  Non-Luxury\n",
       "21   42100.0     iPhone  Non-Luxury\n",
       "23   91500.0     iPhone  Non-Luxury\n",
       "24   51200.0    Android      Luxury\n",
       "25   13800.0     iPhone  Non-Luxury\n",
       "26   47500.0     iPhone  Non-Luxury"
      ]
     },
     "execution_count": 5,
     "metadata": {},
     "output_type": "execute_result"
    }
   ],
   "source": [
    "# Query \n",
    "df.query('Income > 10000')"
   ]
  },
  {
   "cell_type": "code",
   "execution_count": 6,
   "metadata": {
    "colab": {
     "base_uri": "https://localhost:8080/"
    },
    "executionInfo": {
     "elapsed": 302,
     "status": "ok",
     "timestamp": 1701308419023,
     "user": {
      "displayName": "Leonardo Palacios",
      "userId": "15549802994432042883"
     },
     "user_tz": 300
    },
    "id": "NT6nCgs9KJ4H",
    "outputId": "561b3fe6-1111-4d7f-aebe-e2ce91904318"
   },
   "outputs": [
    {
     "data": {
      "text/plain": [
       "(27, 3)"
      ]
     },
     "execution_count": 6,
     "metadata": {},
     "output_type": "execute_result"
    }
   ],
   "source": [
    "# dimensiones del dataframe\n",
    "df.shape"
   ]
  },
  {
   "cell_type": "code",
   "execution_count": 7,
   "metadata": {
    "colab": {
     "base_uri": "https://localhost:8080/"
    },
    "executionInfo": {
     "elapsed": 242,
     "status": "ok",
     "timestamp": 1701308467175,
     "user": {
      "displayName": "Leonardo Palacios",
      "userId": "15549802994432042883"
     },
     "user_tz": 300
    },
    "id": "fTW5nyJvKQoW",
    "outputId": "7c8be959-a6c7-467b-ec5a-9f81fa64ccb8"
   },
   "outputs": [
    {
     "name": "stdout",
     "output_type": "stream",
     "text": [
      "<class 'pandas.core.frame.DataFrame'>\n",
      "RangeIndex: 27 entries, 0 to 26\n",
      "Data columns (total 3 columns):\n",
      " #   Column      Non-Null Count  Dtype  \n",
      "---  ------      --------------  -----  \n",
      " 0   Income      25 non-null     float64\n",
      " 1   Phone_type  25 non-null     object \n",
      " 2   Class_type  27 non-null     object \n",
      "dtypes: float64(1), object(2)\n",
      "memory usage: 780.0+ bytes\n"
     ]
    }
   ],
   "source": [
    "# Información general del data frame\n",
    "df.info()"
   ]
  },
  {
   "cell_type": "code",
   "execution_count": 8,
   "metadata": {
    "colab": {
     "base_uri": "https://localhost:8080/"
    },
    "executionInfo": {
     "elapsed": 220,
     "status": "ok",
     "timestamp": 1701308569790,
     "user": {
      "displayName": "Leonardo Palacios",
      "userId": "15549802994432042883"
     },
     "user_tz": 300
    },
    "id": "BUo5AQwDLBnA",
    "outputId": "b1ef9f01-c0d5-4aaa-e852-c90b06bda535"
   },
   "outputs": [
    {
     "data": {
      "text/plain": [
       "Income        float64\n",
       "Phone_type     object\n",
       "Class_type     object\n",
       "dtype: object"
      ]
     },
     "execution_count": 8,
     "metadata": {},
     "output_type": "execute_result"
    }
   ],
   "source": [
    "# Tipos de datos que existen en las columnas del dataframe\n",
    "df.dtypes"
   ]
  },
  {
   "cell_type": "markdown",
   "metadata": {
    "id": "HISr5nQVLpHW"
   },
   "source": [
    "El metodo .describe() de los dataframes muestra un resumen de la estadistica descriptiva general de las columnas numericas del dataframe.\n",
    "\n",
    "* Promedio (mean)\n",
    "* Desviacion estandard (std)\n",
    "* Valor minimo\n",
    "* Valor maximo\n",
    "* Cuartiles (25%, 50% y 75%)"
   ]
  },
  {
   "cell_type": "code",
   "execution_count": 9,
   "metadata": {
    "colab": {
     "base_uri": "https://localhost:8080/",
     "height": 300
    },
    "executionInfo": {
     "elapsed": 236,
     "status": "ok",
     "timestamp": 1701308691799,
     "user": {
      "displayName": "Leonardo Palacios",
      "userId": "15549802994432042883"
     },
     "user_tz": 300
    },
    "id": "dCenh1ezLRym",
    "outputId": "d15a68b8-2968-47f6-ee63-1fa0c18eb6c4"
   },
   "outputs": [
    {
     "data": {
      "text/html": [
       "<div>\n",
       "<style scoped>\n",
       "    .dataframe tbody tr th:only-of-type {\n",
       "        vertical-align: middle;\n",
       "    }\n",
       "\n",
       "    .dataframe tbody tr th {\n",
       "        vertical-align: top;\n",
       "    }\n",
       "\n",
       "    .dataframe thead th {\n",
       "        text-align: right;\n",
       "    }\n",
       "</style>\n",
       "<table border=\"1\" class=\"dataframe\">\n",
       "  <thead>\n",
       "    <tr style=\"text-align: right;\">\n",
       "      <th></th>\n",
       "      <th>Income</th>\n",
       "    </tr>\n",
       "  </thead>\n",
       "  <tbody>\n",
       "    <tr>\n",
       "      <th>count</th>\n",
       "      <td>25.000000</td>\n",
       "    </tr>\n",
       "    <tr>\n",
       "      <th>mean</th>\n",
       "      <td>57872.000000</td>\n",
       "    </tr>\n",
       "    <tr>\n",
       "      <th>std</th>\n",
       "      <td>33170.085921</td>\n",
       "    </tr>\n",
       "    <tr>\n",
       "      <th>min</th>\n",
       "      <td>0.000000</td>\n",
       "    </tr>\n",
       "    <tr>\n",
       "      <th>25%</th>\n",
       "      <td>45000.000000</td>\n",
       "    </tr>\n",
       "    <tr>\n",
       "      <th>50%</th>\n",
       "      <td>59400.000000</td>\n",
       "    </tr>\n",
       "    <tr>\n",
       "      <th>75%</th>\n",
       "      <td>78200.000000</td>\n",
       "    </tr>\n",
       "    <tr>\n",
       "      <th>max</th>\n",
       "      <td>145100.000000</td>\n",
       "    </tr>\n",
       "  </tbody>\n",
       "</table>\n",
       "</div>"
      ],
      "text/plain": [
       "              Income\n",
       "count      25.000000\n",
       "mean    57872.000000\n",
       "std     33170.085921\n",
       "min         0.000000\n",
       "25%     45000.000000\n",
       "50%     59400.000000\n",
       "75%     78200.000000\n",
       "max    145100.000000"
      ]
     },
     "execution_count": 9,
     "metadata": {},
     "output_type": "execute_result"
    }
   ],
   "source": [
    "df.describe() # Nos muestra la informacion de las columnas númericas"
   ]
  },
  {
   "cell_type": "code",
   "execution_count": 10,
   "metadata": {},
   "outputs": [
    {
     "data": {
      "text/html": [
       "<div>\n",
       "<style scoped>\n",
       "    .dataframe tbody tr th:only-of-type {\n",
       "        vertical-align: middle;\n",
       "    }\n",
       "\n",
       "    .dataframe tbody tr th {\n",
       "        vertical-align: top;\n",
       "    }\n",
       "\n",
       "    .dataframe thead th {\n",
       "        text-align: right;\n",
       "    }\n",
       "</style>\n",
       "<table border=\"1\" class=\"dataframe\">\n",
       "  <thead>\n",
       "    <tr style=\"text-align: right;\">\n",
       "      <th></th>\n",
       "      <th>Phone_type</th>\n",
       "      <th>Class_type</th>\n",
       "    </tr>\n",
       "  </thead>\n",
       "  <tbody>\n",
       "    <tr>\n",
       "      <th>count</th>\n",
       "      <td>25</td>\n",
       "      <td>27</td>\n",
       "    </tr>\n",
       "    <tr>\n",
       "      <th>unique</th>\n",
       "      <td>2</td>\n",
       "      <td>2</td>\n",
       "    </tr>\n",
       "    <tr>\n",
       "      <th>top</th>\n",
       "      <td>iPhone</td>\n",
       "      <td>Luxury</td>\n",
       "    </tr>\n",
       "    <tr>\n",
       "      <th>freq</th>\n",
       "      <td>15</td>\n",
       "      <td>15</td>\n",
       "    </tr>\n",
       "  </tbody>\n",
       "</table>\n",
       "</div>"
      ],
      "text/plain": [
       "       Phone_type Class_type\n",
       "count          25         27\n",
       "unique          2          2\n",
       "top        iPhone     Luxury\n",
       "freq           15         15"
      ]
     },
     "execution_count": 10,
     "metadata": {},
     "output_type": "execute_result"
    }
   ],
   "source": [
    "df.describe(include=['O']) # Mostrar variables categoricas"
   ]
  },
  {
   "cell_type": "markdown",
   "metadata": {
    "id": "EnGl7soyL_Fo"
   },
   "source": [
    "## Seleccion e Indexación"
   ]
  },
  {
   "cell_type": "code",
   "execution_count": 13,
   "metadata": {
    "colab": {
     "base_uri": "https://localhost:8080/"
    },
    "executionInfo": {
     "elapsed": 353,
     "status": "ok",
     "timestamp": 1701309380752,
     "user": {
      "displayName": "Leonardo Palacios",
      "userId": "15549802994432042883"
     },
     "user_tz": 300
    },
    "id": "MYqMn1mhMAhb",
    "outputId": "fe4bfb92-dcde-43c1-afc5-65da332f9d5a"
   },
   "outputs": [
    {
     "data": {
      "text/plain": [
       "0     Android\n",
       "1     Android\n",
       "2      iPhone\n",
       "3         NaN\n",
       "4      iPhone\n",
       "5     Android\n",
       "6      iPhone\n",
       "7     Android\n",
       "8     Android\n",
       "9      iPhone\n",
       "10     iPhone\n",
       "11     iPhone\n",
       "12    Android\n",
       "13    Android\n",
       "14     iPhone\n",
       "15     iPhone\n",
       "16        NaN\n",
       "17     iPhone\n",
       "18    Android\n",
       "19     iPhone\n",
       "20    Android\n",
       "21     iPhone\n",
       "22     iPhone\n",
       "23     iPhone\n",
       "24    Android\n",
       "25     iPhone\n",
       "26     iPhone\n",
       "Name: Phone_type, dtype: object"
      ]
     },
     "execution_count": 13,
     "metadata": {},
     "output_type": "execute_result"
    }
   ],
   "source": [
    "# Regresara todos los datos de la columna Phone_type\n",
    "df['Phone_type']"
   ]
  },
  {
   "cell_type": "code",
   "execution_count": 15,
   "metadata": {},
   "outputs": [
    {
     "data": {
      "text/plain": [
       "0     Android\n",
       "1     Android\n",
       "2      iPhone\n",
       "3         NaN\n",
       "4      iPhone\n",
       "5     Android\n",
       "6      iPhone\n",
       "7     Android\n",
       "8     Android\n",
       "9      iPhone\n",
       "10     iPhone\n",
       "11     iPhone\n",
       "12    Android\n",
       "13    Android\n",
       "14     iPhone\n",
       "15     iPhone\n",
       "16        NaN\n",
       "17     iPhone\n",
       "18    Android\n",
       "19     iPhone\n",
       "20    Android\n",
       "21     iPhone\n",
       "22     iPhone\n",
       "23     iPhone\n",
       "24    Android\n",
       "25     iPhone\n",
       "26     iPhone\n",
       "Name: Phone_type, dtype: object"
      ]
     },
     "execution_count": 15,
     "metadata": {},
     "output_type": "execute_result"
    }
   ],
   "source": [
    "df.Phone_type"
   ]
  },
  {
   "cell_type": "code",
   "execution_count": 14,
   "metadata": {
    "colab": {
     "base_uri": "https://localhost:8080/",
     "height": 896
    },
    "executionInfo": {
     "elapsed": 311,
     "status": "ok",
     "timestamp": 1701309483955,
     "user": {
      "displayName": "Leonardo Palacios",
      "userId": "15549802994432042883"
     },
     "user_tz": 300
    },
    "id": "5LkCS3b9MJqI",
    "outputId": "b2fe75e0-acf0-48ad-a9c9-daa9a2ffe7dc"
   },
   "outputs": [
    {
     "data": {
      "text/html": [
       "<div>\n",
       "<style scoped>\n",
       "    .dataframe tbody tr th:only-of-type {\n",
       "        vertical-align: middle;\n",
       "    }\n",
       "\n",
       "    .dataframe tbody tr th {\n",
       "        vertical-align: top;\n",
       "    }\n",
       "\n",
       "    .dataframe thead th {\n",
       "        text-align: right;\n",
       "    }\n",
       "</style>\n",
       "<table border=\"1\" class=\"dataframe\">\n",
       "  <thead>\n",
       "    <tr style=\"text-align: right;\">\n",
       "      <th></th>\n",
       "      <th>Phone_type</th>\n",
       "      <th>Income</th>\n",
       "    </tr>\n",
       "  </thead>\n",
       "  <tbody>\n",
       "    <tr>\n",
       "      <th>0</th>\n",
       "      <td>Android</td>\n",
       "      <td>89800.0</td>\n",
       "    </tr>\n",
       "    <tr>\n",
       "      <th>1</th>\n",
       "      <td>Android</td>\n",
       "      <td>47500.0</td>\n",
       "    </tr>\n",
       "    <tr>\n",
       "      <th>2</th>\n",
       "      <td>iPhone</td>\n",
       "      <td>45000.0</td>\n",
       "    </tr>\n",
       "    <tr>\n",
       "      <th>3</th>\n",
       "      <td>NaN</td>\n",
       "      <td>44700.0</td>\n",
       "    </tr>\n",
       "    <tr>\n",
       "      <th>4</th>\n",
       "      <td>iPhone</td>\n",
       "      <td>59500.0</td>\n",
       "    </tr>\n",
       "    <tr>\n",
       "      <th>5</th>\n",
       "      <td>Android</td>\n",
       "      <td>NaN</td>\n",
       "    </tr>\n",
       "    <tr>\n",
       "      <th>6</th>\n",
       "      <td>iPhone</td>\n",
       "      <td>63300.0</td>\n",
       "    </tr>\n",
       "    <tr>\n",
       "      <th>7</th>\n",
       "      <td>Android</td>\n",
       "      <td>52900.0</td>\n",
       "    </tr>\n",
       "    <tr>\n",
       "      <th>8</th>\n",
       "      <td>Android</td>\n",
       "      <td>78200.0</td>\n",
       "    </tr>\n",
       "    <tr>\n",
       "      <th>9</th>\n",
       "      <td>iPhone</td>\n",
       "      <td>145100.0</td>\n",
       "    </tr>\n",
       "    <tr>\n",
       "      <th>10</th>\n",
       "      <td>iPhone</td>\n",
       "      <td>88600.0</td>\n",
       "    </tr>\n",
       "    <tr>\n",
       "      <th>11</th>\n",
       "      <td>iPhone</td>\n",
       "      <td>65600.0</td>\n",
       "    </tr>\n",
       "    <tr>\n",
       "      <th>12</th>\n",
       "      <td>Android</td>\n",
       "      <td>NaN</td>\n",
       "    </tr>\n",
       "    <tr>\n",
       "      <th>13</th>\n",
       "      <td>Android</td>\n",
       "      <td>94600.0</td>\n",
       "    </tr>\n",
       "    <tr>\n",
       "      <th>14</th>\n",
       "      <td>iPhone</td>\n",
       "      <td>59400.0</td>\n",
       "    </tr>\n",
       "    <tr>\n",
       "      <th>15</th>\n",
       "      <td>iPhone</td>\n",
       "      <td>47300.0</td>\n",
       "    </tr>\n",
       "    <tr>\n",
       "      <th>16</th>\n",
       "      <td>NaN</td>\n",
       "      <td>72100.0</td>\n",
       "    </tr>\n",
       "    <tr>\n",
       "      <th>17</th>\n",
       "      <td>iPhone</td>\n",
       "      <td>0.0</td>\n",
       "    </tr>\n",
       "    <tr>\n",
       "      <th>18</th>\n",
       "      <td>Android</td>\n",
       "      <td>0.0</td>\n",
       "    </tr>\n",
       "    <tr>\n",
       "      <th>19</th>\n",
       "      <td>iPhone</td>\n",
       "      <td>83000.0</td>\n",
       "    </tr>\n",
       "    <tr>\n",
       "      <th>20</th>\n",
       "      <td>Android</td>\n",
       "      <td>64100.0</td>\n",
       "    </tr>\n",
       "    <tr>\n",
       "      <th>21</th>\n",
       "      <td>iPhone</td>\n",
       "      <td>42100.0</td>\n",
       "    </tr>\n",
       "    <tr>\n",
       "      <th>22</th>\n",
       "      <td>iPhone</td>\n",
       "      <td>0.0</td>\n",
       "    </tr>\n",
       "    <tr>\n",
       "      <th>23</th>\n",
       "      <td>iPhone</td>\n",
       "      <td>91500.0</td>\n",
       "    </tr>\n",
       "    <tr>\n",
       "      <th>24</th>\n",
       "      <td>Android</td>\n",
       "      <td>51200.0</td>\n",
       "    </tr>\n",
       "    <tr>\n",
       "      <th>25</th>\n",
       "      <td>iPhone</td>\n",
       "      <td>13800.0</td>\n",
       "    </tr>\n",
       "    <tr>\n",
       "      <th>26</th>\n",
       "      <td>iPhone</td>\n",
       "      <td>47500.0</td>\n",
       "    </tr>\n",
       "  </tbody>\n",
       "</table>\n",
       "</div>"
      ],
      "text/plain": [
       "   Phone_type    Income\n",
       "0     Android   89800.0\n",
       "1     Android   47500.0\n",
       "2      iPhone   45000.0\n",
       "3         NaN   44700.0\n",
       "4      iPhone   59500.0\n",
       "5     Android       NaN\n",
       "6      iPhone   63300.0\n",
       "7     Android   52900.0\n",
       "8     Android   78200.0\n",
       "9      iPhone  145100.0\n",
       "10     iPhone   88600.0\n",
       "11     iPhone   65600.0\n",
       "12    Android       NaN\n",
       "13    Android   94600.0\n",
       "14     iPhone   59400.0\n",
       "15     iPhone   47300.0\n",
       "16        NaN   72100.0\n",
       "17     iPhone       0.0\n",
       "18    Android       0.0\n",
       "19     iPhone   83000.0\n",
       "20    Android   64100.0\n",
       "21     iPhone   42100.0\n",
       "22     iPhone       0.0\n",
       "23     iPhone   91500.0\n",
       "24    Android   51200.0\n",
       "25     iPhone   13800.0\n",
       "26     iPhone   47500.0"
      ]
     },
     "execution_count": 14,
     "metadata": {},
     "output_type": "execute_result"
    }
   ],
   "source": [
    "# Seleccionar dos o mas columnas\n",
    "\n",
    "df[['Phone_type','Income']]"
   ]
  },
  {
   "cell_type": "code",
   "execution_count": 16,
   "metadata": {
    "colab": {
     "base_uri": "https://localhost:8080/",
     "height": 206
    },
    "executionInfo": {
     "elapsed": 278,
     "status": "ok",
     "timestamp": 1701309587750,
     "user": {
      "displayName": "Leonardo Palacios",
      "userId": "15549802994432042883"
     },
     "user_tz": 300
    },
    "id": "9FRwrAk2MdNG",
    "outputId": "8321da5a-ae82-4e83-d4b2-95ef373a4d82"
   },
   "outputs": [
    {
     "data": {
      "text/html": [
       "<div>\n",
       "<style scoped>\n",
       "    .dataframe tbody tr th:only-of-type {\n",
       "        vertical-align: middle;\n",
       "    }\n",
       "\n",
       "    .dataframe tbody tr th {\n",
       "        vertical-align: top;\n",
       "    }\n",
       "\n",
       "    .dataframe thead th {\n",
       "        text-align: right;\n",
       "    }\n",
       "</style>\n",
       "<table border=\"1\" class=\"dataframe\">\n",
       "  <thead>\n",
       "    <tr style=\"text-align: right;\">\n",
       "      <th></th>\n",
       "      <th>Income</th>\n",
       "      <th>Phone_type</th>\n",
       "      <th>Class_type</th>\n",
       "      <th>Income_Descuento</th>\n",
       "    </tr>\n",
       "  </thead>\n",
       "  <tbody>\n",
       "    <tr>\n",
       "      <th>0</th>\n",
       "      <td>89800.0</td>\n",
       "      <td>Android</td>\n",
       "      <td>Luxury</td>\n",
       "      <td>17960.0</td>\n",
       "    </tr>\n",
       "    <tr>\n",
       "      <th>1</th>\n",
       "      <td>47500.0</td>\n",
       "      <td>Android</td>\n",
       "      <td>Non-Luxury</td>\n",
       "      <td>9500.0</td>\n",
       "    </tr>\n",
       "    <tr>\n",
       "      <th>2</th>\n",
       "      <td>45000.0</td>\n",
       "      <td>iPhone</td>\n",
       "      <td>Luxury</td>\n",
       "      <td>9000.0</td>\n",
       "    </tr>\n",
       "    <tr>\n",
       "      <th>3</th>\n",
       "      <td>44700.0</td>\n",
       "      <td>NaN</td>\n",
       "      <td>Luxury</td>\n",
       "      <td>8940.0</td>\n",
       "    </tr>\n",
       "    <tr>\n",
       "      <th>4</th>\n",
       "      <td>59500.0</td>\n",
       "      <td>iPhone</td>\n",
       "      <td>Luxury</td>\n",
       "      <td>11900.0</td>\n",
       "    </tr>\n",
       "  </tbody>\n",
       "</table>\n",
       "</div>"
      ],
      "text/plain": [
       "    Income Phone_type  Class_type  Income_Descuento\n",
       "0  89800.0    Android      Luxury           17960.0\n",
       "1  47500.0    Android  Non-Luxury            9500.0\n",
       "2  45000.0     iPhone      Luxury            9000.0\n",
       "3  44700.0        NaN      Luxury            8940.0\n",
       "4  59500.0     iPhone      Luxury           11900.0"
      ]
     },
     "execution_count": 16,
     "metadata": {},
     "output_type": "execute_result"
    }
   ],
   "source": [
    "## Crear una nueva columna\n",
    "\n",
    "df['Income_Descuento'] = df.Income * 0.20\n",
    "df.head()"
   ]
  },
  {
   "cell_type": "code",
   "execution_count": 21,
   "metadata": {
    "colab": {
     "base_uri": "https://localhost:8080/",
     "height": 896
    },
    "executionInfo": {
     "elapsed": 244,
     "status": "ok",
     "timestamp": 1701309744927,
     "user": {
      "displayName": "Leonardo Palacios",
      "userId": "15549802994432042883"
     },
     "user_tz": 300
    },
    "id": "9CdmmomhMzr9",
    "outputId": "3df92c2a-fdad-4716-b5dd-b43cd1cfca8e"
   },
   "outputs": [
    {
     "data": {
      "text/html": [
       "<div>\n",
       "<style scoped>\n",
       "    .dataframe tbody tr th:only-of-type {\n",
       "        vertical-align: middle;\n",
       "    }\n",
       "\n",
       "    .dataframe tbody tr th {\n",
       "        vertical-align: top;\n",
       "    }\n",
       "\n",
       "    .dataframe thead th {\n",
       "        text-align: right;\n",
       "    }\n",
       "</style>\n",
       "<table border=\"1\" class=\"dataframe\">\n",
       "  <thead>\n",
       "    <tr style=\"text-align: right;\">\n",
       "      <th></th>\n",
       "      <th>Income</th>\n",
       "      <th>Phone_type</th>\n",
       "      <th>Class_type</th>\n",
       "    </tr>\n",
       "  </thead>\n",
       "  <tbody>\n",
       "    <tr>\n",
       "      <th>0</th>\n",
       "      <td>89800.0</td>\n",
       "      <td>Android</td>\n",
       "      <td>Luxury</td>\n",
       "    </tr>\n",
       "    <tr>\n",
       "      <th>1</th>\n",
       "      <td>47500.0</td>\n",
       "      <td>Android</td>\n",
       "      <td>Non-Luxury</td>\n",
       "    </tr>\n",
       "    <tr>\n",
       "      <th>2</th>\n",
       "      <td>45000.0</td>\n",
       "      <td>iPhone</td>\n",
       "      <td>Luxury</td>\n",
       "    </tr>\n",
       "    <tr>\n",
       "      <th>3</th>\n",
       "      <td>44700.0</td>\n",
       "      <td>NaN</td>\n",
       "      <td>Luxury</td>\n",
       "    </tr>\n",
       "    <tr>\n",
       "      <th>4</th>\n",
       "      <td>59500.0</td>\n",
       "      <td>iPhone</td>\n",
       "      <td>Luxury</td>\n",
       "    </tr>\n",
       "    <tr>\n",
       "      <th>5</th>\n",
       "      <td>NaN</td>\n",
       "      <td>Android</td>\n",
       "      <td>Non-Luxury</td>\n",
       "    </tr>\n",
       "    <tr>\n",
       "      <th>6</th>\n",
       "      <td>63300.0</td>\n",
       "      <td>iPhone</td>\n",
       "      <td>Non-Luxury</td>\n",
       "    </tr>\n",
       "    <tr>\n",
       "      <th>7</th>\n",
       "      <td>52900.0</td>\n",
       "      <td>Android</td>\n",
       "      <td>Luxury</td>\n",
       "    </tr>\n",
       "    <tr>\n",
       "      <th>8</th>\n",
       "      <td>78200.0</td>\n",
       "      <td>Android</td>\n",
       "      <td>Luxury</td>\n",
       "    </tr>\n",
       "    <tr>\n",
       "      <th>9</th>\n",
       "      <td>145100.0</td>\n",
       "      <td>iPhone</td>\n",
       "      <td>Luxury</td>\n",
       "    </tr>\n",
       "    <tr>\n",
       "      <th>10</th>\n",
       "      <td>88600.0</td>\n",
       "      <td>iPhone</td>\n",
       "      <td>Non-Luxury</td>\n",
       "    </tr>\n",
       "    <tr>\n",
       "      <th>11</th>\n",
       "      <td>65600.0</td>\n",
       "      <td>iPhone</td>\n",
       "      <td>Luxury</td>\n",
       "    </tr>\n",
       "    <tr>\n",
       "      <th>12</th>\n",
       "      <td>NaN</td>\n",
       "      <td>Android</td>\n",
       "      <td>Non-Luxury</td>\n",
       "    </tr>\n",
       "    <tr>\n",
       "      <th>13</th>\n",
       "      <td>94600.0</td>\n",
       "      <td>Android</td>\n",
       "      <td>Luxury</td>\n",
       "    </tr>\n",
       "    <tr>\n",
       "      <th>14</th>\n",
       "      <td>59400.0</td>\n",
       "      <td>iPhone</td>\n",
       "      <td>Luxury</td>\n",
       "    </tr>\n",
       "    <tr>\n",
       "      <th>15</th>\n",
       "      <td>47300.0</td>\n",
       "      <td>iPhone</td>\n",
       "      <td>Non-Luxury</td>\n",
       "    </tr>\n",
       "    <tr>\n",
       "      <th>16</th>\n",
       "      <td>72100.0</td>\n",
       "      <td>NaN</td>\n",
       "      <td>Luxury</td>\n",
       "    </tr>\n",
       "    <tr>\n",
       "      <th>17</th>\n",
       "      <td>0.0</td>\n",
       "      <td>iPhone</td>\n",
       "      <td>Non-Luxury</td>\n",
       "    </tr>\n",
       "    <tr>\n",
       "      <th>18</th>\n",
       "      <td>0.0</td>\n",
       "      <td>Android</td>\n",
       "      <td>Luxury</td>\n",
       "    </tr>\n",
       "    <tr>\n",
       "      <th>19</th>\n",
       "      <td>83000.0</td>\n",
       "      <td>iPhone</td>\n",
       "      <td>Luxury</td>\n",
       "    </tr>\n",
       "    <tr>\n",
       "      <th>20</th>\n",
       "      <td>64100.0</td>\n",
       "      <td>Android</td>\n",
       "      <td>Non-Luxury</td>\n",
       "    </tr>\n",
       "    <tr>\n",
       "      <th>21</th>\n",
       "      <td>42100.0</td>\n",
       "      <td>iPhone</td>\n",
       "      <td>Non-Luxury</td>\n",
       "    </tr>\n",
       "    <tr>\n",
       "      <th>22</th>\n",
       "      <td>0.0</td>\n",
       "      <td>iPhone</td>\n",
       "      <td>Luxury</td>\n",
       "    </tr>\n",
       "    <tr>\n",
       "      <th>23</th>\n",
       "      <td>91500.0</td>\n",
       "      <td>iPhone</td>\n",
       "      <td>Non-Luxury</td>\n",
       "    </tr>\n",
       "    <tr>\n",
       "      <th>24</th>\n",
       "      <td>51200.0</td>\n",
       "      <td>Android</td>\n",
       "      <td>Luxury</td>\n",
       "    </tr>\n",
       "    <tr>\n",
       "      <th>25</th>\n",
       "      <td>13800.0</td>\n",
       "      <td>iPhone</td>\n",
       "      <td>Non-Luxury</td>\n",
       "    </tr>\n",
       "    <tr>\n",
       "      <th>26</th>\n",
       "      <td>47500.0</td>\n",
       "      <td>iPhone</td>\n",
       "      <td>Non-Luxury</td>\n",
       "    </tr>\n",
       "  </tbody>\n",
       "</table>\n",
       "</div>"
      ],
      "text/plain": [
       "      Income Phone_type  Class_type\n",
       "0    89800.0    Android      Luxury\n",
       "1    47500.0    Android  Non-Luxury\n",
       "2    45000.0     iPhone      Luxury\n",
       "3    44700.0        NaN      Luxury\n",
       "4    59500.0     iPhone      Luxury\n",
       "5        NaN    Android  Non-Luxury\n",
       "6    63300.0     iPhone  Non-Luxury\n",
       "7    52900.0    Android      Luxury\n",
       "8    78200.0    Android      Luxury\n",
       "9   145100.0     iPhone      Luxury\n",
       "10   88600.0     iPhone  Non-Luxury\n",
       "11   65600.0     iPhone      Luxury\n",
       "12       NaN    Android  Non-Luxury\n",
       "13   94600.0    Android      Luxury\n",
       "14   59400.0     iPhone      Luxury\n",
       "15   47300.0     iPhone  Non-Luxury\n",
       "16   72100.0        NaN      Luxury\n",
       "17       0.0     iPhone  Non-Luxury\n",
       "18       0.0    Android      Luxury\n",
       "19   83000.0     iPhone      Luxury\n",
       "20   64100.0    Android  Non-Luxury\n",
       "21   42100.0     iPhone  Non-Luxury\n",
       "22       0.0     iPhone      Luxury\n",
       "23   91500.0     iPhone  Non-Luxury\n",
       "24   51200.0    Android      Luxury\n",
       "25   13800.0     iPhone  Non-Luxury\n",
       "26   47500.0     iPhone  Non-Luxury"
      ]
     },
     "execution_count": 21,
     "metadata": {},
     "output_type": "execute_result"
    }
   ],
   "source": [
    "df.drop('Income_Descuento',axis=1) # axis = 0 elimina filas(index) axis = 1 elimina columnas"
   ]
  },
  {
   "cell_type": "code",
   "execution_count": 22,
   "metadata": {
    "colab": {
     "base_uri": "https://localhost:8080/",
     "height": 206
    },
    "executionInfo": {
     "elapsed": 318,
     "status": "ok",
     "timestamp": 1701309757401,
     "user": {
      "displayName": "Leonardo Palacios",
      "userId": "15549802994432042883"
     },
     "user_tz": 300
    },
    "id": "5Am7nLDQNXNR",
    "outputId": "8d75b5dd-28ba-4033-e985-5e7a72224403"
   },
   "outputs": [
    {
     "data": {
      "text/html": [
       "<div>\n",
       "<style scoped>\n",
       "    .dataframe tbody tr th:only-of-type {\n",
       "        vertical-align: middle;\n",
       "    }\n",
       "\n",
       "    .dataframe tbody tr th {\n",
       "        vertical-align: top;\n",
       "    }\n",
       "\n",
       "    .dataframe thead th {\n",
       "        text-align: right;\n",
       "    }\n",
       "</style>\n",
       "<table border=\"1\" class=\"dataframe\">\n",
       "  <thead>\n",
       "    <tr style=\"text-align: right;\">\n",
       "      <th></th>\n",
       "      <th>Income</th>\n",
       "      <th>Phone_type</th>\n",
       "      <th>Class_type</th>\n",
       "      <th>Income_Descuento</th>\n",
       "    </tr>\n",
       "  </thead>\n",
       "  <tbody>\n",
       "    <tr>\n",
       "      <th>0</th>\n",
       "      <td>89800.0</td>\n",
       "      <td>Android</td>\n",
       "      <td>Luxury</td>\n",
       "      <td>17960.0</td>\n",
       "    </tr>\n",
       "    <tr>\n",
       "      <th>1</th>\n",
       "      <td>47500.0</td>\n",
       "      <td>Android</td>\n",
       "      <td>Non-Luxury</td>\n",
       "      <td>9500.0</td>\n",
       "    </tr>\n",
       "    <tr>\n",
       "      <th>2</th>\n",
       "      <td>45000.0</td>\n",
       "      <td>iPhone</td>\n",
       "      <td>Luxury</td>\n",
       "      <td>9000.0</td>\n",
       "    </tr>\n",
       "    <tr>\n",
       "      <th>3</th>\n",
       "      <td>44700.0</td>\n",
       "      <td>NaN</td>\n",
       "      <td>Luxury</td>\n",
       "      <td>8940.0</td>\n",
       "    </tr>\n",
       "    <tr>\n",
       "      <th>4</th>\n",
       "      <td>59500.0</td>\n",
       "      <td>iPhone</td>\n",
       "      <td>Luxury</td>\n",
       "      <td>11900.0</td>\n",
       "    </tr>\n",
       "  </tbody>\n",
       "</table>\n",
       "</div>"
      ],
      "text/plain": [
       "    Income Phone_type  Class_type  Income_Descuento\n",
       "0  89800.0    Android      Luxury           17960.0\n",
       "1  47500.0    Android  Non-Luxury            9500.0\n",
       "2  45000.0     iPhone      Luxury            9000.0\n",
       "3  44700.0        NaN      Luxury            8940.0\n",
       "4  59500.0     iPhone      Luxury           11900.0"
      ]
     },
     "execution_count": 22,
     "metadata": {},
     "output_type": "execute_result"
    }
   ],
   "source": [
    "df.head()"
   ]
  },
  {
   "cell_type": "code",
   "execution_count": 23,
   "metadata": {
    "id": "X5tT-8BRNZtL"
   },
   "outputs": [],
   "source": [
    "# Para que quede grabado\n",
    "\n",
    "# df = df.drop('Income_Descuento',axis=1) # Forma 1\n",
    "df.drop('Income_Descuento', axis=1, inplace=True) # Forma 2"
   ]
  },
  {
   "cell_type": "code",
   "execution_count": 24,
   "metadata": {
    "colab": {
     "base_uri": "https://localhost:8080/",
     "height": 206
    },
    "executionInfo": {
     "elapsed": 292,
     "status": "ok",
     "timestamp": 1701309861365,
     "user": {
      "displayName": "Leonardo Palacios",
      "userId": "15549802994432042883"
     },
     "user_tz": 300
    },
    "id": "dw9f7iF0Nnbb",
    "outputId": "ed124adb-9709-4005-e3ea-8f8a255ce5ce"
   },
   "outputs": [
    {
     "data": {
      "text/html": [
       "<div>\n",
       "<style scoped>\n",
       "    .dataframe tbody tr th:only-of-type {\n",
       "        vertical-align: middle;\n",
       "    }\n",
       "\n",
       "    .dataframe tbody tr th {\n",
       "        vertical-align: top;\n",
       "    }\n",
       "\n",
       "    .dataframe thead th {\n",
       "        text-align: right;\n",
       "    }\n",
       "</style>\n",
       "<table border=\"1\" class=\"dataframe\">\n",
       "  <thead>\n",
       "    <tr style=\"text-align: right;\">\n",
       "      <th></th>\n",
       "      <th>Income</th>\n",
       "      <th>Phone_type</th>\n",
       "      <th>Class_type</th>\n",
       "    </tr>\n",
       "  </thead>\n",
       "  <tbody>\n",
       "    <tr>\n",
       "      <th>0</th>\n",
       "      <td>89800.0</td>\n",
       "      <td>Android</td>\n",
       "      <td>Luxury</td>\n",
       "    </tr>\n",
       "    <tr>\n",
       "      <th>1</th>\n",
       "      <td>47500.0</td>\n",
       "      <td>Android</td>\n",
       "      <td>Non-Luxury</td>\n",
       "    </tr>\n",
       "    <tr>\n",
       "      <th>2</th>\n",
       "      <td>45000.0</td>\n",
       "      <td>iPhone</td>\n",
       "      <td>Luxury</td>\n",
       "    </tr>\n",
       "    <tr>\n",
       "      <th>3</th>\n",
       "      <td>44700.0</td>\n",
       "      <td>NaN</td>\n",
       "      <td>Luxury</td>\n",
       "    </tr>\n",
       "    <tr>\n",
       "      <th>4</th>\n",
       "      <td>59500.0</td>\n",
       "      <td>iPhone</td>\n",
       "      <td>Luxury</td>\n",
       "    </tr>\n",
       "  </tbody>\n",
       "</table>\n",
       "</div>"
      ],
      "text/plain": [
       "    Income Phone_type  Class_type\n",
       "0  89800.0    Android      Luxury\n",
       "1  47500.0    Android  Non-Luxury\n",
       "2  45000.0     iPhone      Luxury\n",
       "3  44700.0        NaN      Luxury\n",
       "4  59500.0     iPhone      Luxury"
      ]
     },
     "execution_count": 24,
     "metadata": {},
     "output_type": "execute_result"
    }
   ],
   "source": [
    "df.head()"
   ]
  },
  {
   "cell_type": "code",
   "execution_count": 25,
   "metadata": {
    "colab": {
     "base_uri": "https://localhost:8080/"
    },
    "executionInfo": {
     "elapsed": 320,
     "status": "ok",
     "timestamp": 1701309886398,
     "user": {
      "displayName": "Leonardo Palacios",
      "userId": "15549802994432042883"
     },
     "user_tz": 300
    },
    "id": "NCrouIhCNutd",
    "outputId": "cef6c6af-52fe-4b05-8eaf-c05522357dc0"
   },
   "outputs": [
    {
     "data": {
      "text/plain": [
       "Index(['Income', 'Phone_type', 'Class_type'], dtype='object')"
      ]
     },
     "execution_count": 25,
     "metadata": {},
     "output_type": "execute_result"
    }
   ],
   "source": [
    "df.columns # nombres de las columnas"
   ]
  },
  {
   "cell_type": "code",
   "execution_count": 26,
   "metadata": {
    "colab": {
     "base_uri": "https://localhost:8080/"
    },
    "executionInfo": {
     "elapsed": 237,
     "status": "ok",
     "timestamp": 1701309942645,
     "user": {
      "displayName": "Leonardo Palacios",
      "userId": "15549802994432042883"
     },
     "user_tz": 300
    },
    "id": "uXczg4pQNv8y",
    "outputId": "2d5b9079-3bbc-4de7-9322-7438065b3dc2"
   },
   "outputs": [
    {
     "data": {
      "text/plain": [
       "RangeIndex(start=0, stop=27, step=1)"
      ]
     },
     "execution_count": 26,
     "metadata": {},
     "output_type": "execute_result"
    }
   ],
   "source": [
    "df.index # nombres de los indices"
   ]
  },
  {
   "cell_type": "markdown",
   "metadata": {
    "id": "tWxoz0BLN8QO"
   },
   "source": [
    "## Filtros"
   ]
  },
  {
   "cell_type": "code",
   "execution_count": 30,
   "metadata": {
    "colab": {
     "base_uri": "https://localhost:8080/",
     "height": 739
    },
    "executionInfo": {
     "elapsed": 237,
     "status": "ok",
     "timestamp": 1701310408116,
     "user": {
      "displayName": "Leonardo Palacios",
      "userId": "15549802994432042883"
     },
     "user_tz": 300
    },
    "id": "qdkJiT_7N9X-",
    "outputId": "3a52a3c9-56d2-43ee-aa64-42db7067f0d2"
   },
   "outputs": [
    {
     "data": {
      "text/html": [
       "<div>\n",
       "<style scoped>\n",
       "    .dataframe tbody tr th:only-of-type {\n",
       "        vertical-align: middle;\n",
       "    }\n",
       "\n",
       "    .dataframe tbody tr th {\n",
       "        vertical-align: top;\n",
       "    }\n",
       "\n",
       "    .dataframe thead th {\n",
       "        text-align: right;\n",
       "    }\n",
       "</style>\n",
       "<table border=\"1\" class=\"dataframe\">\n",
       "  <thead>\n",
       "    <tr style=\"text-align: right;\">\n",
       "      <th></th>\n",
       "      <th>Income</th>\n",
       "      <th>Phone_type</th>\n",
       "      <th>Class_type</th>\n",
       "    </tr>\n",
       "  </thead>\n",
       "  <tbody>\n",
       "    <tr>\n",
       "      <th>0</th>\n",
       "      <td>89800.0</td>\n",
       "      <td>Android</td>\n",
       "      <td>Luxury</td>\n",
       "    </tr>\n",
       "    <tr>\n",
       "      <th>1</th>\n",
       "      <td>47500.0</td>\n",
       "      <td>Android</td>\n",
       "      <td>Non-Luxury</td>\n",
       "    </tr>\n",
       "    <tr>\n",
       "      <th>2</th>\n",
       "      <td>45000.0</td>\n",
       "      <td>iPhone</td>\n",
       "      <td>Luxury</td>\n",
       "    </tr>\n",
       "    <tr>\n",
       "      <th>3</th>\n",
       "      <td>44700.0</td>\n",
       "      <td>NaN</td>\n",
       "      <td>Luxury</td>\n",
       "    </tr>\n",
       "    <tr>\n",
       "      <th>4</th>\n",
       "      <td>59500.0</td>\n",
       "      <td>iPhone</td>\n",
       "      <td>Luxury</td>\n",
       "    </tr>\n",
       "    <tr>\n",
       "      <th>6</th>\n",
       "      <td>63300.0</td>\n",
       "      <td>iPhone</td>\n",
       "      <td>Non-Luxury</td>\n",
       "    </tr>\n",
       "    <tr>\n",
       "      <th>7</th>\n",
       "      <td>52900.0</td>\n",
       "      <td>Android</td>\n",
       "      <td>Luxury</td>\n",
       "    </tr>\n",
       "    <tr>\n",
       "      <th>8</th>\n",
       "      <td>78200.0</td>\n",
       "      <td>Android</td>\n",
       "      <td>Luxury</td>\n",
       "    </tr>\n",
       "    <tr>\n",
       "      <th>9</th>\n",
       "      <td>145100.0</td>\n",
       "      <td>iPhone</td>\n",
       "      <td>Luxury</td>\n",
       "    </tr>\n",
       "    <tr>\n",
       "      <th>10</th>\n",
       "      <td>88600.0</td>\n",
       "      <td>iPhone</td>\n",
       "      <td>Non-Luxury</td>\n",
       "    </tr>\n",
       "    <tr>\n",
       "      <th>11</th>\n",
       "      <td>65600.0</td>\n",
       "      <td>iPhone</td>\n",
       "      <td>Luxury</td>\n",
       "    </tr>\n",
       "    <tr>\n",
       "      <th>13</th>\n",
       "      <td>94600.0</td>\n",
       "      <td>Android</td>\n",
       "      <td>Luxury</td>\n",
       "    </tr>\n",
       "    <tr>\n",
       "      <th>14</th>\n",
       "      <td>59400.0</td>\n",
       "      <td>iPhone</td>\n",
       "      <td>Luxury</td>\n",
       "    </tr>\n",
       "    <tr>\n",
       "      <th>15</th>\n",
       "      <td>47300.0</td>\n",
       "      <td>iPhone</td>\n",
       "      <td>Non-Luxury</td>\n",
       "    </tr>\n",
       "    <tr>\n",
       "      <th>16</th>\n",
       "      <td>72100.0</td>\n",
       "      <td>NaN</td>\n",
       "      <td>Luxury</td>\n",
       "    </tr>\n",
       "    <tr>\n",
       "      <th>19</th>\n",
       "      <td>83000.0</td>\n",
       "      <td>iPhone</td>\n",
       "      <td>Luxury</td>\n",
       "    </tr>\n",
       "    <tr>\n",
       "      <th>20</th>\n",
       "      <td>64100.0</td>\n",
       "      <td>Android</td>\n",
       "      <td>Non-Luxury</td>\n",
       "    </tr>\n",
       "    <tr>\n",
       "      <th>21</th>\n",
       "      <td>42100.0</td>\n",
       "      <td>iPhone</td>\n",
       "      <td>Non-Luxury</td>\n",
       "    </tr>\n",
       "    <tr>\n",
       "      <th>23</th>\n",
       "      <td>91500.0</td>\n",
       "      <td>iPhone</td>\n",
       "      <td>Non-Luxury</td>\n",
       "    </tr>\n",
       "    <tr>\n",
       "      <th>24</th>\n",
       "      <td>51200.0</td>\n",
       "      <td>Android</td>\n",
       "      <td>Luxury</td>\n",
       "    </tr>\n",
       "    <tr>\n",
       "      <th>25</th>\n",
       "      <td>13800.0</td>\n",
       "      <td>iPhone</td>\n",
       "      <td>Non-Luxury</td>\n",
       "    </tr>\n",
       "    <tr>\n",
       "      <th>26</th>\n",
       "      <td>47500.0</td>\n",
       "      <td>iPhone</td>\n",
       "      <td>Non-Luxury</td>\n",
       "    </tr>\n",
       "  </tbody>\n",
       "</table>\n",
       "</div>"
      ],
      "text/plain": [
       "      Income Phone_type  Class_type\n",
       "0    89800.0    Android      Luxury\n",
       "1    47500.0    Android  Non-Luxury\n",
       "2    45000.0     iPhone      Luxury\n",
       "3    44700.0        NaN      Luxury\n",
       "4    59500.0     iPhone      Luxury\n",
       "6    63300.0     iPhone  Non-Luxury\n",
       "7    52900.0    Android      Luxury\n",
       "8    78200.0    Android      Luxury\n",
       "9   145100.0     iPhone      Luxury\n",
       "10   88600.0     iPhone  Non-Luxury\n",
       "11   65600.0     iPhone      Luxury\n",
       "13   94600.0    Android      Luxury\n",
       "14   59400.0     iPhone      Luxury\n",
       "15   47300.0     iPhone  Non-Luxury\n",
       "16   72100.0        NaN      Luxury\n",
       "19   83000.0     iPhone      Luxury\n",
       "20   64100.0    Android  Non-Luxury\n",
       "21   42100.0     iPhone  Non-Luxury\n",
       "23   91500.0     iPhone  Non-Luxury\n",
       "24   51200.0    Android      Luxury\n",
       "25   13800.0     iPhone  Non-Luxury\n",
       "26   47500.0     iPhone  Non-Luxury"
      ]
     },
     "execution_count": 30,
     "metadata": {},
     "output_type": "execute_result"
    }
   ],
   "source": [
    "# seleccionar todas las filas donde el valor Income sea mayor que 0\n",
    "df[df['Income']>0]"
   ]
  },
  {
   "cell_type": "code",
   "execution_count": 31,
   "metadata": {
    "colab": {
     "base_uri": "https://localhost:8080/",
     "height": 739
    },
    "executionInfo": {
     "elapsed": 237,
     "status": "ok",
     "timestamp": 1701310453271,
     "user": {
      "displayName": "Leonardo Palacios",
      "userId": "15549802994432042883"
     },
     "user_tz": 300
    },
    "id": "0bE-xTZtOLeo",
    "outputId": "b7aeb66b-9cdd-420e-f058-c37ab657d2f9"
   },
   "outputs": [
    {
     "data": {
      "text/html": [
       "<div>\n",
       "<style scoped>\n",
       "    .dataframe tbody tr th:only-of-type {\n",
       "        vertical-align: middle;\n",
       "    }\n",
       "\n",
       "    .dataframe tbody tr th {\n",
       "        vertical-align: top;\n",
       "    }\n",
       "\n",
       "    .dataframe thead th {\n",
       "        text-align: right;\n",
       "    }\n",
       "</style>\n",
       "<table border=\"1\" class=\"dataframe\">\n",
       "  <thead>\n",
       "    <tr style=\"text-align: right;\">\n",
       "      <th></th>\n",
       "      <th>Income</th>\n",
       "      <th>Phone_type</th>\n",
       "      <th>Class_type</th>\n",
       "    </tr>\n",
       "  </thead>\n",
       "  <tbody>\n",
       "    <tr>\n",
       "      <th>0</th>\n",
       "      <td>89800.0</td>\n",
       "      <td>Android</td>\n",
       "      <td>Luxury</td>\n",
       "    </tr>\n",
       "    <tr>\n",
       "      <th>1</th>\n",
       "      <td>47500.0</td>\n",
       "      <td>Android</td>\n",
       "      <td>Non-Luxury</td>\n",
       "    </tr>\n",
       "    <tr>\n",
       "      <th>2</th>\n",
       "      <td>45000.0</td>\n",
       "      <td>iPhone</td>\n",
       "      <td>Luxury</td>\n",
       "    </tr>\n",
       "    <tr>\n",
       "      <th>3</th>\n",
       "      <td>44700.0</td>\n",
       "      <td>NaN</td>\n",
       "      <td>Luxury</td>\n",
       "    </tr>\n",
       "    <tr>\n",
       "      <th>4</th>\n",
       "      <td>59500.0</td>\n",
       "      <td>iPhone</td>\n",
       "      <td>Luxury</td>\n",
       "    </tr>\n",
       "    <tr>\n",
       "      <th>6</th>\n",
       "      <td>63300.0</td>\n",
       "      <td>iPhone</td>\n",
       "      <td>Non-Luxury</td>\n",
       "    </tr>\n",
       "    <tr>\n",
       "      <th>7</th>\n",
       "      <td>52900.0</td>\n",
       "      <td>Android</td>\n",
       "      <td>Luxury</td>\n",
       "    </tr>\n",
       "    <tr>\n",
       "      <th>8</th>\n",
       "      <td>78200.0</td>\n",
       "      <td>Android</td>\n",
       "      <td>Luxury</td>\n",
       "    </tr>\n",
       "    <tr>\n",
       "      <th>9</th>\n",
       "      <td>145100.0</td>\n",
       "      <td>iPhone</td>\n",
       "      <td>Luxury</td>\n",
       "    </tr>\n",
       "    <tr>\n",
       "      <th>10</th>\n",
       "      <td>88600.0</td>\n",
       "      <td>iPhone</td>\n",
       "      <td>Non-Luxury</td>\n",
       "    </tr>\n",
       "    <tr>\n",
       "      <th>11</th>\n",
       "      <td>65600.0</td>\n",
       "      <td>iPhone</td>\n",
       "      <td>Luxury</td>\n",
       "    </tr>\n",
       "    <tr>\n",
       "      <th>13</th>\n",
       "      <td>94600.0</td>\n",
       "      <td>Android</td>\n",
       "      <td>Luxury</td>\n",
       "    </tr>\n",
       "    <tr>\n",
       "      <th>14</th>\n",
       "      <td>59400.0</td>\n",
       "      <td>iPhone</td>\n",
       "      <td>Luxury</td>\n",
       "    </tr>\n",
       "    <tr>\n",
       "      <th>15</th>\n",
       "      <td>47300.0</td>\n",
       "      <td>iPhone</td>\n",
       "      <td>Non-Luxury</td>\n",
       "    </tr>\n",
       "    <tr>\n",
       "      <th>16</th>\n",
       "      <td>72100.0</td>\n",
       "      <td>NaN</td>\n",
       "      <td>Luxury</td>\n",
       "    </tr>\n",
       "    <tr>\n",
       "      <th>19</th>\n",
       "      <td>83000.0</td>\n",
       "      <td>iPhone</td>\n",
       "      <td>Luxury</td>\n",
       "    </tr>\n",
       "    <tr>\n",
       "      <th>20</th>\n",
       "      <td>64100.0</td>\n",
       "      <td>Android</td>\n",
       "      <td>Non-Luxury</td>\n",
       "    </tr>\n",
       "    <tr>\n",
       "      <th>21</th>\n",
       "      <td>42100.0</td>\n",
       "      <td>iPhone</td>\n",
       "      <td>Non-Luxury</td>\n",
       "    </tr>\n",
       "    <tr>\n",
       "      <th>23</th>\n",
       "      <td>91500.0</td>\n",
       "      <td>iPhone</td>\n",
       "      <td>Non-Luxury</td>\n",
       "    </tr>\n",
       "    <tr>\n",
       "      <th>24</th>\n",
       "      <td>51200.0</td>\n",
       "      <td>Android</td>\n",
       "      <td>Luxury</td>\n",
       "    </tr>\n",
       "    <tr>\n",
       "      <th>25</th>\n",
       "      <td>13800.0</td>\n",
       "      <td>iPhone</td>\n",
       "      <td>Non-Luxury</td>\n",
       "    </tr>\n",
       "    <tr>\n",
       "      <th>26</th>\n",
       "      <td>47500.0</td>\n",
       "      <td>iPhone</td>\n",
       "      <td>Non-Luxury</td>\n",
       "    </tr>\n",
       "  </tbody>\n",
       "</table>\n",
       "</div>"
      ],
      "text/plain": [
       "      Income Phone_type  Class_type\n",
       "0    89800.0    Android      Luxury\n",
       "1    47500.0    Android  Non-Luxury\n",
       "2    45000.0     iPhone      Luxury\n",
       "3    44700.0        NaN      Luxury\n",
       "4    59500.0     iPhone      Luxury\n",
       "6    63300.0     iPhone  Non-Luxury\n",
       "7    52900.0    Android      Luxury\n",
       "8    78200.0    Android      Luxury\n",
       "9   145100.0     iPhone      Luxury\n",
       "10   88600.0     iPhone  Non-Luxury\n",
       "11   65600.0     iPhone      Luxury\n",
       "13   94600.0    Android      Luxury\n",
       "14   59400.0     iPhone      Luxury\n",
       "15   47300.0     iPhone  Non-Luxury\n",
       "16   72100.0        NaN      Luxury\n",
       "19   83000.0     iPhone      Luxury\n",
       "20   64100.0    Android  Non-Luxury\n",
       "21   42100.0     iPhone  Non-Luxury\n",
       "23   91500.0     iPhone  Non-Luxury\n",
       "24   51200.0    Android      Luxury\n",
       "25   13800.0     iPhone  Non-Luxury\n",
       "26   47500.0     iPhone  Non-Luxury"
      ]
     },
     "execution_count": 31,
     "metadata": {},
     "output_type": "execute_result"
    }
   ],
   "source": [
    "## Forma 2\n",
    "df.query('Income > 0')"
   ]
  },
  {
   "cell_type": "code",
   "execution_count": 37,
   "metadata": {
    "colab": {
     "base_uri": "https://localhost:8080/",
     "height": 269
    },
    "executionInfo": {
     "elapsed": 207,
     "status": "ok",
     "timestamp": 1701310599113,
     "user": {
      "displayName": "Leonardo Palacios",
      "userId": "15549802994432042883"
     },
     "user_tz": 300
    },
    "id": "rXVSbVt6OVV0",
    "outputId": "55b731a6-e9c9-4c5b-d28e-c57a7a6839ce"
   },
   "outputs": [
    {
     "data": {
      "text/html": [
       "<div>\n",
       "<style scoped>\n",
       "    .dataframe tbody tr th:only-of-type {\n",
       "        vertical-align: middle;\n",
       "    }\n",
       "\n",
       "    .dataframe tbody tr th {\n",
       "        vertical-align: top;\n",
       "    }\n",
       "\n",
       "    .dataframe thead th {\n",
       "        text-align: right;\n",
       "    }\n",
       "</style>\n",
       "<table border=\"1\" class=\"dataframe\">\n",
       "  <thead>\n",
       "    <tr style=\"text-align: right;\">\n",
       "      <th></th>\n",
       "      <th>Income</th>\n",
       "      <th>Phone_type</th>\n",
       "      <th>Class_type</th>\n",
       "    </tr>\n",
       "  </thead>\n",
       "  <tbody>\n",
       "    <tr>\n",
       "      <th>0</th>\n",
       "      <td>89800.0</td>\n",
       "      <td>Android</td>\n",
       "      <td>Luxury</td>\n",
       "    </tr>\n",
       "    <tr>\n",
       "      <th>1</th>\n",
       "      <td>47500.0</td>\n",
       "      <td>Android</td>\n",
       "      <td>Non-Luxury</td>\n",
       "    </tr>\n",
       "    <tr>\n",
       "      <th>7</th>\n",
       "      <td>52900.0</td>\n",
       "      <td>Android</td>\n",
       "      <td>Luxury</td>\n",
       "    </tr>\n",
       "    <tr>\n",
       "      <th>8</th>\n",
       "      <td>78200.0</td>\n",
       "      <td>Android</td>\n",
       "      <td>Luxury</td>\n",
       "    </tr>\n",
       "    <tr>\n",
       "      <th>13</th>\n",
       "      <td>94600.0</td>\n",
       "      <td>Android</td>\n",
       "      <td>Luxury</td>\n",
       "    </tr>\n",
       "    <tr>\n",
       "      <th>20</th>\n",
       "      <td>64100.0</td>\n",
       "      <td>Android</td>\n",
       "      <td>Non-Luxury</td>\n",
       "    </tr>\n",
       "    <tr>\n",
       "      <th>24</th>\n",
       "      <td>51200.0</td>\n",
       "      <td>Android</td>\n",
       "      <td>Luxury</td>\n",
       "    </tr>\n",
       "  </tbody>\n",
       "</table>\n",
       "</div>"
      ],
      "text/plain": [
       "     Income Phone_type  Class_type\n",
       "0   89800.0    Android      Luxury\n",
       "1   47500.0    Android  Non-Luxury\n",
       "7   52900.0    Android      Luxury\n",
       "8   78200.0    Android      Luxury\n",
       "13  94600.0    Android      Luxury\n",
       "20  64100.0    Android  Non-Luxury\n",
       "24  51200.0    Android      Luxury"
      ]
     },
     "execution_count": 37,
     "metadata": {},
     "output_type": "execute_result"
    }
   ],
   "source": [
    "# Seleccionar las filas donde Income sea mayor que cero y Phone Type sea igual a Android\n",
    "df[(df['Income']>0) & (df['Phone_type']=='Android')]"
   ]
  },
  {
   "cell_type": "markdown",
   "metadata": {
    "id": "n9-x0m9XPDud"
   },
   "source": [
    "# Datos Faltantes (Missing data)"
   ]
  },
  {
   "cell_type": "code",
   "execution_count": 31,
   "metadata": {
    "colab": {
     "base_uri": "https://localhost:8080/"
    },
    "executionInfo": {
     "elapsed": 225,
     "status": "ok",
     "timestamp": 1701311218975,
     "user": {
      "displayName": "Leonardo Palacios",
      "userId": "15549802994432042883"
     },
     "user_tz": 300
    },
    "id": "NgOlYrv7PH_2",
    "outputId": "07a15482-fc05-4405-a39c-3f52b3a63d34"
   },
   "outputs": [
    {
     "data": {
      "text/plain": [
       "Income         True\n",
       "Phone_type     True\n",
       "Class_type    False\n",
       "dtype: bool"
      ]
     },
     "execution_count": 31,
     "metadata": {},
     "output_type": "execute_result"
    }
   ],
   "source": [
    "# Verificar si hay datos faltantes por columna\n",
    "df.isnull().any()"
   ]
  },
  {
   "cell_type": "code",
   "execution_count": 40,
   "metadata": {
    "colab": {
     "base_uri": "https://localhost:8080/"
    },
    "executionInfo": {
     "elapsed": 272,
     "status": "ok",
     "timestamp": 1701311265845,
     "user": {
      "displayName": "Leonardo Palacios",
      "userId": "15549802994432042883"
     },
     "user_tz": 300
    },
    "id": "M_BfFj-MPOoc",
    "outputId": "39bf46f0-3ea1-45c5-a570-8959605627f6"
   },
   "outputs": [
    {
     "data": {
      "text/plain": [
       "Income        2\n",
       "Phone_type    2\n",
       "Class_type    0\n",
       "dtype: int64"
      ]
     },
     "execution_count": 40,
     "metadata": {},
     "output_type": "execute_result"
    }
   ],
   "source": [
    "# Numero de datos faltantes por columna\n",
    "df.isnull().sum()"
   ]
  },
  {
   "cell_type": "code",
   "execution_count": 41,
   "metadata": {
    "colab": {
     "base_uri": "https://localhost:8080/"
    },
    "executionInfo": {
     "elapsed": 256,
     "status": "ok",
     "timestamp": 1701311291197,
     "user": {
      "displayName": "Leonardo Palacios",
      "userId": "15549802994432042883"
     },
     "user_tz": 300
    },
    "id": "GIP7g-0ZPcmP",
    "outputId": "53ec1080-9253-4df6-b6dc-3b3c03d79cf8"
   },
   "outputs": [
    {
     "data": {
      "text/plain": [
       "1"
      ]
     },
     "execution_count": 41,
     "metadata": {},
     "output_type": "execute_result"
    }
   ],
   "source": [
    "# Max cantidad de datos faltantes para un registro\n",
    "max(df.isnull().sum(axis=1))"
   ]
  },
  {
   "cell_type": "code",
   "execution_count": 43,
   "metadata": {
    "colab": {
     "base_uri": "https://localhost:8080/",
     "height": 770
    },
    "executionInfo": {
     "elapsed": 9,
     "status": "ok",
     "timestamp": 1701311384188,
     "user": {
      "displayName": "Leonardo Palacios",
      "userId": "15549802994432042883"
     },
     "user_tz": 300
    },
    "id": "cnaYDsWoQ0Je",
    "outputId": "97ea299d-ff45-4ad1-a32e-fc6da016886f"
   },
   "outputs": [
    {
     "data": {
      "text/html": [
       "<div>\n",
       "<style scoped>\n",
       "    .dataframe tbody tr th:only-of-type {\n",
       "        vertical-align: middle;\n",
       "    }\n",
       "\n",
       "    .dataframe tbody tr th {\n",
       "        vertical-align: top;\n",
       "    }\n",
       "\n",
       "    .dataframe thead th {\n",
       "        text-align: right;\n",
       "    }\n",
       "</style>\n",
       "<table border=\"1\" class=\"dataframe\">\n",
       "  <thead>\n",
       "    <tr style=\"text-align: right;\">\n",
       "      <th></th>\n",
       "      <th>Income</th>\n",
       "      <th>Phone_type</th>\n",
       "      <th>Class_type</th>\n",
       "    </tr>\n",
       "  </thead>\n",
       "  <tbody>\n",
       "    <tr>\n",
       "      <th>0</th>\n",
       "      <td>89800.0</td>\n",
       "      <td>Android</td>\n",
       "      <td>Luxury</td>\n",
       "    </tr>\n",
       "    <tr>\n",
       "      <th>1</th>\n",
       "      <td>47500.0</td>\n",
       "      <td>Android</td>\n",
       "      <td>Non-Luxury</td>\n",
       "    </tr>\n",
       "    <tr>\n",
       "      <th>2</th>\n",
       "      <td>45000.0</td>\n",
       "      <td>iPhone</td>\n",
       "      <td>Luxury</td>\n",
       "    </tr>\n",
       "    <tr>\n",
       "      <th>4</th>\n",
       "      <td>59500.0</td>\n",
       "      <td>iPhone</td>\n",
       "      <td>Luxury</td>\n",
       "    </tr>\n",
       "    <tr>\n",
       "      <th>6</th>\n",
       "      <td>63300.0</td>\n",
       "      <td>iPhone</td>\n",
       "      <td>Non-Luxury</td>\n",
       "    </tr>\n",
       "    <tr>\n",
       "      <th>7</th>\n",
       "      <td>52900.0</td>\n",
       "      <td>Android</td>\n",
       "      <td>Luxury</td>\n",
       "    </tr>\n",
       "    <tr>\n",
       "      <th>8</th>\n",
       "      <td>78200.0</td>\n",
       "      <td>Android</td>\n",
       "      <td>Luxury</td>\n",
       "    </tr>\n",
       "    <tr>\n",
       "      <th>9</th>\n",
       "      <td>145100.0</td>\n",
       "      <td>iPhone</td>\n",
       "      <td>Luxury</td>\n",
       "    </tr>\n",
       "    <tr>\n",
       "      <th>10</th>\n",
       "      <td>88600.0</td>\n",
       "      <td>iPhone</td>\n",
       "      <td>Non-Luxury</td>\n",
       "    </tr>\n",
       "    <tr>\n",
       "      <th>11</th>\n",
       "      <td>65600.0</td>\n",
       "      <td>iPhone</td>\n",
       "      <td>Luxury</td>\n",
       "    </tr>\n",
       "    <tr>\n",
       "      <th>13</th>\n",
       "      <td>94600.0</td>\n",
       "      <td>Android</td>\n",
       "      <td>Luxury</td>\n",
       "    </tr>\n",
       "    <tr>\n",
       "      <th>14</th>\n",
       "      <td>59400.0</td>\n",
       "      <td>iPhone</td>\n",
       "      <td>Luxury</td>\n",
       "    </tr>\n",
       "    <tr>\n",
       "      <th>15</th>\n",
       "      <td>47300.0</td>\n",
       "      <td>iPhone</td>\n",
       "      <td>Non-Luxury</td>\n",
       "    </tr>\n",
       "    <tr>\n",
       "      <th>17</th>\n",
       "      <td>0.0</td>\n",
       "      <td>iPhone</td>\n",
       "      <td>Non-Luxury</td>\n",
       "    </tr>\n",
       "    <tr>\n",
       "      <th>18</th>\n",
       "      <td>0.0</td>\n",
       "      <td>Android</td>\n",
       "      <td>Luxury</td>\n",
       "    </tr>\n",
       "    <tr>\n",
       "      <th>19</th>\n",
       "      <td>83000.0</td>\n",
       "      <td>iPhone</td>\n",
       "      <td>Luxury</td>\n",
       "    </tr>\n",
       "    <tr>\n",
       "      <th>20</th>\n",
       "      <td>64100.0</td>\n",
       "      <td>Android</td>\n",
       "      <td>Non-Luxury</td>\n",
       "    </tr>\n",
       "    <tr>\n",
       "      <th>21</th>\n",
       "      <td>42100.0</td>\n",
       "      <td>iPhone</td>\n",
       "      <td>Non-Luxury</td>\n",
       "    </tr>\n",
       "    <tr>\n",
       "      <th>22</th>\n",
       "      <td>0.0</td>\n",
       "      <td>iPhone</td>\n",
       "      <td>Luxury</td>\n",
       "    </tr>\n",
       "    <tr>\n",
       "      <th>23</th>\n",
       "      <td>91500.0</td>\n",
       "      <td>iPhone</td>\n",
       "      <td>Non-Luxury</td>\n",
       "    </tr>\n",
       "    <tr>\n",
       "      <th>24</th>\n",
       "      <td>51200.0</td>\n",
       "      <td>Android</td>\n",
       "      <td>Luxury</td>\n",
       "    </tr>\n",
       "    <tr>\n",
       "      <th>25</th>\n",
       "      <td>13800.0</td>\n",
       "      <td>iPhone</td>\n",
       "      <td>Non-Luxury</td>\n",
       "    </tr>\n",
       "    <tr>\n",
       "      <th>26</th>\n",
       "      <td>47500.0</td>\n",
       "      <td>iPhone</td>\n",
       "      <td>Non-Luxury</td>\n",
       "    </tr>\n",
       "  </tbody>\n",
       "</table>\n",
       "</div>"
      ],
      "text/plain": [
       "      Income Phone_type  Class_type\n",
       "0    89800.0    Android      Luxury\n",
       "1    47500.0    Android  Non-Luxury\n",
       "2    45000.0     iPhone      Luxury\n",
       "4    59500.0     iPhone      Luxury\n",
       "6    63300.0     iPhone  Non-Luxury\n",
       "7    52900.0    Android      Luxury\n",
       "8    78200.0    Android      Luxury\n",
       "9   145100.0     iPhone      Luxury\n",
       "10   88600.0     iPhone  Non-Luxury\n",
       "11   65600.0     iPhone      Luxury\n",
       "13   94600.0    Android      Luxury\n",
       "14   59400.0     iPhone      Luxury\n",
       "15   47300.0     iPhone  Non-Luxury\n",
       "17       0.0     iPhone  Non-Luxury\n",
       "18       0.0    Android      Luxury\n",
       "19   83000.0     iPhone      Luxury\n",
       "20   64100.0    Android  Non-Luxury\n",
       "21   42100.0     iPhone  Non-Luxury\n",
       "22       0.0     iPhone      Luxury\n",
       "23   91500.0     iPhone  Non-Luxury\n",
       "24   51200.0    Android      Luxury\n",
       "25   13800.0     iPhone  Non-Luxury\n",
       "26   47500.0     iPhone  Non-Luxury"
      ]
     },
     "execution_count": 43,
     "metadata": {},
     "output_type": "execute_result"
    }
   ],
   "source": [
    "# Eliminar todas las filas que tengan datos faltantes\n",
    "df.dropna(axis=0) # cuando son filas no es neceario escribir axis=0"
   ]
  },
  {
   "cell_type": "code",
   "execution_count": 44,
   "metadata": {
    "colab": {
     "base_uri": "https://localhost:8080/",
     "height": 896
    },
    "executionInfo": {
     "elapsed": 285,
     "status": "ok",
     "timestamp": 1701311428241,
     "user": {
      "displayName": "Leonardo Palacios",
      "userId": "15549802994432042883"
     },
     "user_tz": 300
    },
    "id": "--AMV5lyQ7BS",
    "outputId": "5d9f6dbf-2571-45ef-c289-3a0cd78c0f60"
   },
   "outputs": [
    {
     "data": {
      "text/html": [
       "<div>\n",
       "<style scoped>\n",
       "    .dataframe tbody tr th:only-of-type {\n",
       "        vertical-align: middle;\n",
       "    }\n",
       "\n",
       "    .dataframe tbody tr th {\n",
       "        vertical-align: top;\n",
       "    }\n",
       "\n",
       "    .dataframe thead th {\n",
       "        text-align: right;\n",
       "    }\n",
       "</style>\n",
       "<table border=\"1\" class=\"dataframe\">\n",
       "  <thead>\n",
       "    <tr style=\"text-align: right;\">\n",
       "      <th></th>\n",
       "      <th>Class_type</th>\n",
       "    </tr>\n",
       "  </thead>\n",
       "  <tbody>\n",
       "    <tr>\n",
       "      <th>0</th>\n",
       "      <td>Luxury</td>\n",
       "    </tr>\n",
       "    <tr>\n",
       "      <th>1</th>\n",
       "      <td>Non-Luxury</td>\n",
       "    </tr>\n",
       "    <tr>\n",
       "      <th>2</th>\n",
       "      <td>Luxury</td>\n",
       "    </tr>\n",
       "    <tr>\n",
       "      <th>3</th>\n",
       "      <td>Luxury</td>\n",
       "    </tr>\n",
       "    <tr>\n",
       "      <th>4</th>\n",
       "      <td>Luxury</td>\n",
       "    </tr>\n",
       "    <tr>\n",
       "      <th>5</th>\n",
       "      <td>Non-Luxury</td>\n",
       "    </tr>\n",
       "    <tr>\n",
       "      <th>6</th>\n",
       "      <td>Non-Luxury</td>\n",
       "    </tr>\n",
       "    <tr>\n",
       "      <th>7</th>\n",
       "      <td>Luxury</td>\n",
       "    </tr>\n",
       "    <tr>\n",
       "      <th>8</th>\n",
       "      <td>Luxury</td>\n",
       "    </tr>\n",
       "    <tr>\n",
       "      <th>9</th>\n",
       "      <td>Luxury</td>\n",
       "    </tr>\n",
       "    <tr>\n",
       "      <th>10</th>\n",
       "      <td>Non-Luxury</td>\n",
       "    </tr>\n",
       "    <tr>\n",
       "      <th>11</th>\n",
       "      <td>Luxury</td>\n",
       "    </tr>\n",
       "    <tr>\n",
       "      <th>12</th>\n",
       "      <td>Non-Luxury</td>\n",
       "    </tr>\n",
       "    <tr>\n",
       "      <th>13</th>\n",
       "      <td>Luxury</td>\n",
       "    </tr>\n",
       "    <tr>\n",
       "      <th>14</th>\n",
       "      <td>Luxury</td>\n",
       "    </tr>\n",
       "    <tr>\n",
       "      <th>15</th>\n",
       "      <td>Non-Luxury</td>\n",
       "    </tr>\n",
       "    <tr>\n",
       "      <th>16</th>\n",
       "      <td>Luxury</td>\n",
       "    </tr>\n",
       "    <tr>\n",
       "      <th>17</th>\n",
       "      <td>Non-Luxury</td>\n",
       "    </tr>\n",
       "    <tr>\n",
       "      <th>18</th>\n",
       "      <td>Luxury</td>\n",
       "    </tr>\n",
       "    <tr>\n",
       "      <th>19</th>\n",
       "      <td>Luxury</td>\n",
       "    </tr>\n",
       "    <tr>\n",
       "      <th>20</th>\n",
       "      <td>Non-Luxury</td>\n",
       "    </tr>\n",
       "    <tr>\n",
       "      <th>21</th>\n",
       "      <td>Non-Luxury</td>\n",
       "    </tr>\n",
       "    <tr>\n",
       "      <th>22</th>\n",
       "      <td>Luxury</td>\n",
       "    </tr>\n",
       "    <tr>\n",
       "      <th>23</th>\n",
       "      <td>Non-Luxury</td>\n",
       "    </tr>\n",
       "    <tr>\n",
       "      <th>24</th>\n",
       "      <td>Luxury</td>\n",
       "    </tr>\n",
       "    <tr>\n",
       "      <th>25</th>\n",
       "      <td>Non-Luxury</td>\n",
       "    </tr>\n",
       "    <tr>\n",
       "      <th>26</th>\n",
       "      <td>Non-Luxury</td>\n",
       "    </tr>\n",
       "  </tbody>\n",
       "</table>\n",
       "</div>"
      ],
      "text/plain": [
       "    Class_type\n",
       "0       Luxury\n",
       "1   Non-Luxury\n",
       "2       Luxury\n",
       "3       Luxury\n",
       "4       Luxury\n",
       "5   Non-Luxury\n",
       "6   Non-Luxury\n",
       "7       Luxury\n",
       "8       Luxury\n",
       "9       Luxury\n",
       "10  Non-Luxury\n",
       "11      Luxury\n",
       "12  Non-Luxury\n",
       "13      Luxury\n",
       "14      Luxury\n",
       "15  Non-Luxury\n",
       "16      Luxury\n",
       "17  Non-Luxury\n",
       "18      Luxury\n",
       "19      Luxury\n",
       "20  Non-Luxury\n",
       "21  Non-Luxury\n",
       "22      Luxury\n",
       "23  Non-Luxury\n",
       "24      Luxury\n",
       "25  Non-Luxury\n",
       "26  Non-Luxury"
      ]
     },
     "execution_count": 44,
     "metadata": {},
     "output_type": "execute_result"
    }
   ],
   "source": [
    "# Eliminar todas las columnas que tengan datos faltantes\n",
    "df.dropna(axis=1)"
   ]
  },
  {
   "cell_type": "markdown",
   "metadata": {
    "id": "6eHst4IARGIM"
   },
   "source": [
    "## Imputar datos faltantes"
   ]
  },
  {
   "cell_type": "code",
   "execution_count": 45,
   "metadata": {
    "colab": {
     "base_uri": "https://localhost:8080/",
     "height": 896
    },
    "executionInfo": {
     "elapsed": 257,
     "status": "ok",
     "timestamp": 1701311494805,
     "user": {
      "displayName": "Leonardo Palacios",
      "userId": "15549802994432042883"
     },
     "user_tz": 300
    },
    "id": "wePVEOiARII9",
    "outputId": "21d1b7e2-f062-4047-9f5b-5e7d64c8d5ef"
   },
   "outputs": [
    {
     "data": {
      "text/html": [
       "<div>\n",
       "<style scoped>\n",
       "    .dataframe tbody tr th:only-of-type {\n",
       "        vertical-align: middle;\n",
       "    }\n",
       "\n",
       "    .dataframe tbody tr th {\n",
       "        vertical-align: top;\n",
       "    }\n",
       "\n",
       "    .dataframe thead th {\n",
       "        text-align: right;\n",
       "    }\n",
       "</style>\n",
       "<table border=\"1\" class=\"dataframe\">\n",
       "  <thead>\n",
       "    <tr style=\"text-align: right;\">\n",
       "      <th></th>\n",
       "      <th>Income</th>\n",
       "      <th>Phone_type</th>\n",
       "      <th>Class_type</th>\n",
       "    </tr>\n",
       "  </thead>\n",
       "  <tbody>\n",
       "    <tr>\n",
       "      <th>0</th>\n",
       "      <td>89800.0</td>\n",
       "      <td>Android</td>\n",
       "      <td>Luxury</td>\n",
       "    </tr>\n",
       "    <tr>\n",
       "      <th>1</th>\n",
       "      <td>47500.0</td>\n",
       "      <td>Android</td>\n",
       "      <td>Non-Luxury</td>\n",
       "    </tr>\n",
       "    <tr>\n",
       "      <th>2</th>\n",
       "      <td>45000.0</td>\n",
       "      <td>iPhone</td>\n",
       "      <td>Luxury</td>\n",
       "    </tr>\n",
       "    <tr>\n",
       "      <th>3</th>\n",
       "      <td>44700.0</td>\n",
       "      <td>0</td>\n",
       "      <td>Luxury</td>\n",
       "    </tr>\n",
       "    <tr>\n",
       "      <th>4</th>\n",
       "      <td>59500.0</td>\n",
       "      <td>iPhone</td>\n",
       "      <td>Luxury</td>\n",
       "    </tr>\n",
       "    <tr>\n",
       "      <th>5</th>\n",
       "      <td>0.0</td>\n",
       "      <td>Android</td>\n",
       "      <td>Non-Luxury</td>\n",
       "    </tr>\n",
       "    <tr>\n",
       "      <th>6</th>\n",
       "      <td>63300.0</td>\n",
       "      <td>iPhone</td>\n",
       "      <td>Non-Luxury</td>\n",
       "    </tr>\n",
       "    <tr>\n",
       "      <th>7</th>\n",
       "      <td>52900.0</td>\n",
       "      <td>Android</td>\n",
       "      <td>Luxury</td>\n",
       "    </tr>\n",
       "    <tr>\n",
       "      <th>8</th>\n",
       "      <td>78200.0</td>\n",
       "      <td>Android</td>\n",
       "      <td>Luxury</td>\n",
       "    </tr>\n",
       "    <tr>\n",
       "      <th>9</th>\n",
       "      <td>145100.0</td>\n",
       "      <td>iPhone</td>\n",
       "      <td>Luxury</td>\n",
       "    </tr>\n",
       "    <tr>\n",
       "      <th>10</th>\n",
       "      <td>88600.0</td>\n",
       "      <td>iPhone</td>\n",
       "      <td>Non-Luxury</td>\n",
       "    </tr>\n",
       "    <tr>\n",
       "      <th>11</th>\n",
       "      <td>65600.0</td>\n",
       "      <td>iPhone</td>\n",
       "      <td>Luxury</td>\n",
       "    </tr>\n",
       "    <tr>\n",
       "      <th>12</th>\n",
       "      <td>0.0</td>\n",
       "      <td>Android</td>\n",
       "      <td>Non-Luxury</td>\n",
       "    </tr>\n",
       "    <tr>\n",
       "      <th>13</th>\n",
       "      <td>94600.0</td>\n",
       "      <td>Android</td>\n",
       "      <td>Luxury</td>\n",
       "    </tr>\n",
       "    <tr>\n",
       "      <th>14</th>\n",
       "      <td>59400.0</td>\n",
       "      <td>iPhone</td>\n",
       "      <td>Luxury</td>\n",
       "    </tr>\n",
       "    <tr>\n",
       "      <th>15</th>\n",
       "      <td>47300.0</td>\n",
       "      <td>iPhone</td>\n",
       "      <td>Non-Luxury</td>\n",
       "    </tr>\n",
       "    <tr>\n",
       "      <th>16</th>\n",
       "      <td>72100.0</td>\n",
       "      <td>0</td>\n",
       "      <td>Luxury</td>\n",
       "    </tr>\n",
       "    <tr>\n",
       "      <th>17</th>\n",
       "      <td>0.0</td>\n",
       "      <td>iPhone</td>\n",
       "      <td>Non-Luxury</td>\n",
       "    </tr>\n",
       "    <tr>\n",
       "      <th>18</th>\n",
       "      <td>0.0</td>\n",
       "      <td>Android</td>\n",
       "      <td>Luxury</td>\n",
       "    </tr>\n",
       "    <tr>\n",
       "      <th>19</th>\n",
       "      <td>83000.0</td>\n",
       "      <td>iPhone</td>\n",
       "      <td>Luxury</td>\n",
       "    </tr>\n",
       "    <tr>\n",
       "      <th>20</th>\n",
       "      <td>64100.0</td>\n",
       "      <td>Android</td>\n",
       "      <td>Non-Luxury</td>\n",
       "    </tr>\n",
       "    <tr>\n",
       "      <th>21</th>\n",
       "      <td>42100.0</td>\n",
       "      <td>iPhone</td>\n",
       "      <td>Non-Luxury</td>\n",
       "    </tr>\n",
       "    <tr>\n",
       "      <th>22</th>\n",
       "      <td>0.0</td>\n",
       "      <td>iPhone</td>\n",
       "      <td>Luxury</td>\n",
       "    </tr>\n",
       "    <tr>\n",
       "      <th>23</th>\n",
       "      <td>91500.0</td>\n",
       "      <td>iPhone</td>\n",
       "      <td>Non-Luxury</td>\n",
       "    </tr>\n",
       "    <tr>\n",
       "      <th>24</th>\n",
       "      <td>51200.0</td>\n",
       "      <td>Android</td>\n",
       "      <td>Luxury</td>\n",
       "    </tr>\n",
       "    <tr>\n",
       "      <th>25</th>\n",
       "      <td>13800.0</td>\n",
       "      <td>iPhone</td>\n",
       "      <td>Non-Luxury</td>\n",
       "    </tr>\n",
       "    <tr>\n",
       "      <th>26</th>\n",
       "      <td>47500.0</td>\n",
       "      <td>iPhone</td>\n",
       "      <td>Non-Luxury</td>\n",
       "    </tr>\n",
       "  </tbody>\n",
       "</table>\n",
       "</div>"
      ],
      "text/plain": [
       "      Income Phone_type  Class_type\n",
       "0    89800.0    Android      Luxury\n",
       "1    47500.0    Android  Non-Luxury\n",
       "2    45000.0     iPhone      Luxury\n",
       "3    44700.0          0      Luxury\n",
       "4    59500.0     iPhone      Luxury\n",
       "5        0.0    Android  Non-Luxury\n",
       "6    63300.0     iPhone  Non-Luxury\n",
       "7    52900.0    Android      Luxury\n",
       "8    78200.0    Android      Luxury\n",
       "9   145100.0     iPhone      Luxury\n",
       "10   88600.0     iPhone  Non-Luxury\n",
       "11   65600.0     iPhone      Luxury\n",
       "12       0.0    Android  Non-Luxury\n",
       "13   94600.0    Android      Luxury\n",
       "14   59400.0     iPhone      Luxury\n",
       "15   47300.0     iPhone  Non-Luxury\n",
       "16   72100.0          0      Luxury\n",
       "17       0.0     iPhone  Non-Luxury\n",
       "18       0.0    Android      Luxury\n",
       "19   83000.0     iPhone      Luxury\n",
       "20   64100.0    Android  Non-Luxury\n",
       "21   42100.0     iPhone  Non-Luxury\n",
       "22       0.0     iPhone      Luxury\n",
       "23   91500.0     iPhone  Non-Luxury\n",
       "24   51200.0    Android      Luxury\n",
       "25   13800.0     iPhone  Non-Luxury\n",
       "26   47500.0     iPhone  Non-Luxury"
      ]
     },
     "execution_count": 45,
     "metadata": {},
     "output_type": "execute_result"
    }
   ],
   "source": [
    "# Llenar los datos faltantes con el dato que nos interese\n",
    "df.fillna(value=0)"
   ]
  },
  {
   "cell_type": "code",
   "execution_count": null,
   "metadata": {
    "colab": {
     "base_uri": "https://localhost:8080/"
    },
    "executionInfo": {
     "elapsed": 680,
     "status": "ok",
     "timestamp": 1701311577067,
     "user": {
      "displayName": "Leonardo Palacios",
      "userId": "15549802994432042883"
     },
     "user_tz": 300
    },
    "id": "SqBv-ZUERlJq",
    "outputId": "d1523576-b530-4eba-c120-36b8b5b629fd"
   },
   "outputs": [
    {
     "data": {
      "text/plain": [
       "0      89800.0\n",
       "1      47500.0\n",
       "2      45000.0\n",
       "3      44700.0\n",
       "4      59500.0\n",
       "5      57872.0\n",
       "6      63300.0\n",
       "7      52900.0\n",
       "8      78200.0\n",
       "9     145100.0\n",
       "10     88600.0\n",
       "11     65600.0\n",
       "12     57872.0\n",
       "13     94600.0\n",
       "14     59400.0\n",
       "15     47300.0\n",
       "16     72100.0\n",
       "17         0.0\n",
       "18         0.0\n",
       "19     83000.0\n",
       "20     64100.0\n",
       "21     42100.0\n",
       "22         0.0\n",
       "23     91500.0\n",
       "24     51200.0\n",
       "25     13800.0\n",
       "26     47500.0\n",
       "Name: Income, dtype: float64"
      ]
     },
     "execution_count": 47,
     "metadata": {},
     "output_type": "execute_result"
    }
   ],
   "source": [
    "# Llenar los datos faltantes con el promedio de esa columna\n",
    "df['Income'].fillna(value=df['Income'].mean())"
   ]
  },
  {
   "cell_type": "code",
   "execution_count": 48,
   "metadata": {
    "colab": {
     "base_uri": "https://localhost:8080/"
    },
    "executionInfo": {
     "elapsed": 210,
     "status": "ok",
     "timestamp": 1701311601595,
     "user": {
      "displayName": "Leonardo Palacios",
      "userId": "15549802994432042883"
     },
     "user_tz": 300
    },
    "id": "upHCkCsbRvYP",
    "outputId": "2f4050c1-c643-4f16-b29e-1457a071d1e5"
   },
   "outputs": [
    {
     "data": {
      "text/plain": [
       "array(['Android', 'iPhone', nan], dtype=object)"
      ]
     },
     "execution_count": 48,
     "metadata": {},
     "output_type": "execute_result"
    }
   ],
   "source": [
    "## Datos unicos\n",
    "\n",
    "df['Phone_type'].unique()"
   ]
  },
  {
   "cell_type": "code",
   "execution_count": 49,
   "metadata": {
    "colab": {
     "base_uri": "https://localhost:8080/"
    },
    "executionInfo": {
     "elapsed": 227,
     "status": "ok",
     "timestamp": 1701311633571,
     "user": {
      "displayName": "Leonardo Palacios",
      "userId": "15549802994432042883"
     },
     "user_tz": 300
    },
    "id": "3QSHV5xLSEMF",
    "outputId": "0a6d5c9f-c518-4215-ff0d-116884e1e40f"
   },
   "outputs": [
    {
     "data": {
      "text/plain": [
       "2"
      ]
     },
     "execution_count": 49,
     "metadata": {},
     "output_type": "execute_result"
    }
   ],
   "source": [
    "# Numero de valores unicos en el dataframe\n",
    "df['Class_type'].nunique()"
   ]
  },
  {
   "cell_type": "code",
   "execution_count": 50,
   "metadata": {
    "colab": {
     "base_uri": "https://localhost:8080/"
    },
    "executionInfo": {
     "elapsed": 262,
     "status": "ok",
     "timestamp": 1701312151680,
     "user": {
      "displayName": "Leonardo Palacios",
      "userId": "15549802994432042883"
     },
     "user_tz": 300
    },
    "id": "KtxWrqYSGm1P",
    "outputId": "9c357d8f-e38d-4abc-e802-0c61ba47636c"
   },
   "outputs": [
    {
     "data": {
      "text/plain": [
       "0     False\n",
       "1     False\n",
       "2     False\n",
       "3     False\n",
       "4     False\n",
       "5     False\n",
       "6     False\n",
       "7     False\n",
       "8     False\n",
       "9     False\n",
       "10    False\n",
       "11    False\n",
       "12     True\n",
       "13    False\n",
       "14    False\n",
       "15    False\n",
       "16    False\n",
       "17    False\n",
       "18    False\n",
       "19    False\n",
       "20    False\n",
       "21    False\n",
       "22    False\n",
       "23    False\n",
       "24    False\n",
       "25    False\n",
       "26    False\n",
       "dtype: bool"
      ]
     },
     "execution_count": 50,
     "metadata": {},
     "output_type": "execute_result"
    }
   ],
   "source": [
    "## Verificar Datos duplicados en todas las columnas\n",
    "df.duplicated()"
   ]
  },
  {
   "cell_type": "code",
   "execution_count": 51,
   "metadata": {
    "colab": {
     "base_uri": "https://localhost:8080/",
     "height": 864
    },
    "executionInfo": {
     "elapsed": 238,
     "status": "ok",
     "timestamp": 1701312560087,
     "user": {
      "displayName": "Leonardo Palacios",
      "userId": "15549802994432042883"
     },
     "user_tz": 300
    },
    "id": "4aB5NBUdHi9f",
    "outputId": "fd626d3a-698c-463a-b15d-32ca6bbc5989"
   },
   "outputs": [
    {
     "data": {
      "text/html": [
       "<div>\n",
       "<style scoped>\n",
       "    .dataframe tbody tr th:only-of-type {\n",
       "        vertical-align: middle;\n",
       "    }\n",
       "\n",
       "    .dataframe tbody tr th {\n",
       "        vertical-align: top;\n",
       "    }\n",
       "\n",
       "    .dataframe thead th {\n",
       "        text-align: right;\n",
       "    }\n",
       "</style>\n",
       "<table border=\"1\" class=\"dataframe\">\n",
       "  <thead>\n",
       "    <tr style=\"text-align: right;\">\n",
       "      <th></th>\n",
       "      <th>Income</th>\n",
       "      <th>Phone_type</th>\n",
       "      <th>Class_type</th>\n",
       "    </tr>\n",
       "  </thead>\n",
       "  <tbody>\n",
       "    <tr>\n",
       "      <th>0</th>\n",
       "      <td>89800.0</td>\n",
       "      <td>Android</td>\n",
       "      <td>Luxury</td>\n",
       "    </tr>\n",
       "    <tr>\n",
       "      <th>1</th>\n",
       "      <td>47500.0</td>\n",
       "      <td>Android</td>\n",
       "      <td>Non-Luxury</td>\n",
       "    </tr>\n",
       "    <tr>\n",
       "      <th>2</th>\n",
       "      <td>45000.0</td>\n",
       "      <td>iPhone</td>\n",
       "      <td>Luxury</td>\n",
       "    </tr>\n",
       "    <tr>\n",
       "      <th>3</th>\n",
       "      <td>44700.0</td>\n",
       "      <td>NaN</td>\n",
       "      <td>Luxury</td>\n",
       "    </tr>\n",
       "    <tr>\n",
       "      <th>4</th>\n",
       "      <td>59500.0</td>\n",
       "      <td>iPhone</td>\n",
       "      <td>Luxury</td>\n",
       "    </tr>\n",
       "    <tr>\n",
       "      <th>5</th>\n",
       "      <td>NaN</td>\n",
       "      <td>Android</td>\n",
       "      <td>Non-Luxury</td>\n",
       "    </tr>\n",
       "    <tr>\n",
       "      <th>6</th>\n",
       "      <td>63300.0</td>\n",
       "      <td>iPhone</td>\n",
       "      <td>Non-Luxury</td>\n",
       "    </tr>\n",
       "    <tr>\n",
       "      <th>7</th>\n",
       "      <td>52900.0</td>\n",
       "      <td>Android</td>\n",
       "      <td>Luxury</td>\n",
       "    </tr>\n",
       "    <tr>\n",
       "      <th>8</th>\n",
       "      <td>78200.0</td>\n",
       "      <td>Android</td>\n",
       "      <td>Luxury</td>\n",
       "    </tr>\n",
       "    <tr>\n",
       "      <th>9</th>\n",
       "      <td>145100.0</td>\n",
       "      <td>iPhone</td>\n",
       "      <td>Luxury</td>\n",
       "    </tr>\n",
       "    <tr>\n",
       "      <th>10</th>\n",
       "      <td>88600.0</td>\n",
       "      <td>iPhone</td>\n",
       "      <td>Non-Luxury</td>\n",
       "    </tr>\n",
       "    <tr>\n",
       "      <th>11</th>\n",
       "      <td>65600.0</td>\n",
       "      <td>iPhone</td>\n",
       "      <td>Luxury</td>\n",
       "    </tr>\n",
       "    <tr>\n",
       "      <th>13</th>\n",
       "      <td>94600.0</td>\n",
       "      <td>Android</td>\n",
       "      <td>Luxury</td>\n",
       "    </tr>\n",
       "    <tr>\n",
       "      <th>14</th>\n",
       "      <td>59400.0</td>\n",
       "      <td>iPhone</td>\n",
       "      <td>Luxury</td>\n",
       "    </tr>\n",
       "    <tr>\n",
       "      <th>15</th>\n",
       "      <td>47300.0</td>\n",
       "      <td>iPhone</td>\n",
       "      <td>Non-Luxury</td>\n",
       "    </tr>\n",
       "    <tr>\n",
       "      <th>16</th>\n",
       "      <td>72100.0</td>\n",
       "      <td>NaN</td>\n",
       "      <td>Luxury</td>\n",
       "    </tr>\n",
       "    <tr>\n",
       "      <th>17</th>\n",
       "      <td>0.0</td>\n",
       "      <td>iPhone</td>\n",
       "      <td>Non-Luxury</td>\n",
       "    </tr>\n",
       "    <tr>\n",
       "      <th>18</th>\n",
       "      <td>0.0</td>\n",
       "      <td>Android</td>\n",
       "      <td>Luxury</td>\n",
       "    </tr>\n",
       "    <tr>\n",
       "      <th>19</th>\n",
       "      <td>83000.0</td>\n",
       "      <td>iPhone</td>\n",
       "      <td>Luxury</td>\n",
       "    </tr>\n",
       "    <tr>\n",
       "      <th>20</th>\n",
       "      <td>64100.0</td>\n",
       "      <td>Android</td>\n",
       "      <td>Non-Luxury</td>\n",
       "    </tr>\n",
       "    <tr>\n",
       "      <th>21</th>\n",
       "      <td>42100.0</td>\n",
       "      <td>iPhone</td>\n",
       "      <td>Non-Luxury</td>\n",
       "    </tr>\n",
       "    <tr>\n",
       "      <th>22</th>\n",
       "      <td>0.0</td>\n",
       "      <td>iPhone</td>\n",
       "      <td>Luxury</td>\n",
       "    </tr>\n",
       "    <tr>\n",
       "      <th>23</th>\n",
       "      <td>91500.0</td>\n",
       "      <td>iPhone</td>\n",
       "      <td>Non-Luxury</td>\n",
       "    </tr>\n",
       "    <tr>\n",
       "      <th>24</th>\n",
       "      <td>51200.0</td>\n",
       "      <td>Android</td>\n",
       "      <td>Luxury</td>\n",
       "    </tr>\n",
       "    <tr>\n",
       "      <th>25</th>\n",
       "      <td>13800.0</td>\n",
       "      <td>iPhone</td>\n",
       "      <td>Non-Luxury</td>\n",
       "    </tr>\n",
       "    <tr>\n",
       "      <th>26</th>\n",
       "      <td>47500.0</td>\n",
       "      <td>iPhone</td>\n",
       "      <td>Non-Luxury</td>\n",
       "    </tr>\n",
       "  </tbody>\n",
       "</table>\n",
       "</div>"
      ],
      "text/plain": [
       "      Income Phone_type  Class_type\n",
       "0    89800.0    Android      Luxury\n",
       "1    47500.0    Android  Non-Luxury\n",
       "2    45000.0     iPhone      Luxury\n",
       "3    44700.0        NaN      Luxury\n",
       "4    59500.0     iPhone      Luxury\n",
       "5        NaN    Android  Non-Luxury\n",
       "6    63300.0     iPhone  Non-Luxury\n",
       "7    52900.0    Android      Luxury\n",
       "8    78200.0    Android      Luxury\n",
       "9   145100.0     iPhone      Luxury\n",
       "10   88600.0     iPhone  Non-Luxury\n",
       "11   65600.0     iPhone      Luxury\n",
       "13   94600.0    Android      Luxury\n",
       "14   59400.0     iPhone      Luxury\n",
       "15   47300.0     iPhone  Non-Luxury\n",
       "16   72100.0        NaN      Luxury\n",
       "17       0.0     iPhone  Non-Luxury\n",
       "18       0.0    Android      Luxury\n",
       "19   83000.0     iPhone      Luxury\n",
       "20   64100.0    Android  Non-Luxury\n",
       "21   42100.0     iPhone  Non-Luxury\n",
       "22       0.0     iPhone      Luxury\n",
       "23   91500.0     iPhone  Non-Luxury\n",
       "24   51200.0    Android      Luxury\n",
       "25   13800.0     iPhone  Non-Luxury\n",
       "26   47500.0     iPhone  Non-Luxury"
      ]
     },
     "execution_count": 51,
     "metadata": {},
     "output_type": "execute_result"
    }
   ],
   "source": [
    "## Eliminar Duplicados\n",
    "df.drop_duplicates()"
   ]
  },
  {
   "cell_type": "markdown",
   "metadata": {
    "id": "aXiqmHQrSMzM"
   },
   "source": [
    "## Estadistica Descriptiva"
   ]
  },
  {
   "cell_type": "code",
   "execution_count": 52,
   "metadata": {
    "colab": {
     "base_uri": "https://localhost:8080/"
    },
    "executionInfo": {
     "elapsed": 280,
     "status": "ok",
     "timestamp": 1701312567125,
     "user": {
      "displayName": "Leonardo Palacios",
      "userId": "15549802994432042883"
     },
     "user_tz": 300
    },
    "id": "wOtljadmSVDt",
    "outputId": "7a3a47be-1dcd-4178-b637-13242443893f"
   },
   "outputs": [
    {
     "data": {
      "text/plain": [
       "np.float64(57872.0)"
      ]
     },
     "execution_count": 52,
     "metadata": {},
     "output_type": "execute_result"
    }
   ],
   "source": [
    "# Media Aritmetica\n",
    "df.Income.mean()"
   ]
  },
  {
   "cell_type": "code",
   "execution_count": 53,
   "metadata": {
    "colab": {
     "base_uri": "https://localhost:8080/"
    },
    "executionInfo": {
     "elapsed": 213,
     "status": "ok",
     "timestamp": 1701312571070,
     "user": {
      "displayName": "Leonardo Palacios",
      "userId": "15549802994432042883"
     },
     "user_tz": 300
    },
    "id": "Y4ISJh6iSkvU",
    "outputId": "7e1af7ae-e5b6-402c-f4e6-7aa7515bea50"
   },
   "outputs": [
    {
     "data": {
      "text/plain": [
       "np.float64(59400.0)"
      ]
     },
     "execution_count": 53,
     "metadata": {},
     "output_type": "execute_result"
    }
   ],
   "source": [
    "# Mediana\n",
    "df.Income.median()"
   ]
  },
  {
   "cell_type": "code",
   "execution_count": null,
   "metadata": {
    "colab": {
     "base_uri": "https://localhost:8080/"
    },
    "executionInfo": {
     "elapsed": 407,
     "status": "ok",
     "timestamp": 1701214609500,
     "user": {
      "displayName": "Leonardo Palacios",
      "userId": "15549802994432042883"
     },
     "user_tz": 300
    },
    "id": "7f5-K7WOSriY",
    "outputId": "3ff14aa7-a917-417d-fc80-b0d7875c7a58"
   },
   "outputs": [
    {
     "data": {
      "text/plain": [
       "145100.0"
      ]
     },
     "execution_count": 45,
     "metadata": {},
     "output_type": "execute_result"
    }
   ],
   "source": [
    "# Mediana\n",
    "df.Income.max()"
   ]
  },
  {
   "cell_type": "code",
   "execution_count": 54,
   "metadata": {
    "colab": {
     "base_uri": "https://localhost:8080/"
    },
    "executionInfo": {
     "elapsed": 208,
     "status": "ok",
     "timestamp": 1701312580556,
     "user": {
      "displayName": "Leonardo Palacios",
      "userId": "15549802994432042883"
     },
     "user_tz": 300
    },
    "id": "2Z-yecE6S6Co",
    "outputId": "0eafe0b3-b61f-495e-d3d6-a7bb392d3b8f"
   },
   "outputs": [
    {
     "data": {
      "text/plain": [
       "np.float64(0.0)"
      ]
     },
     "execution_count": 54,
     "metadata": {},
     "output_type": "execute_result"
    }
   ],
   "source": [
    "# Minimo\n",
    "df.Income.min()"
   ]
  },
  {
   "cell_type": "code",
   "execution_count": 55,
   "metadata": {
    "colab": {
     "base_uri": "https://localhost:8080/"
    },
    "executionInfo": {
     "elapsed": 7,
     "status": "ok",
     "timestamp": 1701312582642,
     "user": {
      "displayName": "Leonardo Palacios",
      "userId": "15549802994432042883"
     },
     "user_tz": 300
    },
    "id": "5oSq20upTyu8",
    "outputId": "47f22918-c953-4435-f7a0-b91f144f6a3b"
   },
   "outputs": [
    {
     "data": {
      "text/plain": [
       "0    0.0\n",
       "Name: Income, dtype: float64"
      ]
     },
     "execution_count": 55,
     "metadata": {},
     "output_type": "execute_result"
    }
   ],
   "source": [
    "# Moda\n",
    "df.Income.mode()"
   ]
  },
  {
   "cell_type": "code",
   "execution_count": 56,
   "metadata": {
    "colab": {
     "base_uri": "https://localhost:8080/"
    },
    "executionInfo": {
     "elapsed": 222,
     "status": "ok",
     "timestamp": 1701312600184,
     "user": {
      "displayName": "Leonardo Palacios",
      "userId": "15549802994432042883"
     },
     "user_tz": 300
    },
    "id": "_e1sLluvUHe7",
    "outputId": "e7e2c0e3-53e3-4a8b-fb30-89371317823f"
   },
   "outputs": [
    {
     "data": {
      "text/plain": [
       "Phone_type\n",
       "iPhone     15\n",
       "Android    10\n",
       "Name: count, dtype: int64"
      ]
     },
     "execution_count": 56,
     "metadata": {},
     "output_type": "execute_result"
    }
   ],
   "source": [
    "## Cantidad de datos por Phone_type\n",
    "\n",
    "df.Phone_type.value_counts()"
   ]
  },
  {
   "cell_type": "code",
   "execution_count": 52,
   "metadata": {
    "colab": {
     "base_uri": "https://localhost:8080/"
    },
    "executionInfo": {
     "elapsed": 270,
     "status": "ok",
     "timestamp": 1701312739314,
     "user": {
      "displayName": "Leonardo Palacios",
      "userId": "15549802994432042883"
     },
     "user_tz": 300
    },
    "id": "2_jItHXzIyOr",
    "outputId": "4004f2d3-fa51-46eb-f930-6499614a2cb3"
   },
   "outputs": [
    {
     "data": {
      "text/plain": [
       "iPhone     13\n",
       "Android     7\n",
       "Name: Phone_type, dtype: int64"
      ]
     },
     "execution_count": 52,
     "metadata": {},
     "output_type": "execute_result"
    }
   ],
   "source": [
    "df[df['Income']>0]['Phone_type'].value_counts()"
   ]
  },
  {
   "cell_type": "code",
   "execution_count": 57,
   "metadata": {
    "colab": {
     "base_uri": "https://localhost:8080/"
    },
    "executionInfo": {
     "elapsed": 236,
     "status": "ok",
     "timestamp": 1701312817352,
     "user": {
      "displayName": "Leonardo Palacios",
      "userId": "15549802994432042883"
     },
     "user_tz": 300
    },
    "id": "BiwdhwN2URsS",
    "outputId": "5f35ba89-82e2-40eb-d7e9-48dc0c465213"
   },
   "outputs": [
    {
     "data": {
      "text/plain": [
       "Class_type\n",
       "Luxury        15\n",
       "Non-Luxury    12\n",
       "Name: count, dtype: int64"
      ]
     },
     "execution_count": 57,
     "metadata": {},
     "output_type": "execute_result"
    }
   ],
   "source": [
    "## Cantidad de datos por Class_type\n",
    "\n",
    "df.Class_type.value_counts()"
   ]
  },
  {
   "cell_type": "code",
   "execution_count": 58,
   "metadata": {
    "colab": {
     "base_uri": "https://localhost:8080/"
    },
    "executionInfo": {
     "elapsed": 258,
     "status": "ok",
     "timestamp": 1701313398830,
     "user": {
      "displayName": "Leonardo Palacios",
      "userId": "15549802994432042883"
     },
     "user_tz": 300
    },
    "id": "LpuNjKhjLHMn",
    "outputId": "f769b9d2-fd38-4ff7-fb97-ca605d8539bf"
   },
   "outputs": [
    {
     "data": {
      "text/plain": [
       "Phone_type\n",
       "iPhone     851700.0\n",
       "Android    478300.0\n",
       "Name: Income, dtype: float64"
      ]
     },
     "execution_count": 58,
     "metadata": {},
     "output_type": "execute_result"
    }
   ],
   "source": [
    "df.groupby('Phone_type')['Income'].sum().sort_values(ascending= False)"
   ]
  },
  {
   "cell_type": "markdown",
   "metadata": {
    "id": "tZJtmljtUDTS"
   },
   "source": [
    "## Medidas de dispersión"
   ]
  },
  {
   "cell_type": "code",
   "execution_count": 58,
   "metadata": {
    "colab": {
     "base_uri": "https://localhost:8080/"
    },
    "executionInfo": {
     "elapsed": 214,
     "status": "ok",
     "timestamp": 1701312850064,
     "user": {
      "displayName": "Leonardo Palacios",
      "userId": "15549802994432042883"
     },
     "user_tz": 300
    },
    "id": "ebAB8fQoUuOH",
    "outputId": "55f6b5d9-366c-4ab9-f550-fcd279502b36"
   },
   "outputs": [
    {
     "data": {
      "text/plain": [
       "np.float64(1100254600.0)"
      ]
     },
     "execution_count": 58,
     "metadata": {},
     "output_type": "execute_result"
    }
   ],
   "source": [
    "# Varianza\n",
    "df.Income.var()"
   ]
  },
  {
   "cell_type": "code",
   "execution_count": 59,
   "metadata": {
    "colab": {
     "base_uri": "https://localhost:8080/"
    },
    "executionInfo": {
     "elapsed": 518,
     "status": "ok",
     "timestamp": 1701312863066,
     "user": {
      "displayName": "Leonardo Palacios",
      "userId": "15549802994432042883"
     },
     "user_tz": 300
    },
    "id": "EWcaqOYLUXZt",
    "outputId": "f9c20f8e-1a10-4564-f2a1-78169fd08d44"
   },
   "outputs": [
    {
     "data": {
      "text/plain": [
       "np.float64(33170.085920901685)"
      ]
     },
     "execution_count": 59,
     "metadata": {},
     "output_type": "execute_result"
    }
   ],
   "source": [
    "# Desviación tipica o desviación estandar\n",
    "df.Income.std()"
   ]
  }
 ],
 "metadata": {
  "colab": {
   "provenance": []
  },
  "kernelspec": {
   "display_name": "venv",
   "language": "python",
   "name": "python3"
  },
  "language_info": {
   "codemirror_mode": {
    "name": "ipython",
    "version": 3
   },
   "file_extension": ".py",
   "mimetype": "text/x-python",
   "name": "python",
   "nbconvert_exporter": "python",
   "pygments_lexer": "ipython3",
   "version": "3.12.1"
  }
 },
 "nbformat": 4,
 "nbformat_minor": 0
}

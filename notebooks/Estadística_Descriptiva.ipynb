{
 "cells": [
  {
   "cell_type": "markdown",
   "metadata": {
    "id": "NI7ME1gyTaiR"
   },
   "source": [
    "# Estadística Descriptiva\n",
    "\n",
    "La estadística descriptiva es una rama de la estadística que se encarga de recolectar, analizar, interpretar y presentar datos de manera organizada y efectiva. Su principal objetivo es proporcionar resúmenes simples y comprensibles acerca de las características principales de un conjunto de datos, sin llegar a hacer inferencias o predicciones sobre una población más amplia."
   ]
  },
  {
   "cell_type": "markdown",
   "metadata": {
    "id": "OhCbeNdqTlbI"
   },
   "source": [
    "# Lectura de datos"
   ]
  },
  {
   "cell_type": "code",
   "execution_count": 40,
   "metadata": {
    "id": "g-Xnxd9KS6OS"
   },
   "outputs": [],
   "source": [
    "## Importar datos\n",
    "import pandas as pd\n",
    "import numpy as np\n",
    "import matplotlib.pyplot as plt\n",
    "import seaborn as sns\n",
    "import math"
   ]
  },
  {
   "cell_type": "code",
   "execution_count": 41,
   "metadata": {
    "id": "VKH0ng_Gk6rO"
   },
   "outputs": [
    {
     "data": {
      "text/html": [
       "<div>\n",
       "<style scoped>\n",
       "    .dataframe tbody tr th:only-of-type {\n",
       "        vertical-align: middle;\n",
       "    }\n",
       "\n",
       "    .dataframe tbody tr th {\n",
       "        vertical-align: top;\n",
       "    }\n",
       "\n",
       "    .dataframe thead th {\n",
       "        text-align: right;\n",
       "    }\n",
       "</style>\n",
       "<table border=\"1\" class=\"dataframe\">\n",
       "  <thead>\n",
       "    <tr style=\"text-align: right;\">\n",
       "      <th></th>\n",
       "      <th>DEFAULT</th>\n",
       "      <th>ANTIUEDAD</th>\n",
       "      <th>EDAD</th>\n",
       "      <th>CUOTA_TOTAL</th>\n",
       "      <th>INGRESOS</th>\n",
       "    </tr>\n",
       "  </thead>\n",
       "  <tbody>\n",
       "    <tr>\n",
       "      <th>0</th>\n",
       "      <td>1</td>\n",
       "      <td>37.317808</td>\n",
       "      <td>76.983562</td>\n",
       "      <td>3020519</td>\n",
       "      <td>8155593</td>\n",
       "    </tr>\n",
       "    <tr>\n",
       "      <th>1</th>\n",
       "      <td>1</td>\n",
       "      <td>37.317808</td>\n",
       "      <td>73.775342</td>\n",
       "      <td>1766552</td>\n",
       "      <td>6181263</td>\n",
       "    </tr>\n",
       "    <tr>\n",
       "      <th>2</th>\n",
       "      <td>1</td>\n",
       "      <td>30.978082</td>\n",
       "      <td>78.936986</td>\n",
       "      <td>1673786</td>\n",
       "      <td>4328075</td>\n",
       "    </tr>\n",
       "    <tr>\n",
       "      <th>3</th>\n",
       "      <td>1</td>\n",
       "      <td>9.728767</td>\n",
       "      <td>51.528767</td>\n",
       "      <td>668479</td>\n",
       "      <td>5290910</td>\n",
       "    </tr>\n",
       "    <tr>\n",
       "      <th>4</th>\n",
       "      <td>1</td>\n",
       "      <td>8.443836</td>\n",
       "      <td>38.969863</td>\n",
       "      <td>1223559</td>\n",
       "      <td>5333818</td>\n",
       "    </tr>\n",
       "  </tbody>\n",
       "</table>\n",
       "</div>"
      ],
      "text/plain": [
       "   DEFAULT  ANTIUEDAD       EDAD  CUOTA_TOTAL  INGRESOS\n",
       "0        1  37.317808  76.983562      3020519   8155593\n",
       "1        1  37.317808  73.775342      1766552   6181263\n",
       "2        1  30.978082  78.936986      1673786   4328075\n",
       "3        1   9.728767  51.528767       668479   5290910\n",
       "4        1   8.443836  38.969863      1223559   5333818"
      ]
     },
     "execution_count": 41,
     "metadata": {},
     "output_type": "execute_result"
    }
   ],
   "source": [
    "## Cargar dataset\n",
    "df = pd.read_excel('../data/creditos.xlsx')\n",
    "df.head()"
   ]
  },
  {
   "cell_type": "code",
   "execution_count": 42,
   "metadata": {
    "id": "d-T6PT6ymRJq"
   },
   "outputs": [
    {
     "name": "stdout",
     "output_type": "stream",
     "text": [
      "<class 'pandas.core.frame.DataFrame'>\n",
      "RangeIndex: 780 entries, 0 to 779\n",
      "Data columns (total 5 columns):\n",
      " #   Column       Non-Null Count  Dtype  \n",
      "---  ------       --------------  -----  \n",
      " 0   DEFAULT      780 non-null    int64  \n",
      " 1   ANTIUEDAD    780 non-null    float64\n",
      " 2   EDAD         780 non-null    float64\n",
      " 3   CUOTA_TOTAL  780 non-null    int64  \n",
      " 4   INGRESOS     780 non-null    int64  \n",
      "dtypes: float64(2), int64(3)\n",
      "memory usage: 30.6 KB\n"
     ]
    }
   ],
   "source": [
    "### Imformación del dataset\n",
    "df.info()"
   ]
  },
  {
   "cell_type": "code",
   "execution_count": 43,
   "metadata": {},
   "outputs": [],
   "source": [
    "df['ANTIUEDAD'] = round(df.ANTIUEDAD,0)\n",
    "df['EDAD'] = round(df.EDAD,0)"
   ]
  },
  {
   "cell_type": "code",
   "execution_count": 44,
   "metadata": {
    "id": "Wtw9ZuP_mlnC"
   },
   "outputs": [
    {
     "data": {
      "text/plain": [
       "(780, 5)"
      ]
     },
     "execution_count": 44,
     "metadata": {},
     "output_type": "execute_result"
    }
   ],
   "source": [
    "# Dimensión del dataframe\n",
    "df.shape"
   ]
  },
  {
   "cell_type": "code",
   "execution_count": 45,
   "metadata": {
    "id": "41Jkk8AWFM6a"
   },
   "outputs": [],
   "source": [
    "# Corregir ortografia\n",
    "df.rename(columns = {'ANTIUEDAD':'ANTIGUEDAD'}, inplace=True)"
   ]
  },
  {
   "cell_type": "code",
   "execution_count": 46,
   "metadata": {
    "id": "lhaGDnn-If6u"
   },
   "outputs": [
    {
     "data": {
      "text/html": [
       "<div>\n",
       "<style scoped>\n",
       "    .dataframe tbody tr th:only-of-type {\n",
       "        vertical-align: middle;\n",
       "    }\n",
       "\n",
       "    .dataframe tbody tr th {\n",
       "        vertical-align: top;\n",
       "    }\n",
       "\n",
       "    .dataframe thead th {\n",
       "        text-align: right;\n",
       "    }\n",
       "</style>\n",
       "<table border=\"1\" class=\"dataframe\">\n",
       "  <thead>\n",
       "    <tr style=\"text-align: right;\">\n",
       "      <th></th>\n",
       "      <th>DEFAULT</th>\n",
       "      <th>ANTIGUEDAD</th>\n",
       "      <th>EDAD</th>\n",
       "      <th>CUOTA_TOTAL</th>\n",
       "      <th>INGRESOS</th>\n",
       "    </tr>\n",
       "  </thead>\n",
       "  <tbody>\n",
       "    <tr>\n",
       "      <th>0</th>\n",
       "      <td>1</td>\n",
       "      <td>37.0</td>\n",
       "      <td>77</td>\n",
       "      <td>3020519</td>\n",
       "      <td>8155593</td>\n",
       "    </tr>\n",
       "    <tr>\n",
       "      <th>1</th>\n",
       "      <td>1</td>\n",
       "      <td>37.0</td>\n",
       "      <td>74</td>\n",
       "      <td>1766552</td>\n",
       "      <td>6181263</td>\n",
       "    </tr>\n",
       "    <tr>\n",
       "      <th>2</th>\n",
       "      <td>1</td>\n",
       "      <td>31.0</td>\n",
       "      <td>79</td>\n",
       "      <td>1673786</td>\n",
       "      <td>4328075</td>\n",
       "    </tr>\n",
       "    <tr>\n",
       "      <th>3</th>\n",
       "      <td>1</td>\n",
       "      <td>10.0</td>\n",
       "      <td>52</td>\n",
       "      <td>668479</td>\n",
       "      <td>5290910</td>\n",
       "    </tr>\n",
       "    <tr>\n",
       "      <th>4</th>\n",
       "      <td>1</td>\n",
       "      <td>8.0</td>\n",
       "      <td>39</td>\n",
       "      <td>1223559</td>\n",
       "      <td>5333818</td>\n",
       "    </tr>\n",
       "  </tbody>\n",
       "</table>\n",
       "</div>"
      ],
      "text/plain": [
       "   DEFAULT  ANTIGUEDAD  EDAD  CUOTA_TOTAL  INGRESOS\n",
       "0        1        37.0    77      3020519   8155593\n",
       "1        1        37.0    74      1766552   6181263\n",
       "2        1        31.0    79      1673786   4328075\n",
       "3        1        10.0    52       668479   5290910\n",
       "4        1         8.0    39      1223559   5333818"
      ]
     },
     "execution_count": 46,
     "metadata": {},
     "output_type": "execute_result"
    }
   ],
   "source": [
    "df['EDAD'] = df['EDAD'].apply(lambda x: math.floor(x))\n",
    "df.head()"
   ]
  },
  {
   "cell_type": "code",
   "execution_count": 47,
   "metadata": {},
   "outputs": [
    {
     "data": {
      "text/html": [
       "<div>\n",
       "<style scoped>\n",
       "    .dataframe tbody tr th:only-of-type {\n",
       "        vertical-align: middle;\n",
       "    }\n",
       "\n",
       "    .dataframe tbody tr th {\n",
       "        vertical-align: top;\n",
       "    }\n",
       "\n",
       "    .dataframe thead th {\n",
       "        text-align: right;\n",
       "    }\n",
       "</style>\n",
       "<table border=\"1\" class=\"dataframe\">\n",
       "  <thead>\n",
       "    <tr style=\"text-align: right;\">\n",
       "      <th></th>\n",
       "      <th>DEFAULT</th>\n",
       "      <th>ANTIGUEDAD</th>\n",
       "      <th>EDAD</th>\n",
       "      <th>CUOTA_TOTAL</th>\n",
       "      <th>INGRESOS</th>\n",
       "    </tr>\n",
       "  </thead>\n",
       "  <tbody>\n",
       "    <tr>\n",
       "      <th>count</th>\n",
       "      <td>780.000000</td>\n",
       "      <td>780.000000</td>\n",
       "      <td>780.000000</td>\n",
       "      <td>7.800000e+02</td>\n",
       "      <td>7.800000e+02</td>\n",
       "    </tr>\n",
       "    <tr>\n",
       "      <th>mean</th>\n",
       "      <td>0.050000</td>\n",
       "      <td>18.019231</td>\n",
       "      <td>56.988462</td>\n",
       "      <td>8.852059e+05</td>\n",
       "      <td>5.366430e+06</td>\n",
       "    </tr>\n",
       "    <tr>\n",
       "      <th>std</th>\n",
       "      <td>0.218085</td>\n",
       "      <td>11.889992</td>\n",
       "      <td>12.506373</td>\n",
       "      <td>7.402123e+05</td>\n",
       "      <td>2.652186e+06</td>\n",
       "    </tr>\n",
       "    <tr>\n",
       "      <th>min</th>\n",
       "      <td>0.000000</td>\n",
       "      <td>0.000000</td>\n",
       "      <td>27.000000</td>\n",
       "      <td>3.870000e+02</td>\n",
       "      <td>6.338250e+05</td>\n",
       "    </tr>\n",
       "    <tr>\n",
       "      <th>25%</th>\n",
       "      <td>0.000000</td>\n",
       "      <td>7.000000</td>\n",
       "      <td>48.000000</td>\n",
       "      <td>3.285162e+05</td>\n",
       "      <td>3.583324e+06</td>\n",
       "    </tr>\n",
       "    <tr>\n",
       "      <th>50%</th>\n",
       "      <td>0.000000</td>\n",
       "      <td>15.000000</td>\n",
       "      <td>58.000000</td>\n",
       "      <td>6.944605e+05</td>\n",
       "      <td>5.038962e+06</td>\n",
       "    </tr>\n",
       "    <tr>\n",
       "      <th>75%</th>\n",
       "      <td>0.000000</td>\n",
       "      <td>31.000000</td>\n",
       "      <td>66.000000</td>\n",
       "      <td>1.244126e+06</td>\n",
       "      <td>6.844098e+06</td>\n",
       "    </tr>\n",
       "    <tr>\n",
       "      <th>max</th>\n",
       "      <td>1.000000</td>\n",
       "      <td>37.000000</td>\n",
       "      <td>92.000000</td>\n",
       "      <td>6.664588e+06</td>\n",
       "      <td>2.219702e+07</td>\n",
       "    </tr>\n",
       "  </tbody>\n",
       "</table>\n",
       "</div>"
      ],
      "text/plain": [
       "          DEFAULT  ANTIGUEDAD        EDAD   CUOTA_TOTAL      INGRESOS\n",
       "count  780.000000  780.000000  780.000000  7.800000e+02  7.800000e+02\n",
       "mean     0.050000   18.019231   56.988462  8.852059e+05  5.366430e+06\n",
       "std      0.218085   11.889992   12.506373  7.402123e+05  2.652186e+06\n",
       "min      0.000000    0.000000   27.000000  3.870000e+02  6.338250e+05\n",
       "25%      0.000000    7.000000   48.000000  3.285162e+05  3.583324e+06\n",
       "50%      0.000000   15.000000   58.000000  6.944605e+05  5.038962e+06\n",
       "75%      0.000000   31.000000   66.000000  1.244126e+06  6.844098e+06\n",
       "max      1.000000   37.000000   92.000000  6.664588e+06  2.219702e+07"
      ]
     },
     "execution_count": 47,
     "metadata": {},
     "output_type": "execute_result"
    }
   ],
   "source": [
    "df.describe()"
   ]
  },
  {
   "cell_type": "code",
   "execution_count": 48,
   "metadata": {
    "id": "ADVyA577mrEF"
   },
   "outputs": [
    {
     "data": {
      "text/html": [
       "<div>\n",
       "<style scoped>\n",
       "    .dataframe tbody tr th:only-of-type {\n",
       "        vertical-align: middle;\n",
       "    }\n",
       "\n",
       "    .dataframe tbody tr th {\n",
       "        vertical-align: top;\n",
       "    }\n",
       "\n",
       "    .dataframe thead th {\n",
       "        text-align: right;\n",
       "    }\n",
       "</style>\n",
       "<table border=\"1\" class=\"dataframe\">\n",
       "  <thead>\n",
       "    <tr style=\"text-align: right;\">\n",
       "      <th></th>\n",
       "      <th>DEFAULT</th>\n",
       "      <th>ANTIGUEDAD</th>\n",
       "      <th>EDAD</th>\n",
       "      <th>CUOTA_TOTAL</th>\n",
       "      <th>INGRESOS</th>\n",
       "    </tr>\n",
       "  </thead>\n",
       "  <tbody>\n",
       "    <tr>\n",
       "      <th>0</th>\n",
       "      <td>1</td>\n",
       "      <td>37.0</td>\n",
       "      <td>77</td>\n",
       "      <td>3020519</td>\n",
       "      <td>8155593</td>\n",
       "    </tr>\n",
       "    <tr>\n",
       "      <th>1</th>\n",
       "      <td>1</td>\n",
       "      <td>37.0</td>\n",
       "      <td>74</td>\n",
       "      <td>1766552</td>\n",
       "      <td>6181263</td>\n",
       "    </tr>\n",
       "    <tr>\n",
       "      <th>2</th>\n",
       "      <td>1</td>\n",
       "      <td>31.0</td>\n",
       "      <td>79</td>\n",
       "      <td>1673786</td>\n",
       "      <td>4328075</td>\n",
       "    </tr>\n",
       "    <tr>\n",
       "      <th>3</th>\n",
       "      <td>1</td>\n",
       "      <td>10.0</td>\n",
       "      <td>52</td>\n",
       "      <td>668479</td>\n",
       "      <td>5290910</td>\n",
       "    </tr>\n",
       "    <tr>\n",
       "      <th>4</th>\n",
       "      <td>1</td>\n",
       "      <td>8.0</td>\n",
       "      <td>39</td>\n",
       "      <td>1223559</td>\n",
       "      <td>5333818</td>\n",
       "    </tr>\n",
       "    <tr>\n",
       "      <th>5</th>\n",
       "      <td>1</td>\n",
       "      <td>7.0</td>\n",
       "      <td>45</td>\n",
       "      <td>3517756</td>\n",
       "      <td>2710736</td>\n",
       "    </tr>\n",
       "    <tr>\n",
       "      <th>6</th>\n",
       "      <td>1</td>\n",
       "      <td>11.0</td>\n",
       "      <td>58</td>\n",
       "      <td>1304790</td>\n",
       "      <td>3169775</td>\n",
       "    </tr>\n",
       "    <tr>\n",
       "      <th>7</th>\n",
       "      <td>1</td>\n",
       "      <td>13.0</td>\n",
       "      <td>57</td>\n",
       "      <td>2095525</td>\n",
       "      <td>4799180</td>\n",
       "    </tr>\n",
       "    <tr>\n",
       "      <th>8</th>\n",
       "      <td>1</td>\n",
       "      <td>7.0</td>\n",
       "      <td>54</td>\n",
       "      <td>204865</td>\n",
       "      <td>2243815</td>\n",
       "    </tr>\n",
       "    <tr>\n",
       "      <th>9</th>\n",
       "      <td>1</td>\n",
       "      <td>20.0</td>\n",
       "      <td>51</td>\n",
       "      <td>1667409</td>\n",
       "      <td>5633822</td>\n",
       "    </tr>\n",
       "    <tr>\n",
       "      <th>10</th>\n",
       "      <td>1</td>\n",
       "      <td>8.0</td>\n",
       "      <td>43</td>\n",
       "      <td>1005258</td>\n",
       "      <td>3169775</td>\n",
       "    </tr>\n",
       "    <tr>\n",
       "      <th>11</th>\n",
       "      <td>1</td>\n",
       "      <td>8.0</td>\n",
       "      <td>54</td>\n",
       "      <td>212033</td>\n",
       "      <td>5371855</td>\n",
       "    </tr>\n",
       "    <tr>\n",
       "      <th>12</th>\n",
       "      <td>1</td>\n",
       "      <td>22.0</td>\n",
       "      <td>60</td>\n",
       "      <td>1645375</td>\n",
       "      <td>5151045</td>\n",
       "    </tr>\n",
       "    <tr>\n",
       "      <th>13</th>\n",
       "      <td>1</td>\n",
       "      <td>10.0</td>\n",
       "      <td>56</td>\n",
       "      <td>791494</td>\n",
       "      <td>4220210</td>\n",
       "    </tr>\n",
       "    <tr>\n",
       "      <th>14</th>\n",
       "      <td>1</td>\n",
       "      <td>3.0</td>\n",
       "      <td>30</td>\n",
       "      <td>34374</td>\n",
       "      <td>4384282</td>\n",
       "    </tr>\n",
       "    <tr>\n",
       "      <th>15</th>\n",
       "      <td>1</td>\n",
       "      <td>21.0</td>\n",
       "      <td>49</td>\n",
       "      <td>902701</td>\n",
       "      <td>2627953</td>\n",
       "    </tr>\n",
       "    <tr>\n",
       "      <th>16</th>\n",
       "      <td>1</td>\n",
       "      <td>34.0</td>\n",
       "      <td>67</td>\n",
       "      <td>1074994</td>\n",
       "      <td>2399995</td>\n",
       "    </tr>\n",
       "    <tr>\n",
       "      <th>17</th>\n",
       "      <td>1</td>\n",
       "      <td>32.0</td>\n",
       "      <td>74</td>\n",
       "      <td>1462352</td>\n",
       "      <td>4460461</td>\n",
       "    </tr>\n",
       "    <tr>\n",
       "      <th>18</th>\n",
       "      <td>1</td>\n",
       "      <td>4.0</td>\n",
       "      <td>35</td>\n",
       "      <td>603047</td>\n",
       "      <td>3757527</td>\n",
       "    </tr>\n",
       "    <tr>\n",
       "      <th>19</th>\n",
       "      <td>1</td>\n",
       "      <td>4.0</td>\n",
       "      <td>41</td>\n",
       "      <td>329206</td>\n",
       "      <td>3255735</td>\n",
       "    </tr>\n",
       "    <tr>\n",
       "      <th>20</th>\n",
       "      <td>1</td>\n",
       "      <td>18.0</td>\n",
       "      <td>52</td>\n",
       "      <td>2627471</td>\n",
       "      <td>6943849</td>\n",
       "    </tr>\n",
       "    <tr>\n",
       "      <th>21</th>\n",
       "      <td>1</td>\n",
       "      <td>36.0</td>\n",
       "      <td>74</td>\n",
       "      <td>3445927</td>\n",
       "      <td>7189661</td>\n",
       "    </tr>\n",
       "    <tr>\n",
       "      <th>22</th>\n",
       "      <td>1</td>\n",
       "      <td>37.0</td>\n",
       "      <td>69</td>\n",
       "      <td>1209747</td>\n",
       "      <td>7989982</td>\n",
       "    </tr>\n",
       "    <tr>\n",
       "      <th>23</th>\n",
       "      <td>1</td>\n",
       "      <td>9.0</td>\n",
       "      <td>60</td>\n",
       "      <td>1818518</td>\n",
       "      <td>5085609</td>\n",
       "    </tr>\n",
       "    <tr>\n",
       "      <th>24</th>\n",
       "      <td>1</td>\n",
       "      <td>4.0</td>\n",
       "      <td>58</td>\n",
       "      <td>258209</td>\n",
       "      <td>1327008</td>\n",
       "    </tr>\n",
       "    <tr>\n",
       "      <th>25</th>\n",
       "      <td>1</td>\n",
       "      <td>11.0</td>\n",
       "      <td>68</td>\n",
       "      <td>1329778</td>\n",
       "      <td>8644666</td>\n",
       "    </tr>\n",
       "    <tr>\n",
       "      <th>26</th>\n",
       "      <td>1</td>\n",
       "      <td>15.0</td>\n",
       "      <td>65</td>\n",
       "      <td>1263232</td>\n",
       "      <td>4859613</td>\n",
       "    </tr>\n",
       "    <tr>\n",
       "      <th>27</th>\n",
       "      <td>1</td>\n",
       "      <td>10.0</td>\n",
       "      <td>59</td>\n",
       "      <td>489521</td>\n",
       "      <td>6285180</td>\n",
       "    </tr>\n",
       "    <tr>\n",
       "      <th>28</th>\n",
       "      <td>1</td>\n",
       "      <td>7.0</td>\n",
       "      <td>53</td>\n",
       "      <td>110540</td>\n",
       "      <td>2206050</td>\n",
       "    </tr>\n",
       "    <tr>\n",
       "      <th>29</th>\n",
       "      <td>1</td>\n",
       "      <td>5.0</td>\n",
       "      <td>48</td>\n",
       "      <td>263526</td>\n",
       "      <td>3033314</td>\n",
       "    </tr>\n",
       "    <tr>\n",
       "      <th>30</th>\n",
       "      <td>1</td>\n",
       "      <td>1.0</td>\n",
       "      <td>50</td>\n",
       "      <td>99768</td>\n",
       "      <td>1020386</td>\n",
       "    </tr>\n",
       "    <tr>\n",
       "      <th>31</th>\n",
       "      <td>1</td>\n",
       "      <td>4.0</td>\n",
       "      <td>36</td>\n",
       "      <td>453171</td>\n",
       "      <td>1963314</td>\n",
       "    </tr>\n",
       "    <tr>\n",
       "      <th>32</th>\n",
       "      <td>1</td>\n",
       "      <td>34.0</td>\n",
       "      <td>69</td>\n",
       "      <td>237104</td>\n",
       "      <td>7282279</td>\n",
       "    </tr>\n",
       "    <tr>\n",
       "      <th>33</th>\n",
       "      <td>1</td>\n",
       "      <td>13.0</td>\n",
       "      <td>45</td>\n",
       "      <td>766539</td>\n",
       "      <td>5083544</td>\n",
       "    </tr>\n",
       "    <tr>\n",
       "      <th>34</th>\n",
       "      <td>1</td>\n",
       "      <td>7.0</td>\n",
       "      <td>48</td>\n",
       "      <td>891949</td>\n",
       "      <td>6469244</td>\n",
       "    </tr>\n",
       "    <tr>\n",
       "      <th>35</th>\n",
       "      <td>1</td>\n",
       "      <td>5.0</td>\n",
       "      <td>65</td>\n",
       "      <td>1838572</td>\n",
       "      <td>8021787</td>\n",
       "    </tr>\n",
       "    <tr>\n",
       "      <th>36</th>\n",
       "      <td>1</td>\n",
       "      <td>11.0</td>\n",
       "      <td>51</td>\n",
       "      <td>2181177</td>\n",
       "      <td>6226942</td>\n",
       "    </tr>\n",
       "    <tr>\n",
       "      <th>37</th>\n",
       "      <td>1</td>\n",
       "      <td>3.0</td>\n",
       "      <td>51</td>\n",
       "      <td>523735</td>\n",
       "      <td>1898021</td>\n",
       "    </tr>\n",
       "    <tr>\n",
       "      <th>38</th>\n",
       "      <td>1</td>\n",
       "      <td>9.0</td>\n",
       "      <td>37</td>\n",
       "      <td>1653668</td>\n",
       "      <td>3195563</td>\n",
       "    </tr>\n",
       "  </tbody>\n",
       "</table>\n",
       "</div>"
      ],
      "text/plain": [
       "    DEFAULT  ANTIGUEDAD  EDAD  CUOTA_TOTAL  INGRESOS\n",
       "0         1        37.0    77      3020519   8155593\n",
       "1         1        37.0    74      1766552   6181263\n",
       "2         1        31.0    79      1673786   4328075\n",
       "3         1        10.0    52       668479   5290910\n",
       "4         1         8.0    39      1223559   5333818\n",
       "5         1         7.0    45      3517756   2710736\n",
       "6         1        11.0    58      1304790   3169775\n",
       "7         1        13.0    57      2095525   4799180\n",
       "8         1         7.0    54       204865   2243815\n",
       "9         1        20.0    51      1667409   5633822\n",
       "10        1         8.0    43      1005258   3169775\n",
       "11        1         8.0    54       212033   5371855\n",
       "12        1        22.0    60      1645375   5151045\n",
       "13        1        10.0    56       791494   4220210\n",
       "14        1         3.0    30        34374   4384282\n",
       "15        1        21.0    49       902701   2627953\n",
       "16        1        34.0    67      1074994   2399995\n",
       "17        1        32.0    74      1462352   4460461\n",
       "18        1         4.0    35       603047   3757527\n",
       "19        1         4.0    41       329206   3255735\n",
       "20        1        18.0    52      2627471   6943849\n",
       "21        1        36.0    74      3445927   7189661\n",
       "22        1        37.0    69      1209747   7989982\n",
       "23        1         9.0    60      1818518   5085609\n",
       "24        1         4.0    58       258209   1327008\n",
       "25        1        11.0    68      1329778   8644666\n",
       "26        1        15.0    65      1263232   4859613\n",
       "27        1        10.0    59       489521   6285180\n",
       "28        1         7.0    53       110540   2206050\n",
       "29        1         5.0    48       263526   3033314\n",
       "30        1         1.0    50        99768   1020386\n",
       "31        1         4.0    36       453171   1963314\n",
       "32        1        34.0    69       237104   7282279\n",
       "33        1        13.0    45       766539   5083544\n",
       "34        1         7.0    48       891949   6469244\n",
       "35        1         5.0    65      1838572   8021787\n",
       "36        1        11.0    51      2181177   6226942\n",
       "37        1         3.0    51       523735   1898021\n",
       "38        1         9.0    37      1653668   3195563"
      ]
     },
     "execution_count": 48,
     "metadata": {},
     "output_type": "execute_result"
    }
   ],
   "source": [
    "# Descriptivo\n",
    "df[df['DEFAULT']==1]"
   ]
  },
  {
   "cell_type": "code",
   "execution_count": 49,
   "metadata": {
    "id": "fF-7WC-0pkJA"
   },
   "outputs": [
    {
     "data": {
      "text/plain": [
       "np.float64(5366430.234615385)"
      ]
     },
     "execution_count": 49,
     "metadata": {},
     "output_type": "execute_result"
    }
   ],
   "source": [
    "df.INGRESOS.mean()"
   ]
  },
  {
   "cell_type": "code",
   "execution_count": 50,
   "metadata": {
    "id": "2t903CsBqUCC"
   },
   "outputs": [
    {
     "data": {
      "text/plain": [
       "np.int64(21563196)"
      ]
     },
     "execution_count": 50,
     "metadata": {},
     "output_type": "execute_result"
    }
   ],
   "source": [
    "## Rango Nota final\n",
    "df.INGRESOS.max()-df.INGRESOS.min()"
   ]
  },
  {
   "cell_type": "code",
   "execution_count": 51,
   "metadata": {
    "id": "rF4-TEIhoNUB"
   },
   "outputs": [
    {
     "data": {
      "text/html": [
       "<div>\n",
       "<style scoped>\n",
       "    .dataframe tbody tr th:only-of-type {\n",
       "        vertical-align: middle;\n",
       "    }\n",
       "\n",
       "    .dataframe tbody tr th {\n",
       "        vertical-align: top;\n",
       "    }\n",
       "\n",
       "    .dataframe thead th {\n",
       "        text-align: right;\n",
       "    }\n",
       "</style>\n",
       "<table border=\"1\" class=\"dataframe\">\n",
       "  <thead>\n",
       "    <tr style=\"text-align: right;\">\n",
       "      <th></th>\n",
       "      <th>DEFAULT</th>\n",
       "      <th>ANTIGUEDAD</th>\n",
       "      <th>EDAD</th>\n",
       "      <th>CUOTA_TOTAL</th>\n",
       "      <th>INGRESOS</th>\n",
       "    </tr>\n",
       "  </thead>\n",
       "  <tbody>\n",
       "    <tr>\n",
       "      <th>0</th>\n",
       "      <td>1</td>\n",
       "      <td>37.0</td>\n",
       "      <td>77</td>\n",
       "      <td>3020519</td>\n",
       "      <td>8155593</td>\n",
       "    </tr>\n",
       "    <tr>\n",
       "      <th>1</th>\n",
       "      <td>1</td>\n",
       "      <td>37.0</td>\n",
       "      <td>74</td>\n",
       "      <td>1766552</td>\n",
       "      <td>6181263</td>\n",
       "    </tr>\n",
       "    <tr>\n",
       "      <th>3</th>\n",
       "      <td>1</td>\n",
       "      <td>10.0</td>\n",
       "      <td>52</td>\n",
       "      <td>668479</td>\n",
       "      <td>5290910</td>\n",
       "    </tr>\n",
       "    <tr>\n",
       "      <th>4</th>\n",
       "      <td>1</td>\n",
       "      <td>8.0</td>\n",
       "      <td>39</td>\n",
       "      <td>1223559</td>\n",
       "      <td>5333818</td>\n",
       "    </tr>\n",
       "    <tr>\n",
       "      <th>9</th>\n",
       "      <td>1</td>\n",
       "      <td>20.0</td>\n",
       "      <td>51</td>\n",
       "      <td>1667409</td>\n",
       "      <td>5633822</td>\n",
       "    </tr>\n",
       "    <tr>\n",
       "      <th>...</th>\n",
       "      <td>...</td>\n",
       "      <td>...</td>\n",
       "      <td>...</td>\n",
       "      <td>...</td>\n",
       "      <td>...</td>\n",
       "    </tr>\n",
       "    <tr>\n",
       "      <th>745</th>\n",
       "      <td>0</td>\n",
       "      <td>12.0</td>\n",
       "      <td>38</td>\n",
       "      <td>849912</td>\n",
       "      <td>5080988</td>\n",
       "    </tr>\n",
       "    <tr>\n",
       "      <th>752</th>\n",
       "      <td>0</td>\n",
       "      <td>9.0</td>\n",
       "      <td>42</td>\n",
       "      <td>2263782</td>\n",
       "      <td>8743959</td>\n",
       "    </tr>\n",
       "    <tr>\n",
       "      <th>773</th>\n",
       "      <td>0</td>\n",
       "      <td>10.0</td>\n",
       "      <td>39</td>\n",
       "      <td>1005867</td>\n",
       "      <td>5477479</td>\n",
       "    </tr>\n",
       "    <tr>\n",
       "      <th>774</th>\n",
       "      <td>0</td>\n",
       "      <td>5.0</td>\n",
       "      <td>41</td>\n",
       "      <td>276959</td>\n",
       "      <td>5203374</td>\n",
       "    </tr>\n",
       "    <tr>\n",
       "      <th>775</th>\n",
       "      <td>0</td>\n",
       "      <td>7.0</td>\n",
       "      <td>36</td>\n",
       "      <td>1088112</td>\n",
       "      <td>5636827</td>\n",
       "    </tr>\n",
       "  </tbody>\n",
       "</table>\n",
       "<p>391 rows × 5 columns</p>\n",
       "</div>"
      ],
      "text/plain": [
       "     DEFAULT  ANTIGUEDAD  EDAD  CUOTA_TOTAL  INGRESOS\n",
       "0          1        37.0    77      3020519   8155593\n",
       "1          1        37.0    74      1766552   6181263\n",
       "3          1        10.0    52       668479   5290910\n",
       "4          1         8.0    39      1223559   5333818\n",
       "9          1        20.0    51      1667409   5633822\n",
       "..       ...         ...   ...          ...       ...\n",
       "745        0        12.0    38       849912   5080988\n",
       "752        0         9.0    42      2263782   8743959\n",
       "773        0        10.0    39      1005867   5477479\n",
       "774        0         5.0    41       276959   5203374\n",
       "775        0         7.0    36      1088112   5636827\n",
       "\n",
       "[391 rows x 5 columns]"
      ]
     },
     "execution_count": 51,
     "metadata": {},
     "output_type": "execute_result"
    }
   ],
   "source": [
    "## Clientes con ingresos mayores a 5 millones\n",
    "df.query(\"INGRESOS>=5000000\")"
   ]
  },
  {
   "cell_type": "code",
   "execution_count": 52,
   "metadata": {
    "id": "D2dMHzpCo3vU"
   },
   "outputs": [
    {
     "ename": "ValueError",
     "evalue": "No objects to concatenate",
     "output_type": "error",
     "traceback": [
      "\u001b[31m---------------------------------------------------------------------------\u001b[39m",
      "\u001b[31mValueError\u001b[39m                                Traceback (most recent call last)",
      "\u001b[36mCell\u001b[39m\u001b[36m \u001b[39m\u001b[32mIn[52]\u001b[39m\u001b[32m, line 2\u001b[39m\n\u001b[32m      1\u001b[39m \u001b[38;5;66;03m# Descriptivos variables cat\u001b[39;00m\n\u001b[32m----> \u001b[39m\u001b[32m2\u001b[39m \u001b[43mdf\u001b[49m\u001b[43m.\u001b[49m\u001b[43mdescribe\u001b[49m\u001b[43m(\u001b[49m\u001b[43minclude\u001b[49m\u001b[43m=\u001b[49m\u001b[43m[\u001b[49m\u001b[33;43m\"\u001b[39;49m\u001b[33;43mO\u001b[39;49m\u001b[33;43m\"\u001b[39;49m\u001b[43m]\u001b[49m\u001b[43m)\u001b[49m\n",
      "\u001b[36mFile \u001b[39m\u001b[32m/workspaces/Manipulaci-n-de-datos-con-pandas/venv/lib/python3.12/site-packages/pandas/core/generic.py:11976\u001b[39m, in \u001b[36mNDFrame.describe\u001b[39m\u001b[34m(self, percentiles, include, exclude)\u001b[39m\n\u001b[32m  11734\u001b[39m \u001b[38;5;129m@final\u001b[39m\n\u001b[32m  11735\u001b[39m \u001b[38;5;28;01mdef\u001b[39;00m\u001b[38;5;250m \u001b[39m\u001b[34mdescribe\u001b[39m(\n\u001b[32m  11736\u001b[39m     \u001b[38;5;28mself\u001b[39m,\n\u001b[32m   (...)\u001b[39m\u001b[32m  11739\u001b[39m     exclude=\u001b[38;5;28;01mNone\u001b[39;00m,\n\u001b[32m  11740\u001b[39m ) -> Self:\n\u001b[32m  11741\u001b[39m \u001b[38;5;250m    \u001b[39m\u001b[33;03m\"\"\"\u001b[39;00m\n\u001b[32m  11742\u001b[39m \u001b[33;03m    Generate descriptive statistics.\u001b[39;00m\n\u001b[32m  11743\u001b[39m \n\u001b[32m   (...)\u001b[39m\u001b[32m  11974\u001b[39m \u001b[33;03m    max            NaN      3.0\u001b[39;00m\n\u001b[32m  11975\u001b[39m \u001b[33;03m    \"\"\"\u001b[39;00m\n\u001b[32m> \u001b[39m\u001b[32m11976\u001b[39m     \u001b[38;5;28;01mreturn\u001b[39;00m \u001b[43mdescribe_ndframe\u001b[49m\u001b[43m(\u001b[49m\n\u001b[32m  11977\u001b[39m \u001b[43m        \u001b[49m\u001b[43mobj\u001b[49m\u001b[43m=\u001b[49m\u001b[38;5;28;43mself\u001b[39;49m\u001b[43m,\u001b[49m\n\u001b[32m  11978\u001b[39m \u001b[43m        \u001b[49m\u001b[43minclude\u001b[49m\u001b[43m=\u001b[49m\u001b[43minclude\u001b[49m\u001b[43m,\u001b[49m\n\u001b[32m  11979\u001b[39m \u001b[43m        \u001b[49m\u001b[43mexclude\u001b[49m\u001b[43m=\u001b[49m\u001b[43mexclude\u001b[49m\u001b[43m,\u001b[49m\n\u001b[32m  11980\u001b[39m \u001b[43m        \u001b[49m\u001b[43mpercentiles\u001b[49m\u001b[43m=\u001b[49m\u001b[43mpercentiles\u001b[49m\u001b[43m,\u001b[49m\n\u001b[32m  11981\u001b[39m \u001b[43m    \u001b[49m\u001b[43m)\u001b[49m.__finalize__(\u001b[38;5;28mself\u001b[39m, method=\u001b[33m\"\u001b[39m\u001b[33mdescribe\u001b[39m\u001b[33m\"\u001b[39m)\n",
      "\u001b[36mFile \u001b[39m\u001b[32m/workspaces/Manipulaci-n-de-datos-con-pandas/venv/lib/python3.12/site-packages/pandas/core/methods/describe.py:97\u001b[39m, in \u001b[36mdescribe_ndframe\u001b[39m\u001b[34m(obj, include, exclude, percentiles)\u001b[39m\n\u001b[32m     90\u001b[39m \u001b[38;5;28;01melse\u001b[39;00m:\n\u001b[32m     91\u001b[39m     describer = DataFrameDescriber(\n\u001b[32m     92\u001b[39m         obj=cast(\u001b[33m\"\u001b[39m\u001b[33mDataFrame\u001b[39m\u001b[33m\"\u001b[39m, obj),\n\u001b[32m     93\u001b[39m         include=include,\n\u001b[32m     94\u001b[39m         exclude=exclude,\n\u001b[32m     95\u001b[39m     )\n\u001b[32m---> \u001b[39m\u001b[32m97\u001b[39m result = \u001b[43mdescriber\u001b[49m\u001b[43m.\u001b[49m\u001b[43mdescribe\u001b[49m\u001b[43m(\u001b[49m\u001b[43mpercentiles\u001b[49m\u001b[43m=\u001b[49m\u001b[43mpercentiles\u001b[49m\u001b[43m)\u001b[49m\n\u001b[32m     98\u001b[39m \u001b[38;5;28;01mreturn\u001b[39;00m cast(NDFrameT, result)\n",
      "\u001b[36mFile \u001b[39m\u001b[32m/workspaces/Manipulaci-n-de-datos-con-pandas/venv/lib/python3.12/site-packages/pandas/core/methods/describe.py:175\u001b[39m, in \u001b[36mDataFrameDescriber.describe\u001b[39m\u001b[34m(self, percentiles)\u001b[39m\n\u001b[32m    172\u001b[39m     ldesc.append(describe_func(series, percentiles))\n\u001b[32m    174\u001b[39m col_names = reorder_columns(ldesc)\n\u001b[32m--> \u001b[39m\u001b[32m175\u001b[39m d = \u001b[43mconcat\u001b[49m\u001b[43m(\u001b[49m\n\u001b[32m    176\u001b[39m \u001b[43m    \u001b[49m\u001b[43m[\u001b[49m\u001b[43mx\u001b[49m\u001b[43m.\u001b[49m\u001b[43mreindex\u001b[49m\u001b[43m(\u001b[49m\u001b[43mcol_names\u001b[49m\u001b[43m,\u001b[49m\u001b[43m \u001b[49m\u001b[43mcopy\u001b[49m\u001b[43m=\u001b[49m\u001b[38;5;28;43;01mFalse\u001b[39;49;00m\u001b[43m)\u001b[49m\u001b[43m \u001b[49m\u001b[38;5;28;43;01mfor\u001b[39;49;00m\u001b[43m \u001b[49m\u001b[43mx\u001b[49m\u001b[43m \u001b[49m\u001b[38;5;129;43;01min\u001b[39;49;00m\u001b[43m \u001b[49m\u001b[43mldesc\u001b[49m\u001b[43m]\u001b[49m\u001b[43m,\u001b[49m\n\u001b[32m    177\u001b[39m \u001b[43m    \u001b[49m\u001b[43maxis\u001b[49m\u001b[43m=\u001b[49m\u001b[32;43m1\u001b[39;49m\u001b[43m,\u001b[49m\n\u001b[32m    178\u001b[39m \u001b[43m    \u001b[49m\u001b[43msort\u001b[49m\u001b[43m=\u001b[49m\u001b[38;5;28;43;01mFalse\u001b[39;49;00m\u001b[43m,\u001b[49m\n\u001b[32m    179\u001b[39m \u001b[43m\u001b[49m\u001b[43m)\u001b[49m\n\u001b[32m    180\u001b[39m d.columns = data.columns.copy()\n\u001b[32m    181\u001b[39m \u001b[38;5;28;01mreturn\u001b[39;00m d\n",
      "\u001b[36mFile \u001b[39m\u001b[32m/workspaces/Manipulaci-n-de-datos-con-pandas/venv/lib/python3.12/site-packages/pandas/core/reshape/concat.py:382\u001b[39m, in \u001b[36mconcat\u001b[39m\u001b[34m(objs, axis, join, ignore_index, keys, levels, names, verify_integrity, sort, copy)\u001b[39m\n\u001b[32m    379\u001b[39m \u001b[38;5;28;01melif\u001b[39;00m copy \u001b[38;5;129;01mand\u001b[39;00m using_copy_on_write():\n\u001b[32m    380\u001b[39m     copy = \u001b[38;5;28;01mFalse\u001b[39;00m\n\u001b[32m--> \u001b[39m\u001b[32m382\u001b[39m op = \u001b[43m_Concatenator\u001b[49m\u001b[43m(\u001b[49m\n\u001b[32m    383\u001b[39m \u001b[43m    \u001b[49m\u001b[43mobjs\u001b[49m\u001b[43m,\u001b[49m\n\u001b[32m    384\u001b[39m \u001b[43m    \u001b[49m\u001b[43maxis\u001b[49m\u001b[43m=\u001b[49m\u001b[43maxis\u001b[49m\u001b[43m,\u001b[49m\n\u001b[32m    385\u001b[39m \u001b[43m    \u001b[49m\u001b[43mignore_index\u001b[49m\u001b[43m=\u001b[49m\u001b[43mignore_index\u001b[49m\u001b[43m,\u001b[49m\n\u001b[32m    386\u001b[39m \u001b[43m    \u001b[49m\u001b[43mjoin\u001b[49m\u001b[43m=\u001b[49m\u001b[43mjoin\u001b[49m\u001b[43m,\u001b[49m\n\u001b[32m    387\u001b[39m \u001b[43m    \u001b[49m\u001b[43mkeys\u001b[49m\u001b[43m=\u001b[49m\u001b[43mkeys\u001b[49m\u001b[43m,\u001b[49m\n\u001b[32m    388\u001b[39m \u001b[43m    \u001b[49m\u001b[43mlevels\u001b[49m\u001b[43m=\u001b[49m\u001b[43mlevels\u001b[49m\u001b[43m,\u001b[49m\n\u001b[32m    389\u001b[39m \u001b[43m    \u001b[49m\u001b[43mnames\u001b[49m\u001b[43m=\u001b[49m\u001b[43mnames\u001b[49m\u001b[43m,\u001b[49m\n\u001b[32m    390\u001b[39m \u001b[43m    \u001b[49m\u001b[43mverify_integrity\u001b[49m\u001b[43m=\u001b[49m\u001b[43mverify_integrity\u001b[49m\u001b[43m,\u001b[49m\n\u001b[32m    391\u001b[39m \u001b[43m    \u001b[49m\u001b[43mcopy\u001b[49m\u001b[43m=\u001b[49m\u001b[43mcopy\u001b[49m\u001b[43m,\u001b[49m\n\u001b[32m    392\u001b[39m \u001b[43m    \u001b[49m\u001b[43msort\u001b[49m\u001b[43m=\u001b[49m\u001b[43msort\u001b[49m\u001b[43m,\u001b[49m\n\u001b[32m    393\u001b[39m \u001b[43m\u001b[49m\u001b[43m)\u001b[49m\n\u001b[32m    395\u001b[39m \u001b[38;5;28;01mreturn\u001b[39;00m op.get_result()\n",
      "\u001b[36mFile \u001b[39m\u001b[32m/workspaces/Manipulaci-n-de-datos-con-pandas/venv/lib/python3.12/site-packages/pandas/core/reshape/concat.py:445\u001b[39m, in \u001b[36m_Concatenator.__init__\u001b[39m\u001b[34m(self, objs, axis, join, keys, levels, names, ignore_index, verify_integrity, copy, sort)\u001b[39m\n\u001b[32m    442\u001b[39m \u001b[38;5;28mself\u001b[39m.verify_integrity = verify_integrity\n\u001b[32m    443\u001b[39m \u001b[38;5;28mself\u001b[39m.copy = copy\n\u001b[32m--> \u001b[39m\u001b[32m445\u001b[39m objs, keys = \u001b[38;5;28;43mself\u001b[39;49m\u001b[43m.\u001b[49m\u001b[43m_clean_keys_and_objs\u001b[49m\u001b[43m(\u001b[49m\u001b[43mobjs\u001b[49m\u001b[43m,\u001b[49m\u001b[43m \u001b[49m\u001b[43mkeys\u001b[49m\u001b[43m)\u001b[49m\n\u001b[32m    447\u001b[39m \u001b[38;5;66;03m# figure out what our result ndim is going to be\u001b[39;00m\n\u001b[32m    448\u001b[39m ndims = \u001b[38;5;28mself\u001b[39m._get_ndims(objs)\n",
      "\u001b[36mFile \u001b[39m\u001b[32m/workspaces/Manipulaci-n-de-datos-con-pandas/venv/lib/python3.12/site-packages/pandas/core/reshape/concat.py:507\u001b[39m, in \u001b[36m_Concatenator._clean_keys_and_objs\u001b[39m\u001b[34m(self, objs, keys)\u001b[39m\n\u001b[32m    504\u001b[39m     objs_list = \u001b[38;5;28mlist\u001b[39m(objs)\n\u001b[32m    506\u001b[39m \u001b[38;5;28;01mif\u001b[39;00m \u001b[38;5;28mlen\u001b[39m(objs_list) == \u001b[32m0\u001b[39m:\n\u001b[32m--> \u001b[39m\u001b[32m507\u001b[39m     \u001b[38;5;28;01mraise\u001b[39;00m \u001b[38;5;167;01mValueError\u001b[39;00m(\u001b[33m\"\u001b[39m\u001b[33mNo objects to concatenate\u001b[39m\u001b[33m\"\u001b[39m)\n\u001b[32m    509\u001b[39m \u001b[38;5;28;01mif\u001b[39;00m keys \u001b[38;5;129;01mis\u001b[39;00m \u001b[38;5;28;01mNone\u001b[39;00m:\n\u001b[32m    510\u001b[39m     objs_list = \u001b[38;5;28mlist\u001b[39m(com.not_none(*objs_list))\n",
      "\u001b[31mValueError\u001b[39m: No objects to concatenate"
     ]
    }
   ],
   "source": [
    "# Descriptivos variables cat\n",
    "df.describe(include=[\"O\"])"
   ]
  },
  {
   "cell_type": "code",
   "execution_count": 53,
   "metadata": {
    "id": "MK7ID2olCZ2F"
   },
   "outputs": [
    {
     "data": {
      "text/plain": [
       "DEFAULT\n",
       "0    741\n",
       "1     39\n",
       "Name: count, dtype: int64"
      ]
     },
     "execution_count": 53,
     "metadata": {},
     "output_type": "execute_result"
    }
   ],
   "source": [
    "df.DEFAULT.value_counts()"
   ]
  },
  {
   "cell_type": "code",
   "execution_count": 54,
   "metadata": {
    "id": "vYyZ1tWBpT-3"
   },
   "outputs": [
    {
     "data": {
      "text/plain": [
       "DEFAULT\n",
       "0    0.95\n",
       "1    0.05\n",
       "Name: proportion, dtype: float64"
      ]
     },
     "execution_count": 54,
     "metadata": {},
     "output_type": "execute_result"
    }
   ],
   "source": [
    "## Porcentaje de clientes que entraron en mora\n",
    "df.DEFAULT.value_counts(normalize=True)"
   ]
  },
  {
   "cell_type": "code",
   "execution_count": 55,
   "metadata": {},
   "outputs": [
    {
     "data": {
      "text/plain": [
       "DEFAULT\n",
       "0    8.688183e+05\n",
       "1    1.196570e+06\n",
       "Name: CUOTA_TOTAL, dtype: float64"
      ]
     },
     "execution_count": 55,
     "metadata": {},
     "output_type": "execute_result"
    }
   ],
   "source": [
    "df.groupby('DEFAULT')['CUOTA_TOTAL'].mean()"
   ]
  },
  {
   "cell_type": "code",
   "execution_count": 56,
   "metadata": {},
   "outputs": [
    {
     "data": {
      "text/plain": [
       "868818.3"
      ]
     },
     "execution_count": 56,
     "metadata": {},
     "output_type": "execute_result"
    }
   ],
   "source": [
    "8.688183e+05"
   ]
  },
  {
   "cell_type": "code",
   "execution_count": 57,
   "metadata": {},
   "outputs": [
    {
     "data": {
      "text/plain": [
       "1196570.0"
      ]
     },
     "execution_count": 57,
     "metadata": {},
     "output_type": "execute_result"
    }
   ],
   "source": [
    "1.196570e+06"
   ]
  },
  {
   "cell_type": "code",
   "execution_count": 58,
   "metadata": {
    "id": "CyU-P6NxCyd8"
   },
   "outputs": [
    {
     "data": {
      "text/html": [
       "<div>\n",
       "<style scoped>\n",
       "    .dataframe tbody tr th:only-of-type {\n",
       "        vertical-align: middle;\n",
       "    }\n",
       "\n",
       "    .dataframe tbody tr th {\n",
       "        vertical-align: top;\n",
       "    }\n",
       "\n",
       "    .dataframe thead th {\n",
       "        text-align: right;\n",
       "    }\n",
       "</style>\n",
       "<table border=\"1\" class=\"dataframe\">\n",
       "  <thead>\n",
       "    <tr style=\"text-align: right;\">\n",
       "      <th></th>\n",
       "      <th>DEFAULT</th>\n",
       "      <th>ANTIGUEDAD</th>\n",
       "      <th>EDAD</th>\n",
       "      <th>CUOTA_TOTAL</th>\n",
       "      <th>INGRESOS</th>\n",
       "    </tr>\n",
       "  </thead>\n",
       "  <tbody>\n",
       "    <tr>\n",
       "      <th>0</th>\n",
       "      <td>1</td>\n",
       "      <td>37.0</td>\n",
       "      <td>77</td>\n",
       "      <td>3020519</td>\n",
       "      <td>8155593</td>\n",
       "    </tr>\n",
       "    <tr>\n",
       "      <th>1</th>\n",
       "      <td>1</td>\n",
       "      <td>37.0</td>\n",
       "      <td>74</td>\n",
       "      <td>1766552</td>\n",
       "      <td>6181263</td>\n",
       "    </tr>\n",
       "    <tr>\n",
       "      <th>2</th>\n",
       "      <td>1</td>\n",
       "      <td>31.0</td>\n",
       "      <td>79</td>\n",
       "      <td>1673786</td>\n",
       "      <td>4328075</td>\n",
       "    </tr>\n",
       "    <tr>\n",
       "      <th>3</th>\n",
       "      <td>1</td>\n",
       "      <td>10.0</td>\n",
       "      <td>52</td>\n",
       "      <td>668479</td>\n",
       "      <td>5290910</td>\n",
       "    </tr>\n",
       "    <tr>\n",
       "      <th>4</th>\n",
       "      <td>1</td>\n",
       "      <td>8.0</td>\n",
       "      <td>39</td>\n",
       "      <td>1223559</td>\n",
       "      <td>5333818</td>\n",
       "    </tr>\n",
       "    <tr>\n",
       "      <th>5</th>\n",
       "      <td>1</td>\n",
       "      <td>7.0</td>\n",
       "      <td>45</td>\n",
       "      <td>3517756</td>\n",
       "      <td>2710736</td>\n",
       "    </tr>\n",
       "    <tr>\n",
       "      <th>6</th>\n",
       "      <td>1</td>\n",
       "      <td>11.0</td>\n",
       "      <td>58</td>\n",
       "      <td>1304790</td>\n",
       "      <td>3169775</td>\n",
       "    </tr>\n",
       "    <tr>\n",
       "      <th>7</th>\n",
       "      <td>1</td>\n",
       "      <td>13.0</td>\n",
       "      <td>57</td>\n",
       "      <td>2095525</td>\n",
       "      <td>4799180</td>\n",
       "    </tr>\n",
       "    <tr>\n",
       "      <th>8</th>\n",
       "      <td>1</td>\n",
       "      <td>7.0</td>\n",
       "      <td>54</td>\n",
       "      <td>204865</td>\n",
       "      <td>2243815</td>\n",
       "    </tr>\n",
       "    <tr>\n",
       "      <th>9</th>\n",
       "      <td>1</td>\n",
       "      <td>20.0</td>\n",
       "      <td>51</td>\n",
       "      <td>1667409</td>\n",
       "      <td>5633822</td>\n",
       "    </tr>\n",
       "    <tr>\n",
       "      <th>10</th>\n",
       "      <td>1</td>\n",
       "      <td>8.0</td>\n",
       "      <td>43</td>\n",
       "      <td>1005258</td>\n",
       "      <td>3169775</td>\n",
       "    </tr>\n",
       "    <tr>\n",
       "      <th>11</th>\n",
       "      <td>1</td>\n",
       "      <td>8.0</td>\n",
       "      <td>54</td>\n",
       "      <td>212033</td>\n",
       "      <td>5371855</td>\n",
       "    </tr>\n",
       "    <tr>\n",
       "      <th>12</th>\n",
       "      <td>1</td>\n",
       "      <td>22.0</td>\n",
       "      <td>60</td>\n",
       "      <td>1645375</td>\n",
       "      <td>5151045</td>\n",
       "    </tr>\n",
       "    <tr>\n",
       "      <th>13</th>\n",
       "      <td>1</td>\n",
       "      <td>10.0</td>\n",
       "      <td>56</td>\n",
       "      <td>791494</td>\n",
       "      <td>4220210</td>\n",
       "    </tr>\n",
       "    <tr>\n",
       "      <th>14</th>\n",
       "      <td>1</td>\n",
       "      <td>3.0</td>\n",
       "      <td>30</td>\n",
       "      <td>34374</td>\n",
       "      <td>4384282</td>\n",
       "    </tr>\n",
       "    <tr>\n",
       "      <th>15</th>\n",
       "      <td>1</td>\n",
       "      <td>21.0</td>\n",
       "      <td>49</td>\n",
       "      <td>902701</td>\n",
       "      <td>2627953</td>\n",
       "    </tr>\n",
       "    <tr>\n",
       "      <th>16</th>\n",
       "      <td>1</td>\n",
       "      <td>34.0</td>\n",
       "      <td>67</td>\n",
       "      <td>1074994</td>\n",
       "      <td>2399995</td>\n",
       "    </tr>\n",
       "    <tr>\n",
       "      <th>17</th>\n",
       "      <td>1</td>\n",
       "      <td>32.0</td>\n",
       "      <td>74</td>\n",
       "      <td>1462352</td>\n",
       "      <td>4460461</td>\n",
       "    </tr>\n",
       "    <tr>\n",
       "      <th>18</th>\n",
       "      <td>1</td>\n",
       "      <td>4.0</td>\n",
       "      <td>35</td>\n",
       "      <td>603047</td>\n",
       "      <td>3757527</td>\n",
       "    </tr>\n",
       "    <tr>\n",
       "      <th>19</th>\n",
       "      <td>1</td>\n",
       "      <td>4.0</td>\n",
       "      <td>41</td>\n",
       "      <td>329206</td>\n",
       "      <td>3255735</td>\n",
       "    </tr>\n",
       "    <tr>\n",
       "      <th>20</th>\n",
       "      <td>1</td>\n",
       "      <td>18.0</td>\n",
       "      <td>52</td>\n",
       "      <td>2627471</td>\n",
       "      <td>6943849</td>\n",
       "    </tr>\n",
       "    <tr>\n",
       "      <th>21</th>\n",
       "      <td>1</td>\n",
       "      <td>36.0</td>\n",
       "      <td>74</td>\n",
       "      <td>3445927</td>\n",
       "      <td>7189661</td>\n",
       "    </tr>\n",
       "    <tr>\n",
       "      <th>22</th>\n",
       "      <td>1</td>\n",
       "      <td>37.0</td>\n",
       "      <td>69</td>\n",
       "      <td>1209747</td>\n",
       "      <td>7989982</td>\n",
       "    </tr>\n",
       "    <tr>\n",
       "      <th>23</th>\n",
       "      <td>1</td>\n",
       "      <td>9.0</td>\n",
       "      <td>60</td>\n",
       "      <td>1818518</td>\n",
       "      <td>5085609</td>\n",
       "    </tr>\n",
       "    <tr>\n",
       "      <th>24</th>\n",
       "      <td>1</td>\n",
       "      <td>4.0</td>\n",
       "      <td>58</td>\n",
       "      <td>258209</td>\n",
       "      <td>1327008</td>\n",
       "    </tr>\n",
       "    <tr>\n",
       "      <th>25</th>\n",
       "      <td>1</td>\n",
       "      <td>11.0</td>\n",
       "      <td>68</td>\n",
       "      <td>1329778</td>\n",
       "      <td>8644666</td>\n",
       "    </tr>\n",
       "    <tr>\n",
       "      <th>26</th>\n",
       "      <td>1</td>\n",
       "      <td>15.0</td>\n",
       "      <td>65</td>\n",
       "      <td>1263232</td>\n",
       "      <td>4859613</td>\n",
       "    </tr>\n",
       "    <tr>\n",
       "      <th>27</th>\n",
       "      <td>1</td>\n",
       "      <td>10.0</td>\n",
       "      <td>59</td>\n",
       "      <td>489521</td>\n",
       "      <td>6285180</td>\n",
       "    </tr>\n",
       "    <tr>\n",
       "      <th>28</th>\n",
       "      <td>1</td>\n",
       "      <td>7.0</td>\n",
       "      <td>53</td>\n",
       "      <td>110540</td>\n",
       "      <td>2206050</td>\n",
       "    </tr>\n",
       "    <tr>\n",
       "      <th>29</th>\n",
       "      <td>1</td>\n",
       "      <td>5.0</td>\n",
       "      <td>48</td>\n",
       "      <td>263526</td>\n",
       "      <td>3033314</td>\n",
       "    </tr>\n",
       "    <tr>\n",
       "      <th>30</th>\n",
       "      <td>1</td>\n",
       "      <td>1.0</td>\n",
       "      <td>50</td>\n",
       "      <td>99768</td>\n",
       "      <td>1020386</td>\n",
       "    </tr>\n",
       "    <tr>\n",
       "      <th>31</th>\n",
       "      <td>1</td>\n",
       "      <td>4.0</td>\n",
       "      <td>36</td>\n",
       "      <td>453171</td>\n",
       "      <td>1963314</td>\n",
       "    </tr>\n",
       "    <tr>\n",
       "      <th>32</th>\n",
       "      <td>1</td>\n",
       "      <td>34.0</td>\n",
       "      <td>69</td>\n",
       "      <td>237104</td>\n",
       "      <td>7282279</td>\n",
       "    </tr>\n",
       "    <tr>\n",
       "      <th>33</th>\n",
       "      <td>1</td>\n",
       "      <td>13.0</td>\n",
       "      <td>45</td>\n",
       "      <td>766539</td>\n",
       "      <td>5083544</td>\n",
       "    </tr>\n",
       "    <tr>\n",
       "      <th>34</th>\n",
       "      <td>1</td>\n",
       "      <td>7.0</td>\n",
       "      <td>48</td>\n",
       "      <td>891949</td>\n",
       "      <td>6469244</td>\n",
       "    </tr>\n",
       "    <tr>\n",
       "      <th>35</th>\n",
       "      <td>1</td>\n",
       "      <td>5.0</td>\n",
       "      <td>65</td>\n",
       "      <td>1838572</td>\n",
       "      <td>8021787</td>\n",
       "    </tr>\n",
       "    <tr>\n",
       "      <th>36</th>\n",
       "      <td>1</td>\n",
       "      <td>11.0</td>\n",
       "      <td>51</td>\n",
       "      <td>2181177</td>\n",
       "      <td>6226942</td>\n",
       "    </tr>\n",
       "    <tr>\n",
       "      <th>37</th>\n",
       "      <td>1</td>\n",
       "      <td>3.0</td>\n",
       "      <td>51</td>\n",
       "      <td>523735</td>\n",
       "      <td>1898021</td>\n",
       "    </tr>\n",
       "    <tr>\n",
       "      <th>38</th>\n",
       "      <td>1</td>\n",
       "      <td>9.0</td>\n",
       "      <td>37</td>\n",
       "      <td>1653668</td>\n",
       "      <td>3195563</td>\n",
       "    </tr>\n",
       "  </tbody>\n",
       "</table>\n",
       "</div>"
      ],
      "text/plain": [
       "    DEFAULT  ANTIGUEDAD  EDAD  CUOTA_TOTAL  INGRESOS\n",
       "0         1        37.0    77      3020519   8155593\n",
       "1         1        37.0    74      1766552   6181263\n",
       "2         1        31.0    79      1673786   4328075\n",
       "3         1        10.0    52       668479   5290910\n",
       "4         1         8.0    39      1223559   5333818\n",
       "5         1         7.0    45      3517756   2710736\n",
       "6         1        11.0    58      1304790   3169775\n",
       "7         1        13.0    57      2095525   4799180\n",
       "8         1         7.0    54       204865   2243815\n",
       "9         1        20.0    51      1667409   5633822\n",
       "10        1         8.0    43      1005258   3169775\n",
       "11        1         8.0    54       212033   5371855\n",
       "12        1        22.0    60      1645375   5151045\n",
       "13        1        10.0    56       791494   4220210\n",
       "14        1         3.0    30        34374   4384282\n",
       "15        1        21.0    49       902701   2627953\n",
       "16        1        34.0    67      1074994   2399995\n",
       "17        1        32.0    74      1462352   4460461\n",
       "18        1         4.0    35       603047   3757527\n",
       "19        1         4.0    41       329206   3255735\n",
       "20        1        18.0    52      2627471   6943849\n",
       "21        1        36.0    74      3445927   7189661\n",
       "22        1        37.0    69      1209747   7989982\n",
       "23        1         9.0    60      1818518   5085609\n",
       "24        1         4.0    58       258209   1327008\n",
       "25        1        11.0    68      1329778   8644666\n",
       "26        1        15.0    65      1263232   4859613\n",
       "27        1        10.0    59       489521   6285180\n",
       "28        1         7.0    53       110540   2206050\n",
       "29        1         5.0    48       263526   3033314\n",
       "30        1         1.0    50        99768   1020386\n",
       "31        1         4.0    36       453171   1963314\n",
       "32        1        34.0    69       237104   7282279\n",
       "33        1        13.0    45       766539   5083544\n",
       "34        1         7.0    48       891949   6469244\n",
       "35        1         5.0    65      1838572   8021787\n",
       "36        1        11.0    51      2181177   6226942\n",
       "37        1         3.0    51       523735   1898021\n",
       "38        1         9.0    37      1653668   3195563"
      ]
     },
     "execution_count": 58,
     "metadata": {},
     "output_type": "execute_result"
    }
   ],
   "source": [
    "# Clientes que entran en default\n",
    "default = df.query('DEFAULT == 1')\n",
    "default"
   ]
  },
  {
   "cell_type": "code",
   "execution_count": 59,
   "metadata": {
    "id": "1bw6EKkJDd-Z"
   },
   "outputs": [
    {
     "data": {
      "text/plain": [
       "np.float64(54.0)"
      ]
     },
     "execution_count": 59,
     "metadata": {},
     "output_type": "execute_result"
    }
   ],
   "source": [
    "default['EDAD'].median()"
   ]
  },
  {
   "cell_type": "code",
   "execution_count": 60,
   "metadata": {},
   "outputs": [
    {
     "data": {
      "text/plain": [
       "np.float64(55.205128205128204)"
      ]
     },
     "execution_count": 60,
     "metadata": {},
     "output_type": "execute_result"
    }
   ],
   "source": [
    "default['EDAD'].mean()"
   ]
  },
  {
   "cell_type": "code",
   "execution_count": 61,
   "metadata": {
    "id": "ApNqivqUDSiE"
   },
   "outputs": [
    {
     "data": {
      "text/html": [
       "<div>\n",
       "<style scoped>\n",
       "    .dataframe tbody tr th:only-of-type {\n",
       "        vertical-align: middle;\n",
       "    }\n",
       "\n",
       "    .dataframe tbody tr th {\n",
       "        vertical-align: top;\n",
       "    }\n",
       "\n",
       "    .dataframe thead th {\n",
       "        text-align: right;\n",
       "    }\n",
       "</style>\n",
       "<table border=\"1\" class=\"dataframe\">\n",
       "  <thead>\n",
       "    <tr style=\"text-align: right;\">\n",
       "      <th></th>\n",
       "      <th>DEFAULT</th>\n",
       "      <th>ANTIGUEDAD</th>\n",
       "      <th>EDAD</th>\n",
       "      <th>CUOTA_TOTAL</th>\n",
       "      <th>INGRESOS</th>\n",
       "    </tr>\n",
       "  </thead>\n",
       "  <tbody>\n",
       "    <tr>\n",
       "      <th>count</th>\n",
       "      <td>39.0</td>\n",
       "      <td>39.000000</td>\n",
       "      <td>39.000000</td>\n",
       "      <td>3.900000e+01</td>\n",
       "      <td>3.900000e+01</td>\n",
       "    </tr>\n",
       "    <tr>\n",
       "      <th>mean</th>\n",
       "      <td>1.0</td>\n",
       "      <td>14.512821</td>\n",
       "      <td>55.205128</td>\n",
       "      <td>1.196570e+06</td>\n",
       "      <td>4.650560e+06</td>\n",
       "    </tr>\n",
       "    <tr>\n",
       "      <th>std</th>\n",
       "      <td>0.0</td>\n",
       "      <td>11.520855</td>\n",
       "      <td>12.431241</td>\n",
       "      <td>9.106725e+05</td>\n",
       "      <td>2.046936e+06</td>\n",
       "    </tr>\n",
       "    <tr>\n",
       "      <th>min</th>\n",
       "      <td>1.0</td>\n",
       "      <td>1.000000</td>\n",
       "      <td>30.000000</td>\n",
       "      <td>3.437400e+04</td>\n",
       "      <td>1.020386e+06</td>\n",
       "    </tr>\n",
       "    <tr>\n",
       "      <th>25%</th>\n",
       "      <td>1.0</td>\n",
       "      <td>7.000000</td>\n",
       "      <td>48.000000</td>\n",
       "      <td>4.713460e+05</td>\n",
       "      <td>3.101544e+06</td>\n",
       "    </tr>\n",
       "    <tr>\n",
       "      <th>50%</th>\n",
       "      <td>1.0</td>\n",
       "      <td>10.000000</td>\n",
       "      <td>54.000000</td>\n",
       "      <td>1.074994e+06</td>\n",
       "      <td>4.799180e+06</td>\n",
       "    </tr>\n",
       "    <tr>\n",
       "      <th>75%</th>\n",
       "      <td>1.0</td>\n",
       "      <td>20.500000</td>\n",
       "      <td>65.000000</td>\n",
       "      <td>1.670598e+06</td>\n",
       "      <td>6.204102e+06</td>\n",
       "    </tr>\n",
       "    <tr>\n",
       "      <th>max</th>\n",
       "      <td>1.0</td>\n",
       "      <td>37.000000</td>\n",
       "      <td>79.000000</td>\n",
       "      <td>3.517756e+06</td>\n",
       "      <td>8.644666e+06</td>\n",
       "    </tr>\n",
       "  </tbody>\n",
       "</table>\n",
       "</div>"
      ],
      "text/plain": [
       "       DEFAULT  ANTIGUEDAD       EDAD   CUOTA_TOTAL      INGRESOS\n",
       "count     39.0   39.000000  39.000000  3.900000e+01  3.900000e+01\n",
       "mean       1.0   14.512821  55.205128  1.196570e+06  4.650560e+06\n",
       "std        0.0   11.520855  12.431241  9.106725e+05  2.046936e+06\n",
       "min        1.0    1.000000  30.000000  3.437400e+04  1.020386e+06\n",
       "25%        1.0    7.000000  48.000000  4.713460e+05  3.101544e+06\n",
       "50%        1.0   10.000000  54.000000  1.074994e+06  4.799180e+06\n",
       "75%        1.0   20.500000  65.000000  1.670598e+06  6.204102e+06\n",
       "max        1.0   37.000000  79.000000  3.517756e+06  8.644666e+06"
      ]
     },
     "execution_count": 61,
     "metadata": {},
     "output_type": "execute_result"
    }
   ],
   "source": [
    "default.describe()"
   ]
  },
  {
   "cell_type": "code",
   "execution_count": 62,
   "metadata": {
    "id": "2j1tmMvqFkCv"
   },
   "outputs": [
    {
     "data": {
      "text/html": [
       "<div>\n",
       "<style scoped>\n",
       "    .dataframe tbody tr th:only-of-type {\n",
       "        vertical-align: middle;\n",
       "    }\n",
       "\n",
       "    .dataframe tbody tr th {\n",
       "        vertical-align: top;\n",
       "    }\n",
       "\n",
       "    .dataframe thead th {\n",
       "        text-align: right;\n",
       "    }\n",
       "</style>\n",
       "<table border=\"1\" class=\"dataframe\">\n",
       "  <thead>\n",
       "    <tr style=\"text-align: right;\">\n",
       "      <th></th>\n",
       "      <th>DEFAULT</th>\n",
       "      <th>ANTIGUEDAD</th>\n",
       "      <th>EDAD</th>\n",
       "      <th>CUOTA_TOTAL</th>\n",
       "      <th>INGRESOS</th>\n",
       "    </tr>\n",
       "  </thead>\n",
       "  <tbody>\n",
       "    <tr>\n",
       "      <th>count</th>\n",
       "      <td>79.000000</td>\n",
       "      <td>79.000000</td>\n",
       "      <td>79.000000</td>\n",
       "      <td>7.900000e+01</td>\n",
       "      <td>7.900000e+01</td>\n",
       "    </tr>\n",
       "    <tr>\n",
       "      <th>mean</th>\n",
       "      <td>0.088608</td>\n",
       "      <td>11.455696</td>\n",
       "      <td>46.772152</td>\n",
       "      <td>1.138339e+06</td>\n",
       "      <td>6.348610e+06</td>\n",
       "    </tr>\n",
       "    <tr>\n",
       "      <th>std</th>\n",
       "      <td>0.285992</td>\n",
       "      <td>5.640507</td>\n",
       "      <td>5.148934</td>\n",
       "      <td>7.415081e+05</td>\n",
       "      <td>1.213119e+06</td>\n",
       "    </tr>\n",
       "    <tr>\n",
       "      <th>min</th>\n",
       "      <td>0.000000</td>\n",
       "      <td>1.000000</td>\n",
       "      <td>30.000000</td>\n",
       "      <td>1.772600e+04</td>\n",
       "      <td>5.038962e+06</td>\n",
       "    </tr>\n",
       "    <tr>\n",
       "      <th>25%</th>\n",
       "      <td>0.000000</td>\n",
       "      <td>7.000000</td>\n",
       "      <td>45.000000</td>\n",
       "      <td>5.827220e+05</td>\n",
       "      <td>5.418435e+06</td>\n",
       "    </tr>\n",
       "    <tr>\n",
       "      <th>50%</th>\n",
       "      <td>0.000000</td>\n",
       "      <td>11.000000</td>\n",
       "      <td>48.000000</td>\n",
       "      <td>1.005867e+06</td>\n",
       "      <td>5.915230e+06</td>\n",
       "    </tr>\n",
       "    <tr>\n",
       "      <th>75%</th>\n",
       "      <td>0.000000</td>\n",
       "      <td>16.000000</td>\n",
       "      <td>51.000000</td>\n",
       "      <td>1.507404e+06</td>\n",
       "      <td>6.872552e+06</td>\n",
       "    </tr>\n",
       "    <tr>\n",
       "      <th>max</th>\n",
       "      <td>1.000000</td>\n",
       "      <td>26.000000</td>\n",
       "      <td>52.000000</td>\n",
       "      <td>3.265902e+06</td>\n",
       "      <td>1.100181e+07</td>\n",
       "    </tr>\n",
       "  </tbody>\n",
       "</table>\n",
       "</div>"
      ],
      "text/plain": [
       "         DEFAULT  ANTIGUEDAD       EDAD   CUOTA_TOTAL      INGRESOS\n",
       "count  79.000000   79.000000  79.000000  7.900000e+01  7.900000e+01\n",
       "mean    0.088608   11.455696  46.772152  1.138339e+06  6.348610e+06\n",
       "std     0.285992    5.640507   5.148934  7.415081e+05  1.213119e+06\n",
       "min     0.000000    1.000000  30.000000  1.772600e+04  5.038962e+06\n",
       "25%     0.000000    7.000000  45.000000  5.827220e+05  5.418435e+06\n",
       "50%     0.000000   11.000000  48.000000  1.005867e+06  5.915230e+06\n",
       "75%     0.000000   16.000000  51.000000  1.507404e+06  6.872552e+06\n",
       "max     1.000000   26.000000  52.000000  3.265902e+06  1.100181e+07"
      ]
     },
     "execution_count": 62,
     "metadata": {},
     "output_type": "execute_result"
    }
   ],
   "source": [
    "## Clientes que Tienen ingresos superiores a 5 millones y edad menor a 53 años\n",
    "df.query('INGRESOS >= 5000000 & EDAD < 53').describe()"
   ]
  },
  {
   "cell_type": "code",
   "execution_count": 63,
   "metadata": {},
   "outputs": [
    {
     "data": {
      "text/html": [
       "<div>\n",
       "<style scoped>\n",
       "    .dataframe tbody tr th:only-of-type {\n",
       "        vertical-align: middle;\n",
       "    }\n",
       "\n",
       "    .dataframe tbody tr th {\n",
       "        vertical-align: top;\n",
       "    }\n",
       "\n",
       "    .dataframe thead th {\n",
       "        text-align: right;\n",
       "    }\n",
       "</style>\n",
       "<table border=\"1\" class=\"dataframe\">\n",
       "  <thead>\n",
       "    <tr style=\"text-align: right;\">\n",
       "      <th></th>\n",
       "      <th>DEFAULT</th>\n",
       "      <th>ANTIGUEDAD</th>\n",
       "      <th>EDAD</th>\n",
       "      <th>CUOTA_TOTAL</th>\n",
       "      <th>INGRESOS</th>\n",
       "    </tr>\n",
       "  </thead>\n",
       "  <tbody>\n",
       "    <tr>\n",
       "      <th>39</th>\n",
       "      <td>0</td>\n",
       "      <td>37.0</td>\n",
       "      <td>85</td>\n",
       "      <td>24115</td>\n",
       "      <td>4697006</td>\n",
       "    </tr>\n",
       "    <tr>\n",
       "      <th>40</th>\n",
       "      <td>0</td>\n",
       "      <td>37.0</td>\n",
       "      <td>72</td>\n",
       "      <td>568986</td>\n",
       "      <td>6893640</td>\n",
       "    </tr>\n",
       "    <tr>\n",
       "      <th>41</th>\n",
       "      <td>0</td>\n",
       "      <td>12.0</td>\n",
       "      <td>92</td>\n",
       "      <td>996039</td>\n",
       "      <td>6004189</td>\n",
       "    </tr>\n",
       "    <tr>\n",
       "      <th>42</th>\n",
       "      <td>0</td>\n",
       "      <td>26.0</td>\n",
       "      <td>81</td>\n",
       "      <td>67383</td>\n",
       "      <td>7089742</td>\n",
       "    </tr>\n",
       "    <tr>\n",
       "      <th>43</th>\n",
       "      <td>0</td>\n",
       "      <td>34.0</td>\n",
       "      <td>68</td>\n",
       "      <td>779160</td>\n",
       "      <td>3333937</td>\n",
       "    </tr>\n",
       "    <tr>\n",
       "      <th>...</th>\n",
       "      <td>...</td>\n",
       "      <td>...</td>\n",
       "      <td>...</td>\n",
       "      <td>...</td>\n",
       "      <td>...</td>\n",
       "    </tr>\n",
       "    <tr>\n",
       "      <th>775</th>\n",
       "      <td>0</td>\n",
       "      <td>7.0</td>\n",
       "      <td>36</td>\n",
       "      <td>1088112</td>\n",
       "      <td>5636827</td>\n",
       "    </tr>\n",
       "    <tr>\n",
       "      <th>776</th>\n",
       "      <td>0</td>\n",
       "      <td>16.0</td>\n",
       "      <td>74</td>\n",
       "      <td>792704</td>\n",
       "      <td>2586380</td>\n",
       "    </tr>\n",
       "    <tr>\n",
       "      <th>777</th>\n",
       "      <td>0</td>\n",
       "      <td>2.0</td>\n",
       "      <td>27</td>\n",
       "      <td>9256</td>\n",
       "      <td>2473929</td>\n",
       "    </tr>\n",
       "    <tr>\n",
       "      <th>778</th>\n",
       "      <td>0</td>\n",
       "      <td>6.0</td>\n",
       "      <td>28</td>\n",
       "      <td>393514</td>\n",
       "      <td>2995706</td>\n",
       "    </tr>\n",
       "    <tr>\n",
       "      <th>779</th>\n",
       "      <td>0</td>\n",
       "      <td>2.0</td>\n",
       "      <td>27</td>\n",
       "      <td>215402</td>\n",
       "      <td>2434817</td>\n",
       "    </tr>\n",
       "  </tbody>\n",
       "</table>\n",
       "<p>741 rows × 5 columns</p>\n",
       "</div>"
      ],
      "text/plain": [
       "     DEFAULT  ANTIGUEDAD  EDAD  CUOTA_TOTAL  INGRESOS\n",
       "39         0        37.0    85        24115   4697006\n",
       "40         0        37.0    72       568986   6893640\n",
       "41         0        12.0    92       996039   6004189\n",
       "42         0        26.0    81        67383   7089742\n",
       "43         0        34.0    68       779160   3333937\n",
       "..       ...         ...   ...          ...       ...\n",
       "775        0         7.0    36      1088112   5636827\n",
       "776        0        16.0    74       792704   2586380\n",
       "777        0         2.0    27         9256   2473929\n",
       "778        0         6.0    28       393514   2995706\n",
       "779        0         2.0    27       215402   2434817\n",
       "\n",
       "[741 rows x 5 columns]"
      ]
     },
     "execution_count": 63,
     "metadata": {},
     "output_type": "execute_result"
    }
   ],
   "source": [
    "default_no = df.query('DEFAULT == 0')\n",
    "default_no"
   ]
  },
  {
   "cell_type": "code",
   "execution_count": 64,
   "metadata": {},
   "outputs": [
    {
     "data": {
      "text/html": [
       "<div>\n",
       "<style scoped>\n",
       "    .dataframe tbody tr th:only-of-type {\n",
       "        vertical-align: middle;\n",
       "    }\n",
       "\n",
       "    .dataframe tbody tr th {\n",
       "        vertical-align: top;\n",
       "    }\n",
       "\n",
       "    .dataframe thead th {\n",
       "        text-align: right;\n",
       "    }\n",
       "</style>\n",
       "<table border=\"1\" class=\"dataframe\">\n",
       "  <thead>\n",
       "    <tr style=\"text-align: right;\">\n",
       "      <th></th>\n",
       "      <th>DEFAULT</th>\n",
       "      <th>ANTIGUEDAD</th>\n",
       "      <th>EDAD</th>\n",
       "      <th>CUOTA_TOTAL</th>\n",
       "      <th>INGRESOS</th>\n",
       "    </tr>\n",
       "  </thead>\n",
       "  <tbody>\n",
       "    <tr>\n",
       "      <th>count</th>\n",
       "      <td>741.0</td>\n",
       "      <td>741.000000</td>\n",
       "      <td>741.000000</td>\n",
       "      <td>7.410000e+02</td>\n",
       "      <td>7.410000e+02</td>\n",
       "    </tr>\n",
       "    <tr>\n",
       "      <th>mean</th>\n",
       "      <td>0.0</td>\n",
       "      <td>18.203779</td>\n",
       "      <td>57.082321</td>\n",
       "      <td>8.688183e+05</td>\n",
       "      <td>5.404108e+06</td>\n",
       "    </tr>\n",
       "    <tr>\n",
       "      <th>std</th>\n",
       "      <td>0.0</td>\n",
       "      <td>11.888004</td>\n",
       "      <td>12.511615</td>\n",
       "      <td>7.272040e+05</td>\n",
       "      <td>2.676045e+06</td>\n",
       "    </tr>\n",
       "    <tr>\n",
       "      <th>min</th>\n",
       "      <td>0.0</td>\n",
       "      <td>0.000000</td>\n",
       "      <td>27.000000</td>\n",
       "      <td>3.870000e+02</td>\n",
       "      <td>6.338250e+05</td>\n",
       "    </tr>\n",
       "    <tr>\n",
       "      <th>25%</th>\n",
       "      <td>0.0</td>\n",
       "      <td>7.000000</td>\n",
       "      <td>48.000000</td>\n",
       "      <td>3.274610e+05</td>\n",
       "      <td>3.622140e+06</td>\n",
       "    </tr>\n",
       "    <tr>\n",
       "      <th>50%</th>\n",
       "      <td>0.0</td>\n",
       "      <td>15.000000</td>\n",
       "      <td>58.000000</td>\n",
       "      <td>6.737670e+05</td>\n",
       "      <td>5.038962e+06</td>\n",
       "    </tr>\n",
       "    <tr>\n",
       "      <th>75%</th>\n",
       "      <td>0.0</td>\n",
       "      <td>31.000000</td>\n",
       "      <td>66.000000</td>\n",
       "      <td>1.230988e+06</td>\n",
       "      <td>6.860759e+06</td>\n",
       "    </tr>\n",
       "    <tr>\n",
       "      <th>max</th>\n",
       "      <td>0.0</td>\n",
       "      <td>37.000000</td>\n",
       "      <td>92.000000</td>\n",
       "      <td>6.664588e+06</td>\n",
       "      <td>2.219702e+07</td>\n",
       "    </tr>\n",
       "  </tbody>\n",
       "</table>\n",
       "</div>"
      ],
      "text/plain": [
       "       DEFAULT  ANTIGUEDAD        EDAD   CUOTA_TOTAL      INGRESOS\n",
       "count    741.0  741.000000  741.000000  7.410000e+02  7.410000e+02\n",
       "mean       0.0   18.203779   57.082321  8.688183e+05  5.404108e+06\n",
       "std        0.0   11.888004   12.511615  7.272040e+05  2.676045e+06\n",
       "min        0.0    0.000000   27.000000  3.870000e+02  6.338250e+05\n",
       "25%        0.0    7.000000   48.000000  3.274610e+05  3.622140e+06\n",
       "50%        0.0   15.000000   58.000000  6.737670e+05  5.038962e+06\n",
       "75%        0.0   31.000000   66.000000  1.230988e+06  6.860759e+06\n",
       "max        0.0   37.000000   92.000000  6.664588e+06  2.219702e+07"
      ]
     },
     "execution_count": 64,
     "metadata": {},
     "output_type": "execute_result"
    }
   ],
   "source": [
    "default_no.describe()"
   ]
  },
  {
   "cell_type": "markdown",
   "metadata": {
    "id": "sAZ4LAZzq8BG"
   },
   "source": [
    "## Visualización de datos"
   ]
  },
  {
   "cell_type": "code",
   "execution_count": 65,
   "metadata": {
    "id": "jnMXE8wPq7it"
   },
   "outputs": [
    {
     "name": "stderr",
     "output_type": "stream",
     "text": [
      "/tmp/ipykernel_6670/1280906142.py:1: UserWarning: \n",
      "\n",
      "`distplot` is a deprecated function and will be removed in seaborn v0.14.0.\n",
      "\n",
      "Please adapt your code to use either `displot` (a figure-level function with\n",
      "similar flexibility) or `histplot` (an axes-level function for histograms).\n",
      "\n",
      "For a guide to updating your code to use the new functions, please see\n",
      "https://gist.github.com/mwaskom/de44147ed2974457ad6372750bbe5751\n",
      "\n",
      "  sns.distplot(df.INGRESOS);\n"
     ]
    },
    {
     "data": {
      "image/png": "[encoded data removed]",
      "text/plain": [
       "<Figure size 640x480 with 1 Axes>"
      ]
     },
     "metadata": {},
     "output_type": "display_data"
    }
   ],
   "source": [
    "sns.distplot(df.INGRESOS);"
   ]
  },
  {
   "cell_type": "code",
   "execution_count": 66,
   "metadata": {
    "id": "9-d8MiUOr3fr"
   },
   "outputs": [
    {
     "data": {
      "text/plain": [
       "np.float64(1.6491926745357246)"
      ]
     },
     "execution_count": 66,
     "metadata": {},
     "output_type": "execute_result"
    }
   ],
   "source": [
    "# Asimetría\n",
    "df.INGRESOS.skew()"
   ]
  },
  {
   "cell_type": "code",
   "execution_count": 67,
   "metadata": {
    "id": "dNH4WqEQvaEi"
   },
   "outputs": [
    {
     "data": {
      "text/plain": [
       "np.float64(6.5336764870393385)"
      ]
     },
     "execution_count": 67,
     "metadata": {},
     "output_type": "execute_result"
    }
   ],
   "source": [
    "# Curtosis\n",
    "df.INGRESOS.kurtosis()"
   ]
  },
  {
   "cell_type": "code",
   "execution_count": 68,
   "metadata": {
    "id": "hfvczKOmsW5z"
   },
   "outputs": [
    {
     "name": "stderr",
     "output_type": "stream",
     "text": [
      "/tmp/ipykernel_6670/1354736954.py:1: UserWarning: \n",
      "\n",
      "`distplot` is a deprecated function and will be removed in seaborn v0.14.0.\n",
      "\n",
      "Please adapt your code to use either `displot` (a figure-level function with\n",
      "similar flexibility) or `histplot` (an axes-level function for histograms).\n",
      "\n",
      "For a guide to updating your code to use the new functions, please see\n",
      "https://gist.github.com/mwaskom/de44147ed2974457ad6372750bbe5751\n",
      "\n",
      "  sns.distplot(df.EDAD);\n"
     ]
    },
    {
     "data": {
      "image/png": "[encoded data removed]",
      "text/plain": [
       "<Figure size 640x480 with 1 Axes>"
      ]
     },
     "metadata": {},
     "output_type": "display_data"
    }
   ],
   "source": [
    "sns.distplot(df.EDAD);"
   ]
  },
  {
   "cell_type": "code",
   "execution_count": 69,
   "metadata": {
    "id": "rXK6dk6IsjzD"
   },
   "outputs": [
    {
     "data": {
      "text/plain": [
       "np.float64(-0.11807139356522542)"
      ]
     },
     "execution_count": 69,
     "metadata": {},
     "output_type": "execute_result"
    }
   ],
   "source": [
    "# Asimetría\n",
    "df.EDAD.skew()"
   ]
  },
  {
   "cell_type": "code",
   "execution_count": 70,
   "metadata": {
    "id": "m_e3e-sxwICl"
   },
   "outputs": [
    {
     "data": {
      "text/plain": [
       "np.float64(-0.5466344388997602)"
      ]
     },
     "execution_count": 70,
     "metadata": {},
     "output_type": "execute_result"
    }
   ],
   "source": [
    "df.EDAD.kurtosis()"
   ]
  },
  {
   "cell_type": "code",
   "execution_count": 71,
   "metadata": {
    "id": "RzHLAeRGwXpY"
   },
   "outputs": [
    {
     "data": {
      "image/png": "[encoded data removed]",
      "text/plain": [
       "<Figure size 640x480 with 1 Axes>"
      ]
     },
     "metadata": {},
     "output_type": "display_data"
    }
   ],
   "source": [
    "## Cajas y bigotes\n",
    "\n",
    "plt.boxplot(df[['INGRESOS']],vert=True,patch_artist=True);"
   ]
  },
  {
   "cell_type": "code",
   "execution_count": null,
   "metadata": {
    "id": "oA0d1fu4sy35"
   },
   "outputs": [
    {
     "name": "stderr",
     "output_type": "stream",
     "text": [
      "/workspaces/Manipulaci-n-de-datos-con-pandas/venv/lib/python3.12/site-packages/pandas/plotting/_matplotlib/core.py:1351: UserWarning: No data for colormapping provided via 'c'. Parameters 'cmap' will be ignored\n",
      "  scatter = ax.scatter(\n"
     ]
    },
    {
     "data": {
      "image/png": "[encoded data removed]",
      "text/plain": [
       "<Figure size 640x480 with 1 Axes>"
      ]
     },
     "metadata": {},
     "output_type": "display_data"
    }
   ],
   "source": [
    "## Relación entre Ingresos y cuota final\n",
    "df.plot.scatter(x='INGRESOS',y='CUOTA_TOTAL',cmap='coolwarm');"
   ]
  },
  {
   "cell_type": "code",
   "execution_count": 73,
   "metadata": {
    "id": "W9Q9hHG5uvnB"
   },
   "outputs": [
    {
     "data": {
      "text/plain": [
       "np.float64(0.3613627067049476)"
      ]
     },
     "execution_count": 73,
     "metadata": {},
     "output_type": "execute_result"
    }
   ],
   "source": [
    "## Correlación\n",
    "df.CUOTA_TOTAL.corr(df.INGRESOS)"
   ]
  },
  {
   "cell_type": "code",
   "execution_count": 74,
   "metadata": {
    "id": "HRMOee4NzZk0"
   },
   "outputs": [
    {
     "data": {
      "image/png": "[encoded data removed]",
      "text/plain": [
       "<Figure size 640x480 with 1 Axes>"
      ]
     },
     "metadata": {},
     "output_type": "display_data"
    }
   ],
   "source": [
    "df['DEFAULT'].value_counts().plot.bar();"
   ]
  }
 ],
 "metadata": {
  "colab": {
   "provenance": []
  },
  "kernelspec": {
   "display_name": "venv",
   "language": "python",
   "name": "python3"
  },
  "language_info": {
   "codemirror_mode": {
    "name": "ipython",
    "version": 3
   },
   "file_extension": ".py",
   "mimetype": "text/x-python",
   "name": "python",
   "nbconvert_exporter": "python",
   "pygments_lexer": "ipython3",
   "version": "3.12.1"
  }
 },
 "nbformat": 4,
 "nbformat_minor": 0
}
